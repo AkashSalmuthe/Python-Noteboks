{
  "nbformat": 4,
  "nbformat_minor": 0,
  "metadata": {
    "colab": {
      "name": "Dictionary Manipualtion.ipynb",
      "provenance": [],
      "collapsed_sections": [],
      "authorship_tag": "ABX9TyPCk4gcsLMgB1p4DeiyKmz1",
      "include_colab_link": true
    },
    "kernelspec": {
      "name": "python3",
      "display_name": "Python 3"
    },
    "language_info": {
      "name": "python"
    }
  },
  "cells": [
    {
      "cell_type": "markdown",
      "metadata": {
        "id": "view-in-github",
        "colab_type": "text"
      },
      "source": [
        "<a href=\"https://colab.research.google.com/github/AkashSalmuthe/Python-Noteboks/blob/main/Dictionary_Manipualtion.ipynb\" target=\"_parent\"><img src=\"https://colab.research.google.com/assets/colab-badge.svg\" alt=\"Open In Colab\"/></a>"
      ]
    },
    {
      "cell_type": "markdown",
      "source": [
        "# **Starting With Dictionory**"
      ],
      "metadata": {
        "id": "NWiRCke1Etwl"
      }
    },
    {
      "cell_type": "code",
      "source": [
        "MLB_Team = {'Colorado':\"Rockiew\",\n",
        "            'Boston': \"Red Sox\",\n",
        "            'Minnesota': 'Twins',\n",
        "            'Milwaukee': 'Brewers',\n",
        "            'Seattle'  : 'Mariners'}\n",
        "    \n",
        "print(MLB_Team)"
      ],
      "metadata": {
        "colab": {
          "base_uri": "https://localhost:8080/"
        },
        "id": "x6Zv5IXCE5O4",
        "outputId": "c7330677-0c06-4055-cfe7-24a40f10014e"
      },
      "execution_count": 3,
      "outputs": [
        {
          "output_type": "stream",
          "name": "stdout",
          "text": [
            "{'Colorado': 'Rockiew', 'Boston': 'Red Sox', 'Minnesota': 'Twins', 'Milwaukee': 'Brewers', 'Seattle': 'Mariners'}\n"
          ]
        }
      ]
    },
    {
      "cell_type": "code",
      "source": [
        "MLB_team = dict([('Colorado', 'Rockies'),\n",
        "                 ('Boston', 'Red Sox'),\n",
        "                 ('Minnesota', 'Twins'),\n",
        "                 ('Milwaukee', 'Brewers'),\n",
        "                 ('Seattle', 'Mariners')])"
      ],
      "metadata": {
        "id": "Po1ZTWPMFb39"
      },
      "execution_count": 4,
      "outputs": []
    },
    {
      "cell_type": "code",
      "source": [
        "MLB_team"
      ],
      "metadata": {
        "colab": {
          "base_uri": "https://localhost:8080/"
        },
        "id": "SDlg4tOiFs8L",
        "outputId": "5d308813-637c-4cf0-baec-a98a4a7560f1"
      },
      "execution_count": 5,
      "outputs": [
        {
          "output_type": "execute_result",
          "data": {
            "text/plain": [
              "{'Boston': 'Red Sox',\n",
              " 'Colorado': 'Rockies',\n",
              " 'Milwaukee': 'Brewers',\n",
              " 'Minnesota': 'Twins',\n",
              " 'Seattle': 'Mariners'}"
            ]
          },
          "metadata": {},
          "execution_count": 5
        }
      ]
    },
    {
      "cell_type": "markdown",
      "source": [
        "## **Accessing Dictionary Values**"
      ],
      "metadata": {
        "id": "YYUPC7kTGDgk"
      }
    },
    {
      "cell_type": "markdown",
      "source": [
        "Of course, dictionary elements must be accessible somehow. If you don’t get them by index, then how do you get them?\n",
        "\n",
        "A value is retrieved from a dictionary by specifying its corresponding key in square brackets ([]):"
      ],
      "metadata": {
        "id": "3eTeAZ3OGHSE"
      }
    },
    {
      "cell_type": "code",
      "source": [
        "MLB_team['Minnesota']"
      ],
      "metadata": {
        "colab": {
          "base_uri": "https://localhost:8080/",
          "height": 35
        },
        "id": "XIrvRoZFF26U",
        "outputId": "744f01b0-3f53-43c5-c7c6-9d78a9b416c5"
      },
      "execution_count": 6,
      "outputs": [
        {
          "output_type": "execute_result",
          "data": {
            "text/plain": [
              "'Twins'"
            ],
            "application/vnd.google.colaboratory.intrinsic+json": {
              "type": "string"
            }
          },
          "metadata": {},
          "execution_count": 6
        }
      ]
    },
    {
      "cell_type": "markdown",
      "source": [
        "If you refer to a key that is not in the dictionary, Python raises an exception:"
      ],
      "metadata": {
        "id": "uhDRnH_-Gsrc"
      }
    },
    {
      "cell_type": "code",
      "source": [
        "MLB_team['Delhi']"
      ],
      "metadata": {
        "colab": {
          "base_uri": "https://localhost:8080/",
          "height": 165
        },
        "id": "A-tZEk6ZGoba",
        "outputId": "4813567a-eb52-4b1e-f009-deb190d1bf5f"
      },
      "execution_count": 7,
      "outputs": [
        {
          "output_type": "error",
          "ename": "KeyError",
          "evalue": "ignored",
          "traceback": [
            "\u001b[0;31m---------------------------------------------------------------------------\u001b[0m",
            "\u001b[0;31mKeyError\u001b[0m                                  Traceback (most recent call last)",
            "\u001b[0;32m<ipython-input-7-4a0e4f85f6aa>\u001b[0m in \u001b[0;36m<module>\u001b[0;34m()\u001b[0m\n\u001b[0;32m----> 1\u001b[0;31m \u001b[0mMLB_team\u001b[0m\u001b[0;34m[\u001b[0m\u001b[0;34m'Delhi'\u001b[0m\u001b[0;34m]\u001b[0m\u001b[0;34m\u001b[0m\u001b[0;34m\u001b[0m\u001b[0m\n\u001b[0m",
            "\u001b[0;31mKeyError\u001b[0m: 'Delhi'"
          ]
        }
      ]
    },
    {
      "cell_type": "markdown",
      "source": [
        "Adding an entry to an existing dictionary is simply a matter of assigning a new key and value:"
      ],
      "metadata": {
        "id": "S-bPzTz3G3Si"
      }
    },
    {
      "cell_type": "code",
      "source": [
        "MLB_team['Kansas City'] = 'Royals'"
      ],
      "metadata": {
        "id": "RkqCIroqGxkx"
      },
      "execution_count": 8,
      "outputs": []
    },
    {
      "cell_type": "code",
      "source": [
        "MLB_team"
      ],
      "metadata": {
        "colab": {
          "base_uri": "https://localhost:8080/"
        },
        "id": "v01Rh_nyG8YD",
        "outputId": "4cb7b14b-931b-4062-9f4f-8b983e00c05d"
      },
      "execution_count": 9,
      "outputs": [
        {
          "output_type": "execute_result",
          "data": {
            "text/plain": [
              "{'Boston': 'Red Sox',\n",
              " 'Colorado': 'Rockies',\n",
              " 'Kansas City': 'Royals',\n",
              " 'Milwaukee': 'Brewers',\n",
              " 'Minnesota': 'Twins',\n",
              " 'Seattle': 'Mariners'}"
            ]
          },
          "metadata": {},
          "execution_count": 9
        }
      ]
    },
    {
      "cell_type": "markdown",
      "source": [
        "If you want to update an entry, you can just assign a new value to an existing key:"
      ],
      "metadata": {
        "id": "UonF8nSkHFa6"
      }
    },
    {
      "cell_type": "code",
      "source": [
        "MLB_team['Seattle'] = 'Seahawks'"
      ],
      "metadata": {
        "id": "ZK5qoMWMG_yP"
      },
      "execution_count": 10,
      "outputs": []
    },
    {
      "cell_type": "code",
      "source": [
        "MLB_team['Seattle']"
      ],
      "metadata": {
        "colab": {
          "base_uri": "https://localhost:8080/",
          "height": 35
        },
        "id": "Ez5DgimFHLf5",
        "outputId": "804c9e6d-8883-4e70-c763-9144eb7fd62b"
      },
      "execution_count": 11,
      "outputs": [
        {
          "output_type": "execute_result",
          "data": {
            "text/plain": [
              "'Seahawks'"
            ],
            "application/vnd.google.colaboratory.intrinsic+json": {
              "type": "string"
            }
          },
          "metadata": {},
          "execution_count": 11
        }
      ]
    },
    {
      "cell_type": "markdown",
      "source": [
        "## **Dictionary Keys vs. List Indices**"
      ],
      "metadata": {
        "id": "-LoMihzjHTM4"
      }
    },
    {
      "cell_type": "code",
      "source": [
        ""
      ],
      "metadata": {
        "id": "5oucy1xpHPqo"
      },
      "execution_count": null,
      "outputs": []
    }
  ]
}