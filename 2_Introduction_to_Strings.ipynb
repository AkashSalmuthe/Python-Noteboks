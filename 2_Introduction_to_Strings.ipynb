{
  "nbformat": 4,
  "nbformat_minor": 0,
  "metadata": {
    "kernelspec": {
      "display_name": "Python 3",
      "language": "python",
      "name": "python3"
    },
    "language_info": {
      "codemirror_mode": {
        "name": "ipython",
        "version": 3
      },
      "file_extension": ".py",
      "mimetype": "text/x-python",
      "name": "python",
      "nbconvert_exporter": "python",
      "pygments_lexer": "ipython3",
      "version": "3.7.4"
    },
    "colab": {
      "name": "2. Introduction to Strings.ipynb",
      "provenance": [],
      "collapsed_sections": [
        "6XqIFlaYmr1H",
        "EhEAYjRnmr1U",
        "03n7vTXRmr2E",
        "cF2zYtzdmr2G",
        "Uk9EwCKRmr2L",
        "ikQx6g8tmr2P",
        "YPKnWGBFmr2k",
        "-Q_dsma-mr2t",
        "uOh2_4hKmr24",
        "B6x3RSMkmr3A"
      ],
      "include_colab_link": true
    }
  },
  "cells": [
    {
      "cell_type": "markdown",
      "metadata": {
        "id": "view-in-github",
        "colab_type": "text"
      },
      "source": [
        "<a href=\"https://colab.research.google.com/github/AkashSalmuthe/Python-Noteboks/blob/main/2_Introduction_to_Strings.ipynb\" target=\"_parent\"><img src=\"https://colab.research.google.com/assets/colab-badge.svg\" alt=\"Open In Colab\"/></a>"
      ]
    },
    {
      "cell_type": "markdown",
      "metadata": {
        "id": "tdT_IP3Pmr0m"
      },
      "source": [
        "## Introduction to Strings "
      ]
    },
    {
      "cell_type": "markdown",
      "metadata": {
        "id": "i_QBxEJymr0n"
      },
      "source": [
        "* Strings are used in Python to record text information, such as names. It could either be a word, a phrase, a sentence, a paragraph or an entire encyclopedia. Strings in Python are actually a *sequence*, which     basically means Python keeps track of every element in the string as a sequence. For example, Python understands the string \"joker' to be a sequence of letters in a specific order. This means we will be able to use indexing to grab particular letters (like the first letter, or the last letter).\n",
        "\n",
        "\n",
        "* This idea of a sequence is an important one in Python and we will touch upon it later on in the future."
      ]
    },
    {
      "cell_type": "markdown",
      "metadata": {
        "id": "w_7O10QKmr0o"
      },
      "source": [
        "###  Creating a String\n",
        "* To create a string in Python you need to use either single quotes or double quotes. For example:"
      ]
    },
    {
      "cell_type": "code",
      "metadata": {
        "id": "XMd1nYlKmr0p",
        "colab": {
          "base_uri": "https://localhost:8080/",
          "height": 35
        },
        "outputId": "973919b8-0e7b-480a-af53-0c3217218623"
      },
      "source": [
        "# Single word\n",
        "\n",
        "my_first_string= 'algebra'\n",
        "my_first_string"
      ],
      "execution_count": 1,
      "outputs": [
        {
          "output_type": "execute_result",
          "data": {
            "application/vnd.google.colaboratory.intrinsic+json": {
              "type": "string"
            },
            "text/plain": [
              "'algebra'"
            ]
          },
          "metadata": {},
          "execution_count": 1
        }
      ]
    },
    {
      "cell_type": "code",
      "metadata": {
        "id": "iaz2basTmr0t",
        "colab": {
          "base_uri": "https://localhost:8080/"
        },
        "outputId": "2c7ee215-987e-4b71-8d0b-651bb6a31139"
      },
      "source": [
        "# Entire phrase \n",
        "phrase = 'Statistics sits at the heart of machine learning'\n",
        "print(phrase)"
      ],
      "execution_count": 2,
      "outputs": [
        {
          "output_type": "stream",
          "name": "stdout",
          "text": [
            "Statistics sits at the heart of machine learning\n"
          ]
        }
      ]
    },
    {
      "cell_type": "code",
      "metadata": {
        "colab": {
          "base_uri": "https://localhost:8080/"
        },
        "id": "HElQZWE569tQ",
        "outputId": "4f83db89-45f4-42e0-9e71-ef9302197570"
      },
      "source": [
        "# Statement to get the type of the variable\n",
        "type(phrase)"
      ],
      "execution_count": 3,
      "outputs": [
        {
          "output_type": "execute_result",
          "data": {
            "text/plain": [
              "str"
            ]
          },
          "metadata": {},
          "execution_count": 3
        }
      ]
    },
    {
      "cell_type": "code",
      "metadata": {
        "id": "r77SuNlPmr0v",
        "colab": {
          "base_uri": "https://localhost:8080/"
        },
        "outputId": "1c95d6a1-7019-423b-a9f8-a79c19a0ea09"
      },
      "source": [
        "# We can also use double quote\n",
        "my_string = \"String built with double quotes\"\n",
        "print(my_string)   # Use the print command "
      ],
      "execution_count": 4,
      "outputs": [
        {
          "output_type": "stream",
          "name": "stdout",
          "text": [
            "String built with double quotes\n"
          ]
        }
      ]
    },
    {
      "cell_type": "code",
      "metadata": {
        "id": "RZj7MWrMmr0y",
        "colab": {
          "base_uri": "https://localhost:8080/",
          "height": 130
        },
        "outputId": "c4f75736-cca8-440f-f174-8513160f2e4c"
      },
      "source": [
        "# Be careful with quotes!\n",
        "sentence= 'I'm using single quotes, but this will create an error'\n",
        "print(sentence)"
      ],
      "execution_count": 5,
      "outputs": [
        {
          "output_type": "error",
          "ename": "SyntaxError",
          "evalue": "ignored",
          "traceback": [
            "\u001b[0;36m  File \u001b[0;32m\"<ipython-input-5-5e7b6d7da870>\"\u001b[0;36m, line \u001b[0;32m2\u001b[0m\n\u001b[0;31m    sentence= 'I'm using single quotes, but this will create an error'\u001b[0m\n\u001b[0m                 ^\u001b[0m\n\u001b[0;31mSyntaxError\u001b[0m\u001b[0;31m:\u001b[0m invalid syntax\n"
          ]
        }
      ]
    },
    {
      "cell_type": "markdown",
      "metadata": {
        "id": "Xn10egj7mr00"
      },
      "source": [
        "* The reason for the error above is because the single quote in <code>I'm</code> stopped the string. You can use combinations of double and single quotes to get the complete statement."
      ]
    },
    {
      "cell_type": "code",
      "metadata": {
        "id": "SyVPr5ACmr00",
        "colab": {
          "base_uri": "https://localhost:8080/"
        },
        "outputId": "5bf83096-6879-4e07-d3ee-f9a63f2010c3"
      },
      "source": [
        "sentence= \"I'm using single quotes, but this will create an error\"\n",
        "print(sentence)"
      ],
      "execution_count": 6,
      "outputs": [
        {
          "output_type": "stream",
          "name": "stdout",
          "text": [
            "I'm using single quotes, but this will create an error\n"
          ]
        }
      ]
    },
    {
      "cell_type": "code",
      "metadata": {
        "id": "QNrQSfSMdJqu",
        "colab": {
          "base_uri": "https://localhost:8080/"
        },
        "outputId": "014f8138-ecf3-4cb1-8c17-69d87ba91038"
      },
      "source": [
        "hashtag = \"#\"\n",
        "print(hashtag)"
      ],
      "execution_count": 7,
      "outputs": [
        {
          "output_type": "stream",
          "name": "stdout",
          "text": [
            "#\n"
          ]
        }
      ]
    },
    {
      "cell_type": "code",
      "metadata": {
        "colab": {
          "base_uri": "https://localhost:8080/"
        },
        "id": "G9N2tqNI9Uv5",
        "outputId": "339608b9-b121-4963-b2d0-a1501d7c8f0b"
      },
      "source": [
        "type(hashtag)"
      ],
      "execution_count": 8,
      "outputs": [
        {
          "output_type": "execute_result",
          "data": {
            "text/plain": [
              "str"
            ]
          },
          "metadata": {},
          "execution_count": 8
        }
      ]
    },
    {
      "cell_type": "markdown",
      "metadata": {
        "id": "xuXCjPSGmr04"
      },
      "source": [
        "### How to print strings"
      ]
    },
    {
      "cell_type": "markdown",
      "metadata": {
        "id": "is3z5n_lmr04"
      },
      "source": [
        "* Using Jupyter notebook with just a string in a cell will automatically output strings, but the correct way to display strings in your output is by using a print function."
      ]
    },
    {
      "cell_type": "code",
      "metadata": {
        "id": "yBTUPuy1mr05",
        "colab": {
          "base_uri": "https://localhost:8080/",
          "height": 35
        },
        "outputId": "bcaa0747-a521-4831-b1ed-e9d5ad94e3c3"
      },
      "source": [
        "# We can simply declare a string\n",
        "'Deep Learning'"
      ],
      "execution_count": 9,
      "outputs": [
        {
          "output_type": "execute_result",
          "data": {
            "application/vnd.google.colaboratory.intrinsic+json": {
              "type": "string"
            },
            "text/plain": [
              "'Deep Learning'"
            ]
          },
          "metadata": {},
          "execution_count": 9
        }
      ]
    },
    {
      "cell_type": "code",
      "metadata": {
        "id": "zT7Fa4THmr08",
        "colab": {
          "base_uri": "https://localhost:8080/",
          "height": 35
        },
        "outputId": "8a307ee2-f231-4d0e-f829-0f390a8fca6a"
      },
      "source": [
        "# Note that we can't output multiple strings this way\n",
        "'Linear Algebra'\n",
        "'Calculus'"
      ],
      "execution_count": 10,
      "outputs": [
        {
          "output_type": "execute_result",
          "data": {
            "application/vnd.google.colaboratory.intrinsic+json": {
              "type": "string"
            },
            "text/plain": [
              "'Calculus'"
            ]
          },
          "metadata": {},
          "execution_count": 10
        }
      ]
    },
    {
      "cell_type": "markdown",
      "metadata": {
        "id": "r0F7SS9Smr0_"
      },
      "source": [
        "### We can use the <code>print()</code> statement to print a string."
      ]
    },
    {
      "cell_type": "code",
      "metadata": {
        "id": "eBQY27Yrmr1A",
        "colab": {
          "base_uri": "https://localhost:8080/"
        },
        "outputId": "398816c9-d5a4-4a36-f05b-3928bfb094d3"
      },
      "source": [
        "# print('Linear Algebra')\n",
        "# print('Calculus')\n",
        "print('Use \\n to print a new line')\n",
        "print('\\n')\n",
        "print('See what \\n I mean?')"
      ],
      "execution_count": 11,
      "outputs": [
        {
          "output_type": "stream",
          "name": "stdout",
          "text": [
            "Use \n",
            " to print a new line\n",
            "\n",
            "\n",
            "See what \n",
            " I mean?\n"
          ]
        }
      ]
    },
    {
      "cell_type": "markdown",
      "metadata": {
        "id": "vlVtl911mr1D"
      },
      "source": [
        "## Playing with strings"
      ]
    },
    {
      "cell_type": "markdown",
      "metadata": {
        "id": "vjXDmhwLmr1D"
      },
      "source": [
        "* We can also use a function called <code>len()</code> to check the length of a string!"
      ]
    },
    {
      "cell_type": "code",
      "metadata": {
        "id": "otU_-I1Bmr1E",
        "colab": {
          "base_uri": "https://localhost:8080/"
        },
        "outputId": "6f0e3ced-c0d5-439c-b3ca-3fdf75bc2155"
      },
      "source": [
        "algo = 'regres sion '\n",
        "len(algo)"
      ],
      "execution_count": 12,
      "outputs": [
        {
          "output_type": "execute_result",
          "data": {
            "text/plain": [
              "12"
            ]
          },
          "metadata": {},
          "execution_count": 12
        }
      ]
    },
    {
      "cell_type": "markdown",
      "metadata": {
        "id": "wVMqyh4Gmr1G"
      },
      "source": [
        "### <b> Python's built-in len() function counts all of the characters in the string, including spaces and punctuation. </b>"
      ]
    },
    {
      "cell_type": "markdown",
      "metadata": {
        "id": "6XqIFlaYmr1H"
      },
      "source": [
        "### <u> String Indexing </u>\n",
        "\n",
        "* We know strings are a sequence, which means Python can use indexes to call parts of the sequence.\n",
        "\n",
        "\n",
        "* A string index refers to the location of an element present in a string.\n",
        "\n",
        "\n",
        "* The indexing begins from 0 in Python. \n",
        "\n",
        "\n",
        "* The first element is assigned an index 0, the second element is assigned an index of 1 and so on and so forth.\n",
        "\n",
        "\n",
        "* In Python, we use brackets <code>[]</code> after an object to call its index."
      ]
    },
    {
      "cell_type": "code",
      "metadata": {
        "id": "W1aqQ0DQmr1H"
      },
      "source": [
        "# Assign string as a string\n",
        "string  = 'Principal Component Analysis!'"
      ],
      "execution_count": 13,
      "outputs": []
    },
    {
      "cell_type": "code",
      "metadata": {
        "id": "Vx4emEz2mr1K",
        "colab": {
          "base_uri": "https://localhost:8080/"
        },
        "outputId": "e462466f-487f-4299-80b6-dbfae87b1c1c"
      },
      "source": [
        "# Print the object\n",
        "print(string) "
      ],
      "execution_count": 14,
      "outputs": [
        {
          "output_type": "stream",
          "name": "stdout",
          "text": [
            "Principal Component Analysis!\n"
          ]
        }
      ]
    },
    {
      "cell_type": "markdown",
      "metadata": {
        "id": "rHxN8nKNmr1N"
      },
      "source": [
        "* Let's start indexing!"
      ]
    },
    {
      "cell_type": "code",
      "metadata": {
        "id": "8hmOB4UOmr1O",
        "colab": {
          "base_uri": "https://localhost:8080/"
        },
        "outputId": "d75bf069-3c79-4923-ada1-08d50dc146e4"
      },
      "source": [
        "# Show first element (in this case a letter)\n",
        "print(string[5])"
      ],
      "execution_count": 15,
      "outputs": [
        {
          "output_type": "stream",
          "name": "stdout",
          "text": [
            "i\n"
          ]
        }
      ]
    },
    {
      "cell_type": "code",
      "metadata": {
        "id": "_-ut3Whcmr1Q",
        "colab": {
          "base_uri": "https://localhost:8080/"
        },
        "outputId": "6b54941b-3ba8-4555-a04a-baae6b08d28c"
      },
      "source": [
        "print(string[15])"
      ],
      "execution_count": 16,
      "outputs": [
        {
          "output_type": "stream",
          "name": "stdout",
          "text": [
            "n\n"
          ]
        }
      ]
    },
    {
      "cell_type": "code",
      "metadata": {
        "id": "fQsgVUr8icwU",
        "colab": {
          "base_uri": "https://localhost:8080/"
        },
        "outputId": "0a36806b-8165-46cb-d819-47287d7cc501"
      },
      "source": [
        "len(string)"
      ],
      "execution_count": 17,
      "outputs": [
        {
          "output_type": "execute_result",
          "data": {
            "text/plain": [
              "29"
            ]
          },
          "metadata": {},
          "execution_count": 17
        }
      ]
    },
    {
      "cell_type": "code",
      "metadata": {
        "id": "AdYupakmmr1S",
        "colab": {
          "base_uri": "https://localhost:8080/"
        },
        "outputId": "b8907726-69b4-42e3-ad61-b29abc6a4398"
      },
      "source": [
        "# Grab the element at the index -1, which is the LAST element\n",
        "print(string[28])"
      ],
      "execution_count": 18,
      "outputs": [
        {
          "output_type": "stream",
          "name": "stdout",
          "text": [
            "!\n"
          ]
        }
      ]
    },
    {
      "cell_type": "code",
      "metadata": {
        "colab": {
          "base_uri": "https://localhost:8080/"
        },
        "id": "S--o1sizE92w",
        "outputId": "4f9a0dd4-dd10-465b-cc85-4ab020cce2bb"
      },
      "source": [
        "print(string[-2])"
      ],
      "execution_count": 19,
      "outputs": [
        {
          "output_type": "stream",
          "name": "stdout",
          "text": [
            "s\n"
          ]
        }
      ]
    },
    {
      "cell_type": "markdown",
      "metadata": {
        "id": "EhEAYjRnmr1U"
      },
      "source": [
        "### String Slicing"
      ]
    },
    {
      "cell_type": "markdown",
      "metadata": {
        "id": "3h7kltimmr1V"
      },
      "source": [
        "* We can use a <code>:</code> to perform *slicing* which grabs everything up to a designated point. \n",
        "\n",
        "\n",
        "* The starting index is specified on the left of the <code>:</code> and the ending index is specified on the right of the <code>:</code>. \n",
        "\n",
        "\n",
        "* Remember the element located at the right index is not included."
      ]
    },
    {
      "cell_type": "code",
      "metadata": {
        "id": "mUroqei-mr1V",
        "colab": {
          "base_uri": "https://localhost:8080/"
        },
        "outputId": "153fbced-023e-4b72-9d2d-9fa80b0fb6cc"
      },
      "source": [
        "# Grab everything past the first term all the way to the length of s which is len(s)\n",
        "print(string)\n",
        "print(string[:13])"
      ],
      "execution_count": 20,
      "outputs": [
        {
          "output_type": "stream",
          "name": "stdout",
          "text": [
            "Principal Component Analysis!\n",
            "Principal Com\n"
          ]
        }
      ]
    },
    {
      "cell_type": "code",
      "metadata": {
        "colab": {
          "base_uri": "https://localhost:8080/",
          "height": 35
        },
        "id": "MhnWuVT9GAx2",
        "outputId": "70a19d0b-c6ec-4be8-8a8c-a00dbcc13d83"
      },
      "source": [
        "string[13]"
      ],
      "execution_count": 21,
      "outputs": [
        {
          "output_type": "execute_result",
          "data": {
            "application/vnd.google.colaboratory.intrinsic+json": {
              "type": "string"
            },
            "text/plain": [
              "'p'"
            ]
          },
          "metadata": {},
          "execution_count": 21
        }
      ]
    },
    {
      "cell_type": "code",
      "metadata": {
        "id": "dqDQwX-yj7pg",
        "colab": {
          "base_uri": "https://localhost:8080/",
          "height": 35
        },
        "outputId": "56b58117-bba3-410f-a6d3-76684ec9b01b"
      },
      "source": [
        "string[12]"
      ],
      "execution_count": 22,
      "outputs": [
        {
          "output_type": "execute_result",
          "data": {
            "application/vnd.google.colaboratory.intrinsic+json": {
              "type": "string"
            },
            "text/plain": [
              "'m'"
            ]
          },
          "metadata": {},
          "execution_count": 22
        }
      ]
    },
    {
      "cell_type": "code",
      "metadata": {
        "id": "d6VcutfNmr1Z",
        "colab": {
          "base_uri": "https://localhost:8080/"
        },
        "outputId": "7f1ba90c-3f2d-43a1-b7b2-d981834e3bce"
      },
      "source": [
        "# Grab everything starting from index 10 till index 18\n",
        "print(string[10:])"
      ],
      "execution_count": 23,
      "outputs": [
        {
          "output_type": "stream",
          "name": "stdout",
          "text": [
            "Component Analysis!\n"
          ]
        }
      ]
    },
    {
      "cell_type": "markdown",
      "metadata": {
        "id": "wI8WSykWmr1b"
      },
      "source": [
        "* If you do not specify the ending index, then all elements are extracted which comes after the starting index including the element at that starting index. The operation knows only to stop when it has run through the entire string."
      ]
    },
    {
      "cell_type": "code",
      "metadata": {
        "id": "rEhtYIfVmr1c",
        "colab": {
          "base_uri": "https://localhost:8080/"
        },
        "outputId": "29aaa680-764d-4e21-cfa7-bcd09078d024"
      },
      "source": [
        "print(string[3:5])"
      ],
      "execution_count": 24,
      "outputs": [
        {
          "output_type": "stream",
          "name": "stdout",
          "text": [
            "nc\n"
          ]
        }
      ]
    },
    {
      "cell_type": "markdown",
      "metadata": {
        "id": "BEPRya3tmr1e"
      },
      "source": [
        "* If you do not specify the starting index, then all elements are extracted which comes befores the ending index excluding the element at the specified ending index. The operation knows only to stop when it has extracted all elements before the  element at the ending index."
      ]
    },
    {
      "cell_type": "code",
      "metadata": {
        "id": "f92GKgPymr1e",
        "colab": {
          "base_uri": "https://localhost:8080/"
        },
        "outputId": "94f06ea9-0f76-4df3-8fbf-b92f0c0df968"
      },
      "source": [
        "print(string[2:4])"
      ],
      "execution_count": 29,
      "outputs": [
        {
          "output_type": "stream",
          "name": "stdout",
          "text": [
            "in\n"
          ]
        }
      ]
    },
    {
      "cell_type": "markdown",
      "metadata": {
        "id": "C8le5z8Bmr1h"
      },
      "source": [
        "* If you do not specify the starting and the ending index, it will extract all elements of the string."
      ]
    },
    {
      "cell_type": "code",
      "metadata": {
        "id": "3BF6pugMmr1h",
        "colab": {
          "base_uri": "https://localhost:8080/"
        },
        "outputId": "dcd52aa5-6d8f-4129-bbdc-e9049146e560"
      },
      "source": [
        "#Everything\n",
        "print(string[:])\n",
        "print(string)"
      ],
      "execution_count": 30,
      "outputs": [
        {
          "output_type": "stream",
          "name": "stdout",
          "text": [
            "Principal Component Analysis!\n",
            "Principal Component Analysis!\n"
          ]
        }
      ]
    },
    {
      "cell_type": "markdown",
      "metadata": {
        "id": "l79g0xEgmr1j"
      },
      "source": [
        "* We can also use negative indexing to go backwards."
      ]
    },
    {
      "cell_type": "code",
      "metadata": {
        "id": "Rj40dnalmr1j",
        "colab": {
          "base_uri": "https://localhost:8080/",
          "height": 35
        },
        "outputId": "e5611522-c3d0-4e36-9db3-9579e2f124b4"
      },
      "source": [
        "# Last letter (one index behind 0 so it loops back around)\n",
        "string[-29]"
      ],
      "execution_count": 31,
      "outputs": [
        {
          "output_type": "execute_result",
          "data": {
            "application/vnd.google.colaboratory.intrinsic+json": {
              "type": "string"
            },
            "text/plain": [
              "'P'"
            ]
          },
          "metadata": {},
          "execution_count": 31
        }
      ]
    },
    {
      "cell_type": "markdown",
      "metadata": {
        "id": "AcQKQlfgmr1m"
      },
      "source": [
        "* We can also extract the last four elements. Remember we can use the index -4 to extract the FOURTH LAST element"
      ]
    },
    {
      "cell_type": "code",
      "metadata": {
        "id": "jATkF52omr1m",
        "colab": {
          "base_uri": "https://localhost:8080/",
          "height": 35
        },
        "outputId": "97a540bd-241d-483e-f20b-55af597c87c0"
      },
      "source": [
        "string[-1:-4]"
      ],
      "execution_count": 32,
      "outputs": [
        {
          "output_type": "execute_result",
          "data": {
            "application/vnd.google.colaboratory.intrinsic+json": {
              "type": "string"
            },
            "text/plain": [
              "''"
            ]
          },
          "metadata": {},
          "execution_count": 32
        }
      ]
    },
    {
      "cell_type": "code",
      "metadata": {
        "colab": {
          "base_uri": "https://localhost:8080/",
          "height": 35
        },
        "id": "vl0XNuYOI9uB",
        "outputId": "24263f66-8551-4fc5-fd61-1639733333d6"
      },
      "source": [
        "string[-4:]"
      ],
      "execution_count": 33,
      "outputs": [
        {
          "output_type": "execute_result",
          "data": {
            "application/vnd.google.colaboratory.intrinsic+json": {
              "type": "string"
            },
            "text/plain": [
              "'sis!'"
            ]
          },
          "metadata": {},
          "execution_count": 33
        }
      ]
    },
    {
      "cell_type": "markdown",
      "metadata": {
        "id": "L76zPkC8mr1q"
      },
      "source": [
        "* We can also use index and slice notation to grab elements of a sequence by a specified step size (the default is 1). For instance we can use two colons in a row and then a number specifying the frequency to grab elements. For example:"
      ]
    },
    {
      "cell_type": "code",
      "metadata": {
        "id": "7yl_nj5fmr1r",
        "colab": {
          "base_uri": "https://localhost:8080/"
        },
        "outputId": "6bf47a97-3b6d-4f52-cfbd-88133ac8c187"
      },
      "source": [
        "# Grab everything, but go in steps size of 1\n",
        "print(string[::1])"
      ],
      "execution_count": 34,
      "outputs": [
        {
          "output_type": "stream",
          "name": "stdout",
          "text": [
            "Principal Component Analysis!\n"
          ]
        }
      ]
    },
    {
      "cell_type": "code",
      "metadata": {
        "colab": {
          "base_uri": "https://localhost:8080/"
        },
        "id": "QHg78LgvJzNE",
        "outputId": "0202759f-7ce1-4ba0-e36c-c7580c12ff8d"
      },
      "source": [
        "print(string[::3])"
      ],
      "execution_count": 35,
      "outputs": [
        {
          "output_type": "stream",
          "name": "stdout",
          "text": [
            "Pnp mntnys\n"
          ]
        }
      ]
    },
    {
      "cell_type": "code",
      "metadata": {
        "id": "ereWDp3Cmr1t",
        "colab": {
          "base_uri": "https://localhost:8080/"
        },
        "outputId": "db36c779-014d-45d5-8154-e24f95b18b6c"
      },
      "source": [
        "# Grab everything, but go in step sizes of 5\n",
        "print(string[5:15:5])"
      ],
      "execution_count": 36,
      "outputs": [
        {
          "output_type": "stream",
          "name": "stdout",
          "text": [
            "iC\n"
          ]
        }
      ]
    },
    {
      "cell_type": "code",
      "metadata": {
        "colab": {
          "base_uri": "https://localhost:8080/",
          "height": 35
        },
        "id": "rJnDRdwnKvos",
        "outputId": "4f3c73ec-d4b5-4069-b641-41f79e5c8571"
      },
      "source": [
        "string[::1]"
      ],
      "execution_count": 37,
      "outputs": [
        {
          "output_type": "execute_result",
          "data": {
            "application/vnd.google.colaboratory.intrinsic+json": {
              "type": "string"
            },
            "text/plain": [
              "'Principal Component Analysis!'"
            ]
          },
          "metadata": {},
          "execution_count": 37
        }
      ]
    },
    {
      "cell_type": "code",
      "metadata": {
        "id": "GIljHfQimr1w",
        "colab": {
          "base_uri": "https://localhost:8080/",
          "height": 35
        },
        "outputId": "6a660ef0-f024-465f-e0ad-1887307d30ad"
      },
      "source": [
        "# We can use this to print a string backwards\n",
        "string[::-1]"
      ],
      "execution_count": 38,
      "outputs": [
        {
          "output_type": "execute_result",
          "data": {
            "application/vnd.google.colaboratory.intrinsic+json": {
              "type": "string"
            },
            "text/plain": [
              "'!sisylanA tnenopmoC lapicnirP'"
            ]
          },
          "metadata": {},
          "execution_count": 38
        }
      ]
    },
    {
      "cell_type": "code",
      "metadata": {
        "id": "kcaf3COcmr1y",
        "colab": {
          "base_uri": "https://localhost:8080/",
          "height": 35
        },
        "outputId": "2d873da5-1212-463b-ba5b-f6c161493f53"
      },
      "source": [
        "# We can use this to print a string backwards with steps\n",
        "string[2:4:-1]"
      ],
      "execution_count": 39,
      "outputs": [
        {
          "output_type": "execute_result",
          "data": {
            "application/vnd.google.colaboratory.intrinsic+json": {
              "type": "string"
            },
            "text/plain": [
              "''"
            ]
          },
          "metadata": {},
          "execution_count": 39
        }
      ]
    },
    {
      "cell_type": "code",
      "metadata": {
        "colab": {
          "base_uri": "https://localhost:8080/",
          "height": 35
        },
        "id": "wkioIS4ELIRo",
        "outputId": "7c9a2581-4043-4084-93d3-f958b85a1182"
      },
      "source": [
        "string[4:2:-1]"
      ],
      "execution_count": 40,
      "outputs": [
        {
          "output_type": "execute_result",
          "data": {
            "application/vnd.google.colaboratory.intrinsic+json": {
              "type": "string"
            },
            "text/plain": [
              "'cn'"
            ]
          },
          "metadata": {},
          "execution_count": 40
        }
      ]
    },
    {
      "cell_type": "code",
      "metadata": {
        "id": "xHczE7gypxMk",
        "colab": {
          "base_uri": "https://localhost:8080/",
          "height": 35
        },
        "outputId": "b6c61905-5a06-49fb-bd8f-5d9151b8e947"
      },
      "source": [
        "s = 'foobar'\n",
        "s[0::-3]"
      ],
      "execution_count": 42,
      "outputs": [
        {
          "output_type": "execute_result",
          "data": {
            "application/vnd.google.colaboratory.intrinsic+json": {
              "type": "string"
            },
            "text/plain": [
              "'f'"
            ]
          },
          "metadata": {},
          "execution_count": 42
        }
      ]
    },
    {
      "cell_type": "code",
      "source": [
        "s[::-5]"
      ],
      "metadata": {
        "colab": {
          "base_uri": "https://localhost:8080/",
          "height": 35
        },
        "id": "ghsyhwo1bnBX",
        "outputId": "3b9cda13-ed95-423e-fdce-10c967fffb6a"
      },
      "execution_count": 43,
      "outputs": [
        {
          "output_type": "execute_result",
          "data": {
            "application/vnd.google.colaboratory.intrinsic+json": {
              "type": "string"
            },
            "text/plain": [
              "'rf'"
            ]
          },
          "metadata": {},
          "execution_count": 43
        }
      ]
    },
    {
      "cell_type": "markdown",
      "metadata": {
        "id": "qTlCu2phmr11"
      },
      "source": [
        "## String Properties\n",
        "\n",
        "* It's important to note that strings have an important property known as *immutability*. \n",
        "\n",
        "\n",
        "* This means that once a string is created, the elements within it can not be changed or replaced via item assignment. We will see how we can do such operation using string methods"
      ]
    },
    {
      "cell_type": "code",
      "metadata": {
        "id": "eE2jbYDMmr11",
        "colab": {
          "base_uri": "https://localhost:8080/",
          "height": 200
        },
        "outputId": "042fc1b5-ad9d-4003-86d6-a1f86d6cde09"
      },
      "source": [
        "# Can we change our string 'Hello' to 'Cello'? Lets try replacing the first letter H with C\n",
        "string='Hello'\n",
        "string[0] = 'C'"
      ],
      "execution_count": 44,
      "outputs": [
        {
          "output_type": "error",
          "ename": "TypeError",
          "evalue": "ignored",
          "traceback": [
            "\u001b[0;31m---------------------------------------------------------------------------\u001b[0m",
            "\u001b[0;31mTypeError\u001b[0m                                 Traceback (most recent call last)",
            "\u001b[0;32m<ipython-input-44-f55372fc219f>\u001b[0m in \u001b[0;36m<module>\u001b[0;34m()\u001b[0m\n\u001b[1;32m      1\u001b[0m \u001b[0;31m# Can we change our string 'Hello' to 'Cello'? Lets try replacing the first letter H with C\u001b[0m\u001b[0;34m\u001b[0m\u001b[0;34m\u001b[0m\u001b[0;34m\u001b[0m\u001b[0m\n\u001b[1;32m      2\u001b[0m \u001b[0mstring\u001b[0m\u001b[0;34m=\u001b[0m\u001b[0;34m'Hello'\u001b[0m\u001b[0;34m\u001b[0m\u001b[0;34m\u001b[0m\u001b[0m\n\u001b[0;32m----> 3\u001b[0;31m \u001b[0mstring\u001b[0m\u001b[0;34m[\u001b[0m\u001b[0;36m0\u001b[0m\u001b[0;34m]\u001b[0m \u001b[0;34m=\u001b[0m \u001b[0;34m'C'\u001b[0m\u001b[0;34m\u001b[0m\u001b[0;34m\u001b[0m\u001b[0m\n\u001b[0m",
            "\u001b[0;31mTypeError\u001b[0m: 'str' object does not support item assignment"
          ]
        }
      ]
    },
    {
      "cell_type": "markdown",
      "metadata": {
        "id": "cGn9h31xmr13"
      },
      "source": [
        "* Notice how the error tells us directly what we can't do, that is we can't change the item assignment!\n",
        "\n",
        "\n",
        "* Something we *can* do is concatenate strings!"
      ]
    },
    {
      "cell_type": "code",
      "metadata": {
        "id": "Ana6cTXTmr14",
        "colab": {
          "base_uri": "https://localhost:8080/"
        },
        "outputId": "6a139cdf-450d-445b-c269-a4759d3b1743"
      },
      "source": [
        "# Concatenate strings!\n",
        "\n",
        "string1='abc'\n",
        "string2='def'\n",
        "print(string1 + ' ' + string2 )"
      ],
      "execution_count": 45,
      "outputs": [
        {
          "output_type": "stream",
          "name": "stdout",
          "text": [
            "abc def\n"
          ]
        }
      ]
    },
    {
      "cell_type": "code",
      "metadata": {
        "colab": {
          "base_uri": "https://localhost:8080/",
          "height": 165
        },
        "id": "ouFQybUrNCgm",
        "outputId": "3f456893-ac99-4325-c080-8d5bc129b05f"
      },
      "source": [
        "print(string1 + 4 + string2)"
      ],
      "execution_count": 46,
      "outputs": [
        {
          "output_type": "error",
          "ename": "TypeError",
          "evalue": "ignored",
          "traceback": [
            "\u001b[0;31m---------------------------------------------------------------------------\u001b[0m",
            "\u001b[0;31mTypeError\u001b[0m                                 Traceback (most recent call last)",
            "\u001b[0;32m<ipython-input-46-544903aa2d55>\u001b[0m in \u001b[0;36m<module>\u001b[0;34m()\u001b[0m\n\u001b[0;32m----> 1\u001b[0;31m \u001b[0mprint\u001b[0m\u001b[0;34m(\u001b[0m\u001b[0mstring1\u001b[0m \u001b[0;34m+\u001b[0m \u001b[0;36m4\u001b[0m \u001b[0;34m+\u001b[0m \u001b[0mstring2\u001b[0m\u001b[0;34m)\u001b[0m\u001b[0;34m\u001b[0m\u001b[0;34m\u001b[0m\u001b[0m\n\u001b[0m",
            "\u001b[0;31mTypeError\u001b[0m: can only concatenate str (not \"int\") to str"
          ]
        }
      ]
    },
    {
      "cell_type": "markdown",
      "metadata": {
        "id": "S3h79CMjmr17"
      },
      "source": [
        "* To convert an integer into a string, you can use the <code>str()</code> function or you can simply write the number in quotes"
      ]
    },
    {
      "cell_type": "code",
      "metadata": {
        "id": "-bQKbbIKmr17",
        "colab": {
          "base_uri": "https://localhost:8080/"
        },
        "outputId": "c921789a-bddd-40b0-ad60-25333f394d6f"
      },
      "source": [
        "# Concatenate strings!\n",
        "\n",
        "string1='abc'\n",
        "string2='def'\n",
        "num = 4\n",
        "print(string1 + str(4) + string2)"
      ],
      "execution_count": 47,
      "outputs": [
        {
          "output_type": "stream",
          "name": "stdout",
          "text": [
            "abc4def\n"
          ]
        }
      ]
    },
    {
      "cell_type": "code",
      "metadata": {
        "id": "PRTTNkyWqujV",
        "colab": {
          "base_uri": "https://localhost:8080/",
          "height": 35
        },
        "outputId": "dfa58f51-4a90-4746-bbbd-c1b72cc07287"
      },
      "source": [
        "str(num)"
      ],
      "execution_count": 48,
      "outputs": [
        {
          "output_type": "execute_result",
          "data": {
            "application/vnd.google.colaboratory.intrinsic+json": {
              "type": "string"
            },
            "text/plain": [
              "'4'"
            ]
          },
          "metadata": {},
          "execution_count": 48
        }
      ]
    },
    {
      "cell_type": "code",
      "metadata": {
        "id": "mm6CJD-fmr19",
        "colab": {
          "base_uri": "https://localhost:8080/",
          "height": 35
        },
        "outputId": "f7b95797-ae60-4b03-c583-b87aa0a52a26"
      },
      "source": [
        "# Concatenate strings!\n",
        "string1='abc'\n",
        "string2='def'\n",
        "string1 + '4'+ string2"
      ],
      "execution_count": 49,
      "outputs": [
        {
          "output_type": "execute_result",
          "data": {
            "application/vnd.google.colaboratory.intrinsic+json": {
              "type": "string"
            },
            "text/plain": [
              "'abc4def'"
            ]
          },
          "metadata": {},
          "execution_count": 49
        }
      ]
    },
    {
      "cell_type": "code",
      "metadata": {
        "id": "oU-CD4VbrBJ5",
        "colab": {
          "base_uri": "https://localhost:8080/"
        },
        "outputId": "c102977b-4b9d-45d3-84e3-4534686d111d"
      },
      "source": [
        "print(string)"
      ],
      "execution_count": 50,
      "outputs": [
        {
          "output_type": "stream",
          "name": "stdout",
          "text": [
            "Hello\n"
          ]
        }
      ]
    },
    {
      "cell_type": "code",
      "metadata": {
        "id": "N1iCkcKomr1_",
        "colab": {
          "base_uri": "https://localhost:8080/"
        },
        "outputId": "2223949c-ed4b-4cf7-ecb9-643adcebce5b"
      },
      "source": [
        "# We can reassign string completely though!\n",
        "string = string + ' concatenate me!'\n",
        "print(string)"
      ],
      "execution_count": 51,
      "outputs": [
        {
          "output_type": "stream",
          "name": "stdout",
          "text": [
            "Hello concatenate me!\n"
          ]
        }
      ]
    },
    {
      "cell_type": "code",
      "metadata": {
        "id": "pj2d89iKmr2A",
        "colab": {
          "base_uri": "https://localhost:8080/",
          "height": 35
        },
        "outputId": "574003fb-40a2-4737-faab-6ff6f5036741"
      },
      "source": [
        "letters = 'wubba'\n",
        "letters*3"
      ],
      "execution_count": 52,
      "outputs": [
        {
          "output_type": "execute_result",
          "data": {
            "application/vnd.google.colaboratory.intrinsic+json": {
              "type": "string"
            },
            "text/plain": [
              "'wubbawubbawubba'"
            ]
          },
          "metadata": {},
          "execution_count": 52
        }
      ]
    },
    {
      "cell_type": "markdown",
      "metadata": {
        "id": "duTA9_hlmr2C"
      },
      "source": [
        "## String functions and methods"
      ]
    },
    {
      "cell_type": "code",
      "metadata": {
        "id": "0Wy8i1-Mmr2D",
        "colab": {
          "base_uri": "https://localhost:8080/"
        },
        "outputId": "3ac81afe-7f37-421a-b041-575bddbeca99"
      },
      "source": [
        "algorithm = 'Neural Networks'\n",
        "\n",
        "print(algorithm)"
      ],
      "execution_count": 53,
      "outputs": [
        {
          "output_type": "stream",
          "name": "stdout",
          "text": [
            "Neural Networks\n"
          ]
        }
      ]
    },
    {
      "cell_type": "markdown",
      "metadata": {
        "id": "03n7vTXRmr2E"
      },
      "source": [
        "### <code>len()</code> \n",
        "\n",
        "* <code>len()</code> function returns the length of the string"
      ]
    },
    {
      "cell_type": "code",
      "metadata": {
        "id": "At6CdDUgmr2F",
        "colab": {
          "base_uri": "https://localhost:8080/"
        },
        "outputId": "c6625bbb-6d35-421e-8f85-fe93a526c6d7"
      },
      "source": [
        "# Print the length of the string\n",
        "len(algorithm)"
      ],
      "execution_count": 54,
      "outputs": [
        {
          "output_type": "execute_result",
          "data": {
            "text/plain": [
              "15"
            ]
          },
          "metadata": {},
          "execution_count": 54
        }
      ]
    },
    {
      "cell_type": "markdown",
      "metadata": {
        "id": "cF2zYtzdmr2G"
      },
      "source": [
        "###  <code>lower()</code>\n",
        "\n",
        "* <code>lower()</code> method converts the string to lowercase "
      ]
    },
    {
      "cell_type": "code",
      "metadata": {
        "id": "nX86MJxZmr2H",
        "colab": {
          "base_uri": "https://localhost:8080/",
          "height": 35
        },
        "outputId": "615b7632-1eb0-4160-b094-186a50af6380"
      },
      "source": [
        "# Conver the string to lowercase\n",
        "algorithm.lower()"
      ],
      "execution_count": 55,
      "outputs": [
        {
          "output_type": "execute_result",
          "data": {
            "application/vnd.google.colaboratory.intrinsic+json": {
              "type": "string"
            },
            "text/plain": [
              "'neural networks'"
            ]
          },
          "metadata": {},
          "execution_count": 55
        }
      ]
    },
    {
      "cell_type": "code",
      "metadata": {
        "id": "uNysVw_SsMNn",
        "colab": {
          "base_uri": "https://localhost:8080/"
        },
        "outputId": "dbe70d8a-77fa-44ee-b4d9-7e448263862f"
      },
      "source": [
        "print(algorithm)"
      ],
      "execution_count": 56,
      "outputs": [
        {
          "output_type": "stream",
          "name": "stdout",
          "text": [
            "Neural Networks\n"
          ]
        }
      ]
    },
    {
      "cell_type": "code",
      "source": [
        "m = 'AbcDeFg'"
      ],
      "metadata": {
        "id": "lNFjRYqkcxkG"
      },
      "execution_count": 58,
      "outputs": []
    },
    {
      "cell_type": "code",
      "source": [
        "m.lower()"
      ],
      "metadata": {
        "colab": {
          "base_uri": "https://localhost:8080/",
          "height": 35
        },
        "id": "3aUuRJzhc2ml",
        "outputId": "8239cbf1-2e60-46ac-8845-9161deb35330"
      },
      "execution_count": 59,
      "outputs": [
        {
          "output_type": "execute_result",
          "data": {
            "application/vnd.google.colaboratory.intrinsic+json": {
              "type": "string"
            },
            "text/plain": [
              "'abcdefg'"
            ]
          },
          "metadata": {},
          "execution_count": 59
        }
      ]
    },
    {
      "cell_type": "code",
      "source": [
        "m.upper()"
      ],
      "metadata": {
        "colab": {
          "base_uri": "https://localhost:8080/",
          "height": 35
        },
        "id": "k7PRTPvOc58W",
        "outputId": "216f11bf-06d3-4825-dc68-2a6924fef936"
      },
      "execution_count": 60,
      "outputs": [
        {
          "output_type": "execute_result",
          "data": {
            "application/vnd.google.colaboratory.intrinsic+json": {
              "type": "string"
            },
            "text/plain": [
              "'ABCDEFG'"
            ]
          },
          "metadata": {},
          "execution_count": 60
        }
      ]
    },
    {
      "cell_type": "code",
      "source": [
        "m"
      ],
      "metadata": {
        "colab": {
          "base_uri": "https://localhost:8080/",
          "height": 35
        },
        "id": "tvFuRWSFc8sa",
        "outputId": "aa3dc0d2-0fb5-4ef5-9c98-8c4ae62fcd18"
      },
      "execution_count": 61,
      "outputs": [
        {
          "output_type": "execute_result",
          "data": {
            "application/vnd.google.colaboratory.intrinsic+json": {
              "type": "string"
            },
            "text/plain": [
              "'AbcDeFg'"
            ]
          },
          "metadata": {},
          "execution_count": 61
        }
      ]
    },
    {
      "cell_type": "markdown",
      "metadata": {
        "id": "858z5CKZmr2J"
      },
      "source": [
        "* <u> What about <code>lower(algorithm)</code>? Is it not similar to the <code>len()</code>function?</u>\n",
        "\n",
        "\n",
        "* <u> An important point to note here is <code>len()</code> is a function and <code>lower()</code> is a method for a string object. It will be pretty clear about the exact differences between a function and a method as we move ahead. </u>"
      ]
    },
    {
      "cell_type": "code",
      "metadata": {
        "id": "dUG6OM68mr2J",
        "colab": {
          "base_uri": "https://localhost:8080/",
          "height": 183
        },
        "outputId": "2737c447-97ba-4f14-909d-e626e7d64958"
      },
      "source": [
        "# Lets try that out\n",
        "lower(algorithm)"
      ],
      "execution_count": 62,
      "outputs": [
        {
          "output_type": "error",
          "ename": "NameError",
          "evalue": "ignored",
          "traceback": [
            "\u001b[0;31m---------------------------------------------------------------------------\u001b[0m",
            "\u001b[0;31mNameError\u001b[0m                                 Traceback (most recent call last)",
            "\u001b[0;32m<ipython-input-62-4d609230893c>\u001b[0m in \u001b[0;36m<module>\u001b[0;34m()\u001b[0m\n\u001b[1;32m      1\u001b[0m \u001b[0;31m# Lets try that out\u001b[0m\u001b[0;34m\u001b[0m\u001b[0;34m\u001b[0m\u001b[0;34m\u001b[0m\u001b[0m\n\u001b[0;32m----> 2\u001b[0;31m \u001b[0mlower\u001b[0m\u001b[0;34m(\u001b[0m\u001b[0malgorithm\u001b[0m\u001b[0;34m)\u001b[0m\u001b[0;34m\u001b[0m\u001b[0;34m\u001b[0m\u001b[0m\n\u001b[0m",
            "\u001b[0;31mNameError\u001b[0m: name 'lower' is not defined"
          ]
        }
      ]
    },
    {
      "cell_type": "markdown",
      "metadata": {
        "id": "Uk9EwCKRmr2L"
      },
      "source": [
        "###  <code>upper()</code> \n",
        "\n",
        "* <code>upper()</code> method converts the string to uppercase "
      ]
    },
    {
      "cell_type": "code",
      "metadata": {
        "id": "cqkxoLYwmr2M",
        "colab": {
          "base_uri": "https://localhost:8080/",
          "height": 35
        },
        "outputId": "cecfe547-4d22-485d-e0cc-caf5570c700b"
      },
      "source": [
        "# Convert the string to uppercase\n",
        "algorithm.upper()"
      ],
      "execution_count": 63,
      "outputs": [
        {
          "output_type": "execute_result",
          "data": {
            "application/vnd.google.colaboratory.intrinsic+json": {
              "type": "string"
            },
            "text/plain": [
              "'NEURAL NETWORKS'"
            ]
          },
          "metadata": {},
          "execution_count": 63
        }
      ]
    },
    {
      "cell_type": "code",
      "metadata": {
        "colab": {
          "base_uri": "https://localhost:8080/"
        },
        "id": "yO16_FvNP3u3",
        "outputId": "4402e644-67a6-45e6-87a2-2fd55cfee7c3"
      },
      "source": [
        "print(algorithm)"
      ],
      "execution_count": 64,
      "outputs": [
        {
          "output_type": "stream",
          "name": "stdout",
          "text": [
            "Neural Networks\n"
          ]
        }
      ]
    },
    {
      "cell_type": "markdown",
      "metadata": {
        "id": "ikQx6g8tmr2P"
      },
      "source": [
        "### <code>count()</code> \n",
        "\n",
        "*  <code>count()</code> method returns the count of a string in the given string. Unlike <code>lower()</code> and <code>upper()</code> method, the <code>count()</code> method takes a string as an argument"
      ]
    },
    {
      "cell_type": "code",
      "metadata": {
        "id": "NZ4Z8talmr2Q",
        "colab": {
          "base_uri": "https://localhost:8080/"
        },
        "outputId": "c18aebf4-0a13-4fb5-f3ad-00390db51ad1"
      },
      "source": [
        "print(algorithm)"
      ],
      "execution_count": 65,
      "outputs": [
        {
          "output_type": "stream",
          "name": "stdout",
          "text": [
            "Neural Networks\n"
          ]
        }
      ]
    },
    {
      "cell_type": "code",
      "metadata": {
        "id": "fYzKjXf5mr2T",
        "colab": {
          "base_uri": "https://localhost:8080/"
        },
        "outputId": "78cdfd01-d5cf-4c06-a51f-41c5909de21e"
      },
      "source": [
        "algorithm.count('Ne')"
      ],
      "execution_count": 66,
      "outputs": [
        {
          "output_type": "execute_result",
          "data": {
            "text/plain": [
              "2"
            ]
          },
          "metadata": {},
          "execution_count": 66
        }
      ]
    },
    {
      "cell_type": "code",
      "metadata": {
        "id": "iM7o2uh-mr2W",
        "colab": {
          "base_uri": "https://localhost:8080/"
        },
        "outputId": "d4c5ca8e-26e7-4ff4-d739-fa3cc58050d8"
      },
      "source": [
        "algorithm.count('eu')"
      ],
      "execution_count": 67,
      "outputs": [
        {
          "output_type": "execute_result",
          "data": {
            "text/plain": [
              "1"
            ]
          },
          "metadata": {},
          "execution_count": 67
        }
      ]
    },
    {
      "cell_type": "code",
      "metadata": {
        "id": "3En7zUGmmr2c",
        "colab": {
          "base_uri": "https://localhost:8080/"
        },
        "outputId": "f1317a91-63a1-4578-edb2-69e992b8b0ec"
      },
      "source": [
        "algorithm.count(' ')"
      ],
      "execution_count": 68,
      "outputs": [
        {
          "output_type": "execute_result",
          "data": {
            "text/plain": [
              "1"
            ]
          },
          "metadata": {},
          "execution_count": 68
        }
      ]
    },
    {
      "cell_type": "code",
      "metadata": {
        "id": "omv1VDDqmr2f",
        "colab": {
          "base_uri": "https://localhost:8080/"
        },
        "outputId": "fa3a487f-7252-48d9-9be6-421fa9356d33"
      },
      "source": [
        "algorithm.count('Neural')"
      ],
      "execution_count": 69,
      "outputs": [
        {
          "output_type": "execute_result",
          "data": {
            "text/plain": [
              "1"
            ]
          },
          "metadata": {},
          "execution_count": 69
        }
      ]
    },
    {
      "cell_type": "code",
      "metadata": {
        "id": "nvHrSXJRmr2h",
        "colab": {
          "base_uri": "https://localhost:8080/"
        },
        "outputId": "b2fcab14-3a19-4b55-e783-1a9260b4435a"
      },
      "source": [
        "algorithm.count('Neurla')"
      ],
      "execution_count": 70,
      "outputs": [
        {
          "output_type": "execute_result",
          "data": {
            "text/plain": [
              "0"
            ]
          },
          "metadata": {},
          "execution_count": 70
        }
      ]
    },
    {
      "cell_type": "markdown",
      "metadata": {
        "id": "YPKnWGBFmr2k"
      },
      "source": [
        "### <code>find()</code> \n",
        "\n",
        "* <code>find()</code> method returns the index of the first occurrence of a string present in a given string. Similar to the <code>count()</code> method, the <code>find()</code> method takes a string as an argument"
      ]
    },
    {
      "cell_type": "code",
      "metadata": {
        "id": "GfkJ9pWbt5AU",
        "colab": {
          "base_uri": "https://localhost:8080/"
        },
        "outputId": "9bef6a68-f0f4-41c0-b19c-93f3e720f6a9"
      },
      "source": [
        "print(algorithm)"
      ],
      "execution_count": 71,
      "outputs": [
        {
          "output_type": "stream",
          "name": "stdout",
          "text": [
            "Neural Networks\n"
          ]
        }
      ]
    },
    {
      "cell_type": "code",
      "metadata": {
        "id": "ILyYqHUnmr2k",
        "colab": {
          "base_uri": "https://localhost:8080/"
        },
        "outputId": "ccf63c31-1ba6-4db9-de74-c4a8e0fbdada"
      },
      "source": [
        "algorithm.find('e')"
      ],
      "execution_count": 72,
      "outputs": [
        {
          "output_type": "execute_result",
          "data": {
            "text/plain": [
              "1"
            ]
          },
          "metadata": {},
          "execution_count": 72
        }
      ]
    },
    {
      "cell_type": "code",
      "metadata": {
        "id": "8cGFl7nEmr2n",
        "colab": {
          "base_uri": "https://localhost:8080/"
        },
        "outputId": "64774e47-2438-4f54-ebfa-9ce44741c14a"
      },
      "source": [
        "algorithm.find('Neural')"
      ],
      "execution_count": 73,
      "outputs": [
        {
          "output_type": "execute_result",
          "data": {
            "text/plain": [
              "0"
            ]
          },
          "metadata": {},
          "execution_count": 73
        }
      ]
    },
    {
      "cell_type": "code",
      "metadata": {
        "id": "eCSKV08mmr2q",
        "colab": {
          "base_uri": "https://localhost:8080/"
        },
        "outputId": "3e1bc384-49a1-43bf-fc5d-4cb728069e92"
      },
      "source": [
        "algorithm.find('Box')"
      ],
      "execution_count": 74,
      "outputs": [
        {
          "output_type": "execute_result",
          "data": {
            "text/plain": [
              "-1"
            ]
          },
          "metadata": {},
          "execution_count": 74
        }
      ]
    },
    {
      "cell_type": "markdown",
      "metadata": {
        "id": "QnIAoEnEmr2t"
      },
      "source": [
        "* <u>An important point to note here is that if the string which you are looking for, is not contained in the original string, then the find method will return a value of -1 </u>"
      ]
    },
    {
      "cell_type": "markdown",
      "metadata": {
        "id": "-Q_dsma-mr2t"
      },
      "source": [
        "### <code>replace()</code> \n",
        "\n",
        "*  <code>replace()</code> method takes two arguments - (i) the string to replace and (ii) the string to replace with, and returns a modified string after the operation"
      ]
    },
    {
      "cell_type": "code",
      "metadata": {
        "colab": {
          "base_uri": "https://localhost:8080/"
        },
        "id": "9X7rqsDnRyiX",
        "outputId": "ca3820a0-2cc5-4e1f-c893-f1613037f41a"
      },
      "source": [
        "print(algorithm)"
      ],
      "execution_count": 75,
      "outputs": [
        {
          "output_type": "stream",
          "name": "stdout",
          "text": [
            "Neural Networks\n"
          ]
        }
      ]
    },
    {
      "cell_type": "code",
      "metadata": {
        "id": "rnokQ_6kmr2u",
        "colab": {
          "base_uri": "https://localhost:8080/",
          "height": 35
        },
        "outputId": "b32c6112-f291-44b9-f33b-8d04bdcda1da"
      },
      "source": [
        "algorithm.replace(' ','-')"
      ],
      "execution_count": 76,
      "outputs": [
        {
          "output_type": "execute_result",
          "data": {
            "application/vnd.google.colaboratory.intrinsic+json": {
              "type": "string"
            },
            "text/plain": [
              "'Neural-Networks'"
            ]
          },
          "metadata": {},
          "execution_count": 76
        }
      ]
    },
    {
      "cell_type": "code",
      "metadata": {
        "id": "9x114Rapmr2w",
        "colab": {
          "base_uri": "https://localhost:8080/",
          "height": 35
        },
        "outputId": "153853d9-43ac-47a2-ddb1-8ae07b8400dc"
      },
      "source": [
        "algorithm.replace('N','L')"
      ],
      "execution_count": 77,
      "outputs": [
        {
          "output_type": "execute_result",
          "data": {
            "application/vnd.google.colaboratory.intrinsic+json": {
              "type": "string"
            },
            "text/plain": [
              "'Leural Letworks'"
            ]
          },
          "metadata": {},
          "execution_count": 77
        }
      ]
    },
    {
      "cell_type": "code",
      "metadata": {
        "id": "djxLa2-Hmr2z",
        "colab": {
          "base_uri": "https://localhost:8080/"
        },
        "outputId": "85358c65-8d22-49fb-fccc-c3e51a2efcd4"
      },
      "source": [
        "print(algorithm)"
      ],
      "execution_count": 78,
      "outputs": [
        {
          "output_type": "stream",
          "name": "stdout",
          "text": [
            "Neural Networks\n"
          ]
        }
      ]
    },
    {
      "cell_type": "markdown",
      "metadata": {
        "id": "s2Mh-mbimr22"
      },
      "source": [
        "* <u>Another important point worth noting here is applying any method on a string does not actually change the original string. For example, when you print out the algorithm string, it still contains the original value 'Neural Networks'</u>\n",
        "\n",
        "\n",
        "* <u> We need to store the modified string in another variable"
      ]
    },
    {
      "cell_type": "code",
      "metadata": {
        "id": "tW013YBJmr22",
        "colab": {
          "base_uri": "https://localhost:8080/"
        },
        "outputId": "44090ed1-58f1-4b83-c988-c7efd5b12eca"
      },
      "source": [
        "# Storing the modified string\n",
        "algorithm_revised  = algorithm.replace('Neural','Artificial Neural')\n",
        "print(algorithm_revised)\n",
        "print(algorithm)"
      ],
      "execution_count": 79,
      "outputs": [
        {
          "output_type": "stream",
          "name": "stdout",
          "text": [
            "Artificial Neural Networks\n",
            "Neural Networks\n"
          ]
        }
      ]
    },
    {
      "cell_type": "markdown",
      "metadata": {
        "id": "uOh2_4hKmr24"
      },
      "source": [
        "### Printing strings a bit differently"
      ]
    },
    {
      "cell_type": "code",
      "metadata": {
        "id": "AJjdr5ghmr24",
        "colab": {
          "base_uri": "https://localhost:8080/"
        },
        "outputId": "10811e59-7738-4be9-891c-20f592d80a59"
      },
      "source": [
        "first_name = 'Rahul'\n",
        "last_name = 'Modi'\n",
        "\n",
        "full_name = f'Left plus right makes {first_name}  {last_name}'  # Use {} to print the variable you want to\n",
        "print(full_name)"
      ],
      "execution_count": 80,
      "outputs": [
        {
          "output_type": "stream",
          "name": "stdout",
          "text": [
            "Left plus right makes Rahul  Modi\n"
          ]
        }
      ]
    },
    {
      "cell_type": "code",
      "metadata": {
        "id": "K-p0nqpjwANZ",
        "colab": {
          "base_uri": "https://localhost:8080/"
        },
        "outputId": "7a9db989-be97-42de-8032-dbbef97702cb"
      },
      "source": [
        "print(first_name + ' '+last_name)"
      ],
      "execution_count": 81,
      "outputs": [
        {
          "output_type": "stream",
          "name": "stdout",
          "text": [
            "Rahul Modi\n"
          ]
        }
      ]
    },
    {
      "cell_type": "code",
      "metadata": {
        "id": "qIHd9TJ_RTZs",
        "colab": {
          "base_uri": "https://localhost:8080/"
        },
        "outputId": "993ea28d-6737-453b-d597-93e06de979a8"
      },
      "source": [
        "print(first_name + ' ' +last_name)"
      ],
      "execution_count": 84,
      "outputs": [
        {
          "output_type": "stream",
          "name": "stdout",
          "text": [
            "Rahul Modi\n"
          ]
        }
      ]
    },
    {
      "cell_type": "code",
      "metadata": {
        "id": "2CR9yok8mr29",
        "colab": {
          "base_uri": "https://localhost:8080/"
        },
        "outputId": "83477198-7304-4cc0-eb52-81fcdfa9ec47"
      },
      "source": [
        "first_name = 'Vikash'\n",
        "middle_name = ''\n",
        "last_name = 'Srivastava'\n",
        "\n",
        "full_name = f'I am none other than {first_name} {middle_name}{last_name}. I am a Data Scientist'\n",
        "print(full_name)"
      ],
      "execution_count": 85,
      "outputs": [
        {
          "output_type": "stream",
          "name": "stdout",
          "text": [
            "I am none other than Vikash Srivastava. I am a Data Scientist\n"
          ]
        }
      ]
    },
    {
      "cell_type": "code",
      "metadata": {
        "colab": {
          "base_uri": "https://localhost:8080/"
        },
        "id": "lXeN8B21TyZW",
        "outputId": "e84ab861-7b6d-4449-8188-45254c07862f"
      },
      "source": [
        "print(f'I am none other than {first_name} {middle_name}{last_name}. I am a Data Scientist')"
      ],
      "execution_count": 86,
      "outputs": [
        {
          "output_type": "stream",
          "name": "stdout",
          "text": [
            "I am none other than Vikash Srivastava. I am a Data Scientist\n"
          ]
        }
      ]
    },
    {
      "cell_type": "markdown",
      "metadata": {
        "id": "B6x3RSMkmr3A"
      },
      "source": [
        "### Check if a string contains a particular word or character"
      ]
    },
    {
      "cell_type": "code",
      "metadata": {
        "id": "gxoRht92mr3A"
      },
      "source": [
        "my_string = 'Albert Einstein'"
      ],
      "execution_count": 87,
      "outputs": []
    },
    {
      "cell_type": "code",
      "metadata": {
        "id": "NrXXZLYsxNlT",
        "colab": {
          "base_uri": "https://localhost:8080/"
        },
        "outputId": "fac80f3e-00aa-44b0-cb5f-3dafc27cd697"
      },
      "source": [
        "'Albert' in my_string"
      ],
      "execution_count": 88,
      "outputs": [
        {
          "output_type": "execute_result",
          "data": {
            "text/plain": [
              "True"
            ]
          },
          "metadata": {},
          "execution_count": 88
        }
      ]
    },
    {
      "cell_type": "code",
      "metadata": {
        "id": "mlMC_fR5UPmK",
        "colab": {
          "base_uri": "https://localhost:8080/"
        },
        "outputId": "d1a4f9ed-49e1-46a9-8906-90e66f22f957"
      },
      "source": [
        "'Alberta' in my_string"
      ],
      "execution_count": 89,
      "outputs": [
        {
          "output_type": "execute_result",
          "data": {
            "text/plain": [
              "False"
            ]
          },
          "metadata": {},
          "execution_count": 89
        }
      ]
    },
    {
      "cell_type": "code",
      "metadata": {
        "id": "yaicv9mBUS_R"
      },
      "source": [
        ""
      ],
      "execution_count": 89,
      "outputs": []
    }
  ]
}