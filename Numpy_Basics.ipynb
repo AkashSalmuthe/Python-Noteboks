{
  "nbformat": 4,
  "nbformat_minor": 0,
  "metadata": {
    "colab": {
      "name": "Numpy_Basics.ipynb",
      "provenance": [],
      "collapsed_sections": [
        "MKdJy8BFRC7W",
        "lBkpprXpRNP-",
        "m-3sIPA_Rc0u",
        "iopsOvDXRjll",
        "-ffghoiwSBvN",
        "E_X0s-5EHNcn",
        "R2sxqtPTHxBR",
        "bJCE1YrHJDjS",
        "_x10Un2wKlsP",
        "OYdqgYa7LHgN",
        "ynJdVra6LYTv",
        "lA7fa74xMLcP",
        "1eAyYS2iNaz_",
        "ExiKvVylPDqK",
        "WO36G3RzPuCl",
        "Ibmgml9RQL8T",
        "_L17JDFESU04",
        "EtXRmcxZSq0p"
      ],
      "authorship_tag": "ABX9TyO0fqT+zzAqCbiQxcHIYESU",
      "include_colab_link": true
    },
    "kernelspec": {
      "name": "python3",
      "display_name": "Python 3"
    },
    "language_info": {
      "name": "python"
    }
  },
  "cells": [
    {
      "cell_type": "markdown",
      "metadata": {
        "id": "view-in-github",
        "colab_type": "text"
      },
      "source": [
        "<a href=\"https://colab.research.google.com/github/AkashSalmuthe/Python-Noteboks/blob/main/Numpy_Basics.ipynb\" target=\"_parent\"><img src=\"https://colab.research.google.com/assets/colab-badge.svg\" alt=\"Open In Colab\"/></a>"
      ]
    },
    {
      "cell_type": "code",
      "execution_count": 1,
      "metadata": {
        "id": "2zzhtgNZMjPe"
      },
      "outputs": [],
      "source": [
        "import numpy as np"
      ]
    },
    {
      "cell_type": "markdown",
      "source": [
        "## Creating 1 D Array"
      ],
      "metadata": {
        "id": "MKdJy8BFRC7W"
      }
    },
    {
      "cell_type": "code",
      "source": [
        "arr_1d = np.array([1,2,3,4])\n",
        "print(arr_1d)"
      ],
      "metadata": {
        "colab": {
          "base_uri": "https://localhost:8080/"
        },
        "id": "aesIVbCQMzFC",
        "outputId": "021e2caf-a3f8-430a-bf3c-be34956a5169"
      },
      "execution_count": 2,
      "outputs": [
        {
          "output_type": "stream",
          "name": "stdout",
          "text": [
            "[1 2 3 4]\n"
          ]
        }
      ]
    },
    {
      "cell_type": "code",
      "source": [
        "type(arr_1d)"
      ],
      "metadata": {
        "colab": {
          "base_uri": "https://localhost:8080/"
        },
        "id": "Wov7zPbSQGVE",
        "outputId": "814cf2ea-34b0-495a-cc01-98a6ea018e6e"
      },
      "execution_count": 3,
      "outputs": [
        {
          "output_type": "execute_result",
          "data": {
            "text/plain": [
              "numpy.ndarray"
            ]
          },
          "metadata": {},
          "execution_count": 3
        }
      ]
    },
    {
      "cell_type": "code",
      "source": [
        "# Gives Dimension Of array\n",
        "arr_1d.ndim"
      ],
      "metadata": {
        "colab": {
          "base_uri": "https://localhost:8080/"
        },
        "id": "GBPU1uRIQUbz",
        "outputId": "6559efe6-d2e7-4bce-ef24-b75d1c337fac"
      },
      "execution_count": 4,
      "outputs": [
        {
          "output_type": "execute_result",
          "data": {
            "text/plain": [
              "1"
            ]
          },
          "metadata": {},
          "execution_count": 4
        }
      ]
    },
    {
      "cell_type": "markdown",
      "source": [
        "## Creating 2 D Array"
      ],
      "metadata": {
        "id": "lBkpprXpRNP-"
      }
    },
    {
      "cell_type": "code",
      "source": [
        "arr_2d = np.array([[1,2,3,4],[5,6,7,8]])\n",
        "print(arr_2d)"
      ],
      "metadata": {
        "colab": {
          "base_uri": "https://localhost:8080/"
        },
        "id": "LjImI1A4QZOE",
        "outputId": "040af7a9-1c8a-4f0f-8888-44f7e13d4f5d"
      },
      "execution_count": 5,
      "outputs": [
        {
          "output_type": "stream",
          "name": "stdout",
          "text": [
            "[[1 2 3 4]\n",
            " [5 6 7 8]]\n"
          ]
        }
      ]
    },
    {
      "cell_type": "code",
      "source": [
        "arr_2d.ndim"
      ],
      "metadata": {
        "colab": {
          "base_uri": "https://localhost:8080/"
        },
        "id": "usOoGt95QoFF",
        "outputId": "a5d3aa2e-94d3-440e-83f4-144875f3c24b"
      },
      "execution_count": 6,
      "outputs": [
        {
          "output_type": "execute_result",
          "data": {
            "text/plain": [
              "2"
            ]
          },
          "metadata": {},
          "execution_count": 6
        }
      ]
    },
    {
      "cell_type": "code",
      "source": [
        "# How to check size of array\n",
        "\n"
      ],
      "metadata": {
        "id": "x2UaCGVeQrN4"
      },
      "execution_count": 7,
      "outputs": []
    },
    {
      "cell_type": "markdown",
      "source": [
        "#### Size = Total elments in the array"
      ],
      "metadata": {
        "id": "m-3sIPA_Rc0u"
      }
    },
    {
      "cell_type": "code",
      "source": [
        "arr_1d.size"
      ],
      "metadata": {
        "colab": {
          "base_uri": "https://localhost:8080/"
        },
        "id": "ocBi689kRR5h",
        "outputId": "bec67e20-aea6-4d78-8760-c642cc2df567"
      },
      "execution_count": 8,
      "outputs": [
        {
          "output_type": "execute_result",
          "data": {
            "text/plain": [
              "4"
            ]
          },
          "metadata": {},
          "execution_count": 8
        }
      ]
    },
    {
      "cell_type": "code",
      "source": [
        "arr_2d.size"
      ],
      "metadata": {
        "colab": {
          "base_uri": "https://localhost:8080/"
        },
        "id": "XgjvVIZbRVQZ",
        "outputId": "450531f1-6e01-4f94-8652-9ab2bbcc5094"
      },
      "execution_count": 9,
      "outputs": [
        {
          "output_type": "execute_result",
          "data": {
            "text/plain": [
              "8"
            ]
          },
          "metadata": {},
          "execution_count": 9
        }
      ]
    },
    {
      "cell_type": "markdown",
      "source": [
        "## How to Check Shape of an Array\n",
        "\n",
        "shape = rows and Columns"
      ],
      "metadata": {
        "id": "iopsOvDXRjll"
      }
    },
    {
      "cell_type": "code",
      "source": [
        "arr_1d.shape "
      ],
      "metadata": {
        "colab": {
          "base_uri": "https://localhost:8080/"
        },
        "id": "Rgw2QEbxRha4",
        "outputId": "613d630b-7d35-4068-843e-1ff5ac6f1e76"
      },
      "execution_count": 10,
      "outputs": [
        {
          "output_type": "execute_result",
          "data": {
            "text/plain": [
              "(4,)"
            ]
          },
          "metadata": {},
          "execution_count": 10
        }
      ]
    },
    {
      "cell_type": "code",
      "source": [
        "arr_2d.shape"
      ],
      "metadata": {
        "colab": {
          "base_uri": "https://localhost:8080/"
        },
        "id": "R8cTYhdORtRe",
        "outputId": "6248d50e-5d5f-4080-f423-d8700a0bf132"
      },
      "execution_count": 11,
      "outputs": [
        {
          "output_type": "execute_result",
          "data": {
            "text/plain": [
              "(2, 4)"
            ]
          },
          "metadata": {},
          "execution_count": 11
        }
      ]
    },
    {
      "cell_type": "markdown",
      "source": [
        "### Get the data type of array"
      ],
      "metadata": {
        "id": "-ffghoiwSBvN"
      }
    },
    {
      "cell_type": "code",
      "source": [
        "arr_1d.dtype"
      ],
      "metadata": {
        "colab": {
          "base_uri": "https://localhost:8080/"
        },
        "id": "1YB24uuDR10u",
        "outputId": "b76c1c4b-3b96-4a10-d802-0bf3d0c20035"
      },
      "execution_count": 12,
      "outputs": [
        {
          "output_type": "execute_result",
          "data": {
            "text/plain": [
              "dtype('int64')"
            ]
          },
          "metadata": {},
          "execution_count": 12
        }
      ]
    },
    {
      "cell_type": "code",
      "source": [
        "arr_2d.dtype"
      ],
      "metadata": {
        "colab": {
          "base_uri": "https://localhost:8080/"
        },
        "id": "sJrKJizRRxhO",
        "outputId": "1971be46-4a2f-45f8-81f9-40e35928b5d4"
      },
      "execution_count": 13,
      "outputs": [
        {
          "output_type": "execute_result",
          "data": {
            "text/plain": [
              "dtype('int64')"
            ]
          },
          "metadata": {},
          "execution_count": 13
        }
      ]
    },
    {
      "cell_type": "code",
      "source": [
        "arr_2d"
      ],
      "metadata": {
        "id": "Aai6fwocSOio",
        "colab": {
          "base_uri": "https://localhost:8080/"
        },
        "outputId": "f8667767-4eb7-4d22-e084-ef66ae92222a"
      },
      "execution_count": 14,
      "outputs": [
        {
          "output_type": "execute_result",
          "data": {
            "text/plain": [
              "array([[1, 2, 3, 4],\n",
              "       [5, 6, 7, 8]])"
            ]
          },
          "metadata": {},
          "execution_count": 14
        }
      ]
    },
    {
      "cell_type": "markdown",
      "source": [
        "## Other Operation"
      ],
      "metadata": {
        "id": "E_X0s-5EHNcn"
      }
    },
    {
      "cell_type": "code",
      "source": [
        "mx_1s = np.array([[1,1,1],[1,1,1],[1,1,1]])\n",
        "print(mx_1s)"
      ],
      "metadata": {
        "colab": {
          "base_uri": "https://localhost:8080/"
        },
        "id": "9u1XmSKjG5wS",
        "outputId": "03ac7d42-79b0-43f9-ef40-5e5ec17fad65"
      },
      "execution_count": 16,
      "outputs": [
        {
          "output_type": "stream",
          "name": "stdout",
          "text": [
            "[[1 1 1]\n",
            " [1 1 1]\n",
            " [1 1 1]]\n"
          ]
        }
      ]
    },
    {
      "cell_type": "markdown",
      "source": [
        "### One's Array"
      ],
      "metadata": {
        "id": "R2sxqtPTHxBR"
      }
    },
    {
      "cell_type": "code",
      "source": [
        "# Here 5 is number of columns\n",
        "np.ones(5)"
      ],
      "metadata": {
        "colab": {
          "base_uri": "https://localhost:8080/"
        },
        "id": "FAIGI3lNHbq1",
        "outputId": "b1a344d3-da60-4c7b-dbed-8ceb44947923"
      },
      "execution_count": 17,
      "outputs": [
        {
          "output_type": "execute_result",
          "data": {
            "text/plain": [
              "array([1., 1., 1., 1., 1.])"
            ]
          },
          "metadata": {},
          "execution_count": 17
        }
      ]
    },
    {
      "cell_type": "markdown",
      "source": [
        "**But we get output in float form ..**"
      ],
      "metadata": {
        "id": "E3gIWc7SH-XK"
      }
    },
    {
      "cell_type": "code",
      "source": [
        "mx_1s = np.ones(5)"
      ],
      "metadata": {
        "id": "kYMgMOS2H9Lg"
      },
      "execution_count": 18,
      "outputs": []
    },
    {
      "cell_type": "code",
      "source": [
        "mx_1s.dtype"
      ],
      "metadata": {
        "colab": {
          "base_uri": "https://localhost:8080/"
        },
        "id": "aSGVraX6IG9J",
        "outputId": "fd0af014-9305-4503-e36a-a6bddf9dad99"
      },
      "execution_count": 19,
      "outputs": [
        {
          "output_type": "execute_result",
          "data": {
            "text/plain": [
              "dtype('float64')"
            ]
          },
          "metadata": {},
          "execution_count": 19
        }
      ]
    },
    {
      "cell_type": "markdown",
      "source": [
        "**Change this float dtype to integer**"
      ],
      "metadata": {
        "id": "w-cb1lp3IKru"
      }
    },
    {
      "cell_type": "code",
      "source": [
        "mx_1s = np.ones((3,4))\n",
        "print(mx_1s)"
      ],
      "metadata": {
        "colab": {
          "base_uri": "https://localhost:8080/"
        },
        "id": "GcsCfAA0IIwm",
        "outputId": "e8ccc4f0-aaee-424e-e2dd-874abac033ef"
      },
      "execution_count": 20,
      "outputs": [
        {
          "output_type": "stream",
          "name": "stdout",
          "text": [
            "[[1. 1. 1. 1.]\n",
            " [1. 1. 1. 1.]\n",
            " [1. 1. 1. 1.]]\n"
          ]
        }
      ]
    },
    {
      "cell_type": "code",
      "source": [
        "mx_1s = np.ones((3,4),dtype=int)\n",
        "print(mx_1s)"
      ],
      "metadata": {
        "colab": {
          "base_uri": "https://localhost:8080/"
        },
        "id": "IbQCFVxRIZrN",
        "outputId": "75942195-8176-4234-d92b-ed3225b48378"
      },
      "execution_count": 21,
      "outputs": [
        {
          "output_type": "stream",
          "name": "stdout",
          "text": [
            "[[1 1 1 1]\n",
            " [1 1 1 1]\n",
            " [1 1 1 1]]\n"
          ]
        }
      ]
    },
    {
      "cell_type": "markdown",
      "source": [
        "## **Zeros**"
      ],
      "metadata": {
        "id": "bJCE1YrHJDjS"
      }
    },
    {
      "cell_type": "code",
      "source": [
        "mx_0s = np.zeros((4,6))\n",
        "print(mx_0s)"
      ],
      "metadata": {
        "colab": {
          "base_uri": "https://localhost:8080/"
        },
        "id": "QnG553i8JCI5",
        "outputId": "b8025326-1f24-409b-b9b5-ac6d5ce27926"
      },
      "execution_count": 22,
      "outputs": [
        {
          "output_type": "stream",
          "name": "stdout",
          "text": [
            "[[0. 0. 0. 0. 0. 0.]\n",
            " [0. 0. 0. 0. 0. 0.]\n",
            " [0. 0. 0. 0. 0. 0.]\n",
            " [0. 0. 0. 0. 0. 0.]]\n"
          ]
        }
      ]
    },
    {
      "cell_type": "code",
      "source": [
        "mx_0s = np.zeros((4,6),dtype = int)\n",
        "print(mx_0s)"
      ],
      "metadata": {
        "colab": {
          "base_uri": "https://localhost:8080/"
        },
        "id": "uj8ndoFmJOjE",
        "outputId": "78413166-8c81-4ee8-b4fb-35ef0a07303b"
      },
      "execution_count": 23,
      "outputs": [
        {
          "output_type": "stream",
          "name": "stdout",
          "text": [
            "[[0 0 0 0 0 0]\n",
            " [0 0 0 0 0 0]\n",
            " [0 0 0 0 0 0]\n",
            " [0 0 0 0 0 0]]\n"
          ]
        }
      ]
    },
    {
      "cell_type": "code",
      "source": [
        "mx_0s = np.zeros((4,6),dtype = bool)\n",
        "print(mx_0s)"
      ],
      "metadata": {
        "colab": {
          "base_uri": "https://localhost:8080/"
        },
        "id": "oSzQDJK6JS31",
        "outputId": "68e86e60-551e-4fd3-fda9-4efa640a36fc"
      },
      "execution_count": 24,
      "outputs": [
        {
          "output_type": "stream",
          "name": "stdout",
          "text": [
            "[[False False False False False False]\n",
            " [False False False False False False]\n",
            " [False False False False False False]\n",
            " [False False False False False False]]\n"
          ]
        }
      ]
    },
    {
      "cell_type": "code",
      "source": [
        "mx_0s = np.zeros((4,6),dtype = str)\n",
        "print(mx_0s)"
      ],
      "metadata": {
        "colab": {
          "base_uri": "https://localhost:8080/"
        },
        "id": "JWydqQ8QKItk",
        "outputId": "f95a447f-1a25-490a-b1c1-f6018f35c0b3"
      },
      "execution_count": 25,
      "outputs": [
        {
          "output_type": "stream",
          "name": "stdout",
          "text": [
            "[['' '' '' '' '' '']\n",
            " ['' '' '' '' '' '']\n",
            " ['' '' '' '' '' '']\n",
            " ['' '' '' '' '' '']]\n"
          ]
        }
      ]
    },
    {
      "cell_type": "code",
      "source": [
        "em_str = ''\n",
        "print(bool(em_str))"
      ],
      "metadata": {
        "colab": {
          "base_uri": "https://localhost:8080/"
        },
        "id": "-BjiUi6rKLOT",
        "outputId": "7a13913e-70d7-44b3-fce2-c62fd579381b"
      },
      "execution_count": 28,
      "outputs": [
        {
          "output_type": "stream",
          "name": "stdout",
          "text": [
            "False\n"
          ]
        }
      ]
    },
    {
      "cell_type": "markdown",
      "source": [
        "## **Empty Matrix**\n",
        "\n",
        "But can't be empty..any random values it can shows"
      ],
      "metadata": {
        "id": "_x10Un2wKlsP"
      }
    },
    {
      "cell_type": "code",
      "source": [
        "em_mx = np.empty((3,3))\n",
        "print(em_mx)"
      ],
      "metadata": {
        "colab": {
          "base_uri": "https://localhost:8080/"
        },
        "id": "CO7F548rKdmP",
        "outputId": "f073d8cc-2385-4e11-9372-a292b9851a6f"
      },
      "execution_count": 29,
      "outputs": [
        {
          "output_type": "stream",
          "name": "stdout",
          "text": [
            "[[5.e-324 5.e-324 5.e-324]\n",
            " [5.e-324 5.e-324 5.e-324]\n",
            " [5.e-324 5.e-324 5.e-324]]\n"
          ]
        }
      ]
    },
    {
      "cell_type": "markdown",
      "source": [
        "## **Numpy Functions**"
      ],
      "metadata": {
        "id": "OYdqgYa7LHgN"
      }
    },
    {
      "cell_type": "markdown",
      "source": [
        "## 1. arange()"
      ],
      "metadata": {
        "id": "ynJdVra6LYTv"
      }
    },
    {
      "cell_type": "code",
      "source": [
        "#  np.arange(start,end,steps)\n",
        "\n",
        "ar_1d = np.arange(1,13,1)\n",
        "print(ar_1d)"
      ],
      "metadata": {
        "colab": {
          "base_uri": "https://localhost:8080/"
        },
        "id": "RvcO9_CnKyJa",
        "outputId": "9901ae10-e08d-411b-9683-44d8e34bf5f1"
      },
      "execution_count": 32,
      "outputs": [
        {
          "output_type": "stream",
          "name": "stdout",
          "text": [
            "[ 1  2  3  4  5  6  7  8  9 10 11 12]\n"
          ]
        }
      ]
    },
    {
      "cell_type": "code",
      "source": [
        "# Even No in Between Range 1 to 13\n",
        "\n",
        "ar_1d = np.arange(1,13,2)\n",
        "ar_1d"
      ],
      "metadata": {
        "colab": {
          "base_uri": "https://localhost:8080/"
        },
        "id": "UgohmGZ8L2Cl",
        "outputId": "414ad2fc-59ce-4728-fbc5-439840457c57"
      },
      "execution_count": 33,
      "outputs": [
        {
          "output_type": "execute_result",
          "data": {
            "text/plain": [
              "array([ 1,  3,  5,  7,  9, 11])"
            ]
          },
          "metadata": {},
          "execution_count": 33
        }
      ]
    },
    {
      "cell_type": "markdown",
      "source": [
        "## 2. linspace()"
      ],
      "metadata": {
        "id": "lA7fa74xMLcP"
      }
    },
    {
      "cell_type": "code",
      "source": [
        "# np.linspace(start, stop, num=50, endpoint=True, retstep=False, dtype=None, axis=0)\n",
        "\n",
        "np.linspace(1,5,4)"
      ],
      "metadata": {
        "colab": {
          "base_uri": "https://localhost:8080/"
        },
        "id": "J6-QLRsTMJAp",
        "outputId": "b6fd9ff8-a63b-4bbb-a14f-b7de333803b8"
      },
      "execution_count": 36,
      "outputs": [
        {
          "output_type": "execute_result",
          "data": {
            "text/plain": [
              "array([1.        , 2.33333333, 3.66666667, 5.        ])"
            ]
          },
          "metadata": {},
          "execution_count": 36
        }
      ]
    },
    {
      "cell_type": "markdown",
      "source": [
        "## 3. Reshape()\n",
        "\n",
        "Convert 1d array to the onther 2d or 3d array\n",
        "\n",
        "it also depends on how much elements do you have.."
      ],
      "metadata": {
        "id": "1eAyYS2iNaz_"
      }
    },
    {
      "cell_type": "code",
      "source": [
        "ar_1d = np.arange(1,13,1)\n",
        "print(ar_1d)"
      ],
      "metadata": {
        "colab": {
          "base_uri": "https://localhost:8080/"
        },
        "id": "6VTdQsDLNENJ",
        "outputId": "41f2ecc1-6830-450f-e8de-17ba6fd82b05"
      },
      "execution_count": 38,
      "outputs": [
        {
          "output_type": "stream",
          "name": "stdout",
          "text": [
            "[ 1  2  3  4  5  6  7  8  9 10 11 12]\n"
          ]
        }
      ]
    },
    {
      "cell_type": "code",
      "source": [
        "# Converting to 2d\n",
        "\n",
        "ar_1d.reshape(2,6)"
      ],
      "metadata": {
        "colab": {
          "base_uri": "https://localhost:8080/"
        },
        "id": "JWZKqL_QN6tp",
        "outputId": "0efd20d6-3f2b-4dfe-d8af-7e715d0acf56"
      },
      "execution_count": 40,
      "outputs": [
        {
          "output_type": "execute_result",
          "data": {
            "text/plain": [
              "array([[ 1,  2,  3,  4,  5,  6],\n",
              "       [ 7,  8,  9, 10, 11, 12]])"
            ]
          },
          "metadata": {},
          "execution_count": 40
        }
      ]
    },
    {
      "cell_type": "code",
      "source": [
        "# Converting to the 3D\n",
        "\n",
        "ar_1d.reshape(2,3,2)"
      ],
      "metadata": {
        "colab": {
          "base_uri": "https://localhost:8080/"
        },
        "id": "Q2s2y9X4OESd",
        "outputId": "0620fd93-d7a1-488c-f73f-3e727e50968e"
      },
      "execution_count": 41,
      "outputs": [
        {
          "output_type": "execute_result",
          "data": {
            "text/plain": [
              "array([[[ 1,  2],\n",
              "        [ 3,  4],\n",
              "        [ 5,  6]],\n",
              "\n",
              "       [[ 7,  8],\n",
              "        [ 9, 10],\n",
              "        [11, 12]]])"
            ]
          },
          "metadata": {},
          "execution_count": 41
        }
      ]
    },
    {
      "cell_type": "code",
      "source": [
        "ar = np.arange(1,19).reshape(3,6)\n",
        "print(ar)"
      ],
      "metadata": {
        "colab": {
          "base_uri": "https://localhost:8080/"
        },
        "id": "lTVIZ05HOb3d",
        "outputId": "5c601722-1e81-4bbf-b09a-30c867a8eb48"
      },
      "execution_count": 43,
      "outputs": [
        {
          "output_type": "stream",
          "name": "stdout",
          "text": [
            "[[ 1  2  3  4  5  6]\n",
            " [ 7  8  9 10 11 12]\n",
            " [13 14 15 16 17 18]]\n"
          ]
        }
      ]
    },
    {
      "cell_type": "markdown",
      "source": [
        "## 4. ravel()\n",
        "\n",
        "Multidimension array to the 1d array"
      ],
      "metadata": {
        "id": "ExiKvVylPDqK"
      }
    },
    {
      "cell_type": "code",
      "source": [
        "ar.ravel()"
      ],
      "metadata": {
        "colab": {
          "base_uri": "https://localhost:8080/"
        },
        "id": "qAKRYiPcO73X",
        "outputId": "7fcbcc80-d4b8-4093-b389-8878585c548b"
      },
      "execution_count": 44,
      "outputs": [
        {
          "output_type": "execute_result",
          "data": {
            "text/plain": [
              "array([ 1,  2,  3,  4,  5,  6,  7,  8,  9, 10, 11, 12, 13, 14, 15, 16, 17,\n",
              "       18])"
            ]
          },
          "metadata": {},
          "execution_count": 44
        }
      ]
    },
    {
      "cell_type": "markdown",
      "source": [
        "## 5. flatten()\n",
        "\n",
        "works same as ravel"
      ],
      "metadata": {
        "id": "WO36G3RzPuCl"
      }
    },
    {
      "cell_type": "code",
      "source": [
        "ar.flatten()"
      ],
      "metadata": {
        "colab": {
          "base_uri": "https://localhost:8080/"
        },
        "id": "FIy0N7gMPr9N",
        "outputId": "966d767c-0ac4-42c8-f627-34ddff340b29"
      },
      "execution_count": 47,
      "outputs": [
        {
          "output_type": "execute_result",
          "data": {
            "text/plain": [
              "array([ 1,  2,  3,  4,  5,  6,  7,  8,  9, 10, 11, 12, 13, 14, 15, 16, 17,\n",
              "       18])"
            ]
          },
          "metadata": {},
          "execution_count": 47
        }
      ]
    },
    {
      "cell_type": "markdown",
      "source": [
        "\n",
        "## 6. Transpose()"
      ],
      "metadata": {
        "id": "Ibmgml9RQL8T"
      }
    },
    {
      "cell_type": "code",
      "source": [
        "print(ar)"
      ],
      "metadata": {
        "colab": {
          "base_uri": "https://localhost:8080/"
        },
        "id": "xq13Cx5wQcXo",
        "outputId": "af914af2-51ad-468f-f1d2-41ac9d31a58b"
      },
      "execution_count": 51,
      "outputs": [
        {
          "output_type": "stream",
          "name": "stdout",
          "text": [
            "[[ 1  2  3  4  5  6]\n",
            " [ 7  8  9 10 11 12]\n",
            " [13 14 15 16 17 18]]\n"
          ]
        }
      ]
    },
    {
      "cell_type": "code",
      "source": [
        "ar_trans = ar.transpose()\n",
        "print(ar_trans)"
      ],
      "metadata": {
        "colab": {
          "base_uri": "https://localhost:8080/"
        },
        "id": "qGMMUso6P-G8",
        "outputId": "bf5fb49b-fde2-4296-e58e-b6973e9a64ce"
      },
      "execution_count": 50,
      "outputs": [
        {
          "output_type": "stream",
          "name": "stdout",
          "text": [
            "[[ 1  7 13]\n",
            " [ 2  8 14]\n",
            " [ 3  9 15]\n",
            " [ 4 10 16]\n",
            " [ 5 11 17]\n",
            " [ 6 12 18]]\n"
          ]
        }
      ]
    },
    {
      "cell_type": "code",
      "source": [
        "ar.T"
      ],
      "metadata": {
        "colab": {
          "base_uri": "https://localhost:8080/"
        },
        "id": "MPxNt2JdQTsZ",
        "outputId": "939e2585-c0b7-4623-f476-0a2a78455e40"
      },
      "execution_count": 52,
      "outputs": [
        {
          "output_type": "execute_result",
          "data": {
            "text/plain": [
              "array([[ 1,  7, 13],\n",
              "       [ 2,  8, 14],\n",
              "       [ 3,  9, 15],\n",
              "       [ 4, 10, 16],\n",
              "       [ 5, 11, 17],\n",
              "       [ 6, 12, 18]])"
            ]
          },
          "metadata": {},
          "execution_count": 52
        }
      ]
    },
    {
      "cell_type": "markdown",
      "source": [
        "# **Mathematic OPeration using Numpy**"
      ],
      "metadata": {
        "id": "a1we4bIXRXmX"
      }
    },
    {
      "cell_type": "code",
      "source": [
        "# Creating 1d array using arange function and converting it into 2d array using reshape\n",
        "\n",
        "arr1 = np.arange(1,10).reshape(3,3)  \n",
        "arr2 = np.arange(1,10).reshape(3,3)\n",
        "print(arr1)\n",
        "print()\n",
        "print(arr2)\n"
      ],
      "metadata": {
        "colab": {
          "base_uri": "https://localhost:8080/"
        },
        "id": "4bnR-x8IRlFy",
        "outputId": "3365efb7-cbc5-4b97-b2c3-23887ffc5f09"
      },
      "execution_count": 57,
      "outputs": [
        {
          "output_type": "stream",
          "name": "stdout",
          "text": [
            "[[1 2 3]\n",
            " [4 5 6]\n",
            " [7 8 9]]\n",
            "\n",
            "[[1 2 3]\n",
            " [4 5 6]\n",
            " [7 8 9]]\n"
          ]
        }
      ]
    },
    {
      "cell_type": "markdown",
      "source": [
        "## 1. Additon\n",
        "\n",
        " Elementwise Addition"
      ],
      "metadata": {
        "id": "_L17JDFESU04"
      }
    },
    {
      "cell_type": "code",
      "source": [
        "# By one way\n",
        "\n",
        "arr1 + arr2"
      ],
      "metadata": {
        "colab": {
          "base_uri": "https://localhost:8080/"
        },
        "id": "Dt_ig7-ERUZ9",
        "outputId": "af9700a6-683f-4a18-e0d0-3355a6ac61be"
      },
      "execution_count": 58,
      "outputs": [
        {
          "output_type": "execute_result",
          "data": {
            "text/plain": [
              "array([[ 2,  4,  6],\n",
              "       [ 8, 10, 12],\n",
              "       [14, 16, 18]])"
            ]
          },
          "metadata": {},
          "execution_count": 58
        }
      ]
    },
    {
      "cell_type": "code",
      "source": [
        "# using Numpy\n",
        "\n",
        "np.add(arr1,arr2)"
      ],
      "metadata": {
        "colab": {
          "base_uri": "https://localhost:8080/"
        },
        "id": "60MQsVrnSixS",
        "outputId": "7f241740-4c89-4d86-90d8-2c82fd373705"
      },
      "execution_count": 59,
      "outputs": [
        {
          "output_type": "execute_result",
          "data": {
            "text/plain": [
              "array([[ 2,  4,  6],\n",
              "       [ 8, 10, 12],\n",
              "       [14, 16, 18]])"
            ]
          },
          "metadata": {},
          "execution_count": 59
        }
      ]
    },
    {
      "cell_type": "markdown",
      "source": [
        "## 2. Subtraction"
      ],
      "metadata": {
        "id": "EtXRmcxZSq0p"
      }
    },
    {
      "cell_type": "code",
      "source": [
        "np.subtract(arr1,arr2)"
      ],
      "metadata": {
        "colab": {
          "base_uri": "https://localhost:8080/"
        },
        "id": "DGeaGS0dSoBo",
        "outputId": "625f8ce0-1362-47a4-f889-1975ee9f60fe"
      },
      "execution_count": 62,
      "outputs": [
        {
          "output_type": "execute_result",
          "data": {
            "text/plain": [
              "array([[0, 0, 0],\n",
              "       [0, 0, 0],\n",
              "       [0, 0, 0]])"
            ]
          },
          "metadata": {},
          "execution_count": 62
        }
      ]
    },
    {
      "cell_type": "markdown",
      "source": [
        "## 3. Division"
      ],
      "metadata": {
        "id": "haWpPLZiS4TQ"
      }
    },
    {
      "cell_type": "code",
      "source": [
        "np.divide(arr1,arr2)"
      ],
      "metadata": {
        "colab": {
          "base_uri": "https://localhost:8080/"
        },
        "id": "4YjLAFIsSyRE",
        "outputId": "2e51e1a0-e178-4fd6-8402-d5afcfd39275"
      },
      "execution_count": 63,
      "outputs": [
        {
          "output_type": "execute_result",
          "data": {
            "text/plain": [
              "array([[1., 1., 1.],\n",
              "       [1., 1., 1.],\n",
              "       [1., 1., 1.]])"
            ]
          },
          "metadata": {},
          "execution_count": 63
        }
      ]
    },
    {
      "cell_type": "markdown",
      "source": [
        "## 4. Multiplication\n"
      ],
      "metadata": {
        "id": "Hj7mYxeDTByR"
      }
    },
    {
      "cell_type": "code",
      "source": [
        "# Element wise Product\n",
        "\n",
        "arr1 * arr2"
      ],
      "metadata": {
        "colab": {
          "base_uri": "https://localhost:8080/"
        },
        "id": "upNWPfm-S-D9",
        "outputId": "c4ecc30a-5e25-4a8e-b787-002f9a1a3659"
      },
      "execution_count": 66,
      "outputs": [
        {
          "output_type": "execute_result",
          "data": {
            "text/plain": [
              "array([[ 1,  4,  9],\n",
              "       [16, 25, 36],\n",
              "       [49, 64, 81]])"
            ]
          },
          "metadata": {},
          "execution_count": 66
        }
      ]
    },
    {
      "cell_type": "code",
      "source": [
        "# Matrix Multiplication\n",
        "\n",
        "arr1 @ arr2"
      ],
      "metadata": {
        "colab": {
          "base_uri": "https://localhost:8080/"
        },
        "id": "Sq0jKowWTHbi",
        "outputId": "fa8fa2f4-39cf-4f15-d158-f15c7484590c"
      },
      "execution_count": 67,
      "outputs": [
        {
          "output_type": "execute_result",
          "data": {
            "text/plain": [
              "array([[ 30,  36,  42],\n",
              "       [ 66,  81,  96],\n",
              "       [102, 126, 150]])"
            ]
          },
          "metadata": {},
          "execution_count": 67
        }
      ]
    },
    {
      "cell_type": "code",
      "source": [
        "arr1.dot(arr2)"
      ],
      "metadata": {
        "colab": {
          "base_uri": "https://localhost:8080/"
        },
        "id": "rIISgFk_TTYT",
        "outputId": "bc47c350-526a-48a5-e7a4-73544c4e9ada"
      },
      "execution_count": 68,
      "outputs": [
        {
          "output_type": "execute_result",
          "data": {
            "text/plain": [
              "array([[ 30,  36,  42],\n",
              "       [ 66,  81,  96],\n",
              "       [102, 126, 150]])"
            ]
          },
          "metadata": {},
          "execution_count": 68
        }
      ]
    },
    {
      "cell_type": "markdown",
      "source": [
        "## Finding Max value in matrix"
      ],
      "metadata": {
        "id": "iIalda5zTsOG"
      }
    },
    {
      "cell_type": "code",
      "source": [
        "arr1.max()"
      ],
      "metadata": {
        "colab": {
          "base_uri": "https://localhost:8080/"
        },
        "id": "JB8N8DqfTplr",
        "outputId": "9fefde68-6370-4ff0-c10f-6f53d005bfb8"
      },
      "execution_count": 69,
      "outputs": [
        {
          "output_type": "execute_result",
          "data": {
            "text/plain": [
              "9"
            ]
          },
          "metadata": {},
          "execution_count": 69
        }
      ]
    },
    {
      "cell_type": "markdown",
      "source": [
        "## Finding Index of max value elem"
      ],
      "metadata": {
        "id": "lW5AvQS0T1hp"
      }
    },
    {
      "cell_type": "code",
      "source": [
        "arr1.argmax()"
      ],
      "metadata": {
        "colab": {
          "base_uri": "https://localhost:8080/"
        },
        "id": "n7KSKPzdTx3g",
        "outputId": "8c2ee891-82f7-42d4-f4e1-d88f0035f052"
      },
      "execution_count": 70,
      "outputs": [
        {
          "output_type": "execute_result",
          "data": {
            "text/plain": [
              "8"
            ]
          },
          "metadata": {},
          "execution_count": 70
        }
      ]
    },
    {
      "cell_type": "markdown",
      "source": [
        "## To find maximum value columnwise or Row wise"
      ],
      "metadata": {
        "id": "PVpFAVTCUBTc"
      }
    },
    {
      "cell_type": "code",
      "source": [
        "arr1"
      ],
      "metadata": {
        "colab": {
          "base_uri": "https://localhost:8080/"
        },
        "id": "Y846AmrwUcc5",
        "outputId": "fc8be4ed-503e-4764-c66f-fa105d85ebdb"
      },
      "execution_count": 72,
      "outputs": [
        {
          "output_type": "execute_result",
          "data": {
            "text/plain": [
              "array([[1, 2, 3],\n",
              "       [4, 5, 6],\n",
              "       [7, 8, 9]])"
            ]
          },
          "metadata": {},
          "execution_count": 72
        }
      ]
    },
    {
      "cell_type": "code",
      "source": [
        "# axis=0 represnt COLUMN\n",
        "# axis=1 represnt ROW\n",
        "\n",
        "arr1.max(axis = 0)"
      ],
      "metadata": {
        "colab": {
          "base_uri": "https://localhost:8080/"
        },
        "id": "55uhJqiyT8BV",
        "outputId": "191e2347-5d96-4cac-8d0e-4528663a50d9"
      },
      "execution_count": 71,
      "outputs": [
        {
          "output_type": "execute_result",
          "data": {
            "text/plain": [
              "array([7, 8, 9])"
            ]
          },
          "metadata": {},
          "execution_count": 71
        }
      ]
    },
    {
      "cell_type": "markdown",
      "source": [
        "In this output 7 is max from first column,\n",
        "8 from second and 9 from third column"
      ],
      "metadata": {
        "id": "PJoa-imZUluY"
      }
    },
    {
      "cell_type": "code",
      "source": [
        "arr1.max(axis=1)"
      ],
      "metadata": {
        "colab": {
          "base_uri": "https://localhost:8080/"
        },
        "id": "dB_f69hSUe0v",
        "outputId": "4166c8f9-f990-4c1c-9008-90d5fffb5667"
      },
      "execution_count": 73,
      "outputs": [
        {
          "output_type": "execute_result",
          "data": {
            "text/plain": [
              "array([3, 6, 9])"
            ]
          },
          "metadata": {},
          "execution_count": 73
        }
      ]
    },
    {
      "cell_type": "markdown",
      "source": [
        "## Finding Minimum value"
      ],
      "metadata": {
        "id": "AOjsG1TMVfgt"
      }
    },
    {
      "cell_type": "code",
      "source": [
        "arr1.min()"
      ],
      "metadata": {
        "colab": {
          "base_uri": "https://localhost:8080/"
        },
        "id": "PInTPMrVUYxA",
        "outputId": "a57d8bdc-16f3-4c2b-ea50-5001b74eac91"
      },
      "execution_count": 76,
      "outputs": [
        {
          "output_type": "execute_result",
          "data": {
            "text/plain": [
              "1"
            ]
          },
          "metadata": {},
          "execution_count": 76
        }
      ]
    },
    {
      "cell_type": "code",
      "source": [
        "# GIves Index Value\n",
        "\n",
        "arr1.argmin()\n"
      ],
      "metadata": {
        "colab": {
          "base_uri": "https://localhost:8080/"
        },
        "id": "H-AcsmG1Vcsw",
        "outputId": "c92fb85d-8705-4da8-b048-50ac73e66cfd"
      },
      "execution_count": 78,
      "outputs": [
        {
          "output_type": "execute_result",
          "data": {
            "text/plain": [
              "0"
            ]
          },
          "metadata": {},
          "execution_count": 78
        }
      ]
    },
    {
      "cell_type": "code",
      "source": [
        "arr1.min(axis=0)"
      ],
      "metadata": {
        "colab": {
          "base_uri": "https://localhost:8080/"
        },
        "id": "D_Yc0MB5Vl-b",
        "outputId": "2c9defb1-8aab-43df-9ceb-03b526d76cfe"
      },
      "execution_count": 79,
      "outputs": [
        {
          "output_type": "execute_result",
          "data": {
            "text/plain": [
              "array([1, 2, 3])"
            ]
          },
          "metadata": {},
          "execution_count": 79
        }
      ]
    },
    {
      "cell_type": "code",
      "source": [
        "arr1.min(axis=1)"
      ],
      "metadata": {
        "colab": {
          "base_uri": "https://localhost:8080/"
        },
        "id": "GxLqmW39VwF7",
        "outputId": "e885bd50-60aa-4c51-ec11-0cbf3f3361be"
      },
      "execution_count": 80,
      "outputs": [
        {
          "output_type": "execute_result",
          "data": {
            "text/plain": [
              "array([1, 4, 7])"
            ]
          },
          "metadata": {},
          "execution_count": 80
        }
      ]
    },
    {
      "cell_type": "markdown",
      "source": [
        "## How to add all the elements from same array and get output"
      ],
      "metadata": {
        "id": "fdUNsyXnV5nM"
      }
    },
    {
      "cell_type": "code",
      "source": [
        "np.sum(arr1)"
      ],
      "metadata": {
        "colab": {
          "base_uri": "https://localhost:8080/"
        },
        "id": "l_Fi1IzrVzD9",
        "outputId": "fc3d99f4-8768-40db-d8c2-6afb22c57fe6"
      },
      "execution_count": 81,
      "outputs": [
        {
          "output_type": "execute_result",
          "data": {
            "text/plain": [
              "45"
            ]
          },
          "metadata": {},
          "execution_count": 81
        }
      ]
    },
    {
      "cell_type": "markdown",
      "source": [
        "### Sum all elements from each row or colun from array"
      ],
      "metadata": {
        "id": "mrkom8THWKfT"
      }
    },
    {
      "cell_type": "code",
      "source": [
        "np.sum(arr1,axis=0)"
      ],
      "metadata": {
        "colab": {
          "base_uri": "https://localhost:8080/"
        },
        "id": "CFG7S3lHWBqF",
        "outputId": "1122fc58-5e4f-480d-9cf5-5dd025c164d0"
      },
      "execution_count": 82,
      "outputs": [
        {
          "output_type": "execute_result",
          "data": {
            "text/plain": [
              "array([12, 15, 18])"
            ]
          },
          "metadata": {},
          "execution_count": 82
        }
      ]
    },
    {
      "cell_type": "code",
      "source": [
        "np.sum(arr1,axis=1)"
      ],
      "metadata": {
        "colab": {
          "base_uri": "https://localhost:8080/"
        },
        "id": "RuSGM_dvWZ2F",
        "outputId": "cc3064dc-8842-42d6-cb7a-aaeb2b24197f"
      },
      "execution_count": 83,
      "outputs": [
        {
          "output_type": "execute_result",
          "data": {
            "text/plain": [
              "array([ 6, 15, 24])"
            ]
          },
          "metadata": {},
          "execution_count": 83
        }
      ]
    },
    {
      "cell_type": "markdown",
      "source": [
        "\n",
        "\n",
        "## Mean of array"
      ],
      "metadata": {
        "id": "zPOTSvmXWscS"
      }
    },
    {
      "cell_type": "code",
      "source": [
        "np.mean(arr1)"
      ],
      "metadata": {
        "colab": {
          "base_uri": "https://localhost:8080/"
        },
        "id": "djp1YhBgWb-k",
        "outputId": "a065b38a-947a-49af-f523-f0e3a5e4c3b2"
      },
      "execution_count": 84,
      "outputs": [
        {
          "output_type": "execute_result",
          "data": {
            "text/plain": [
              "5.0"
            ]
          },
          "metadata": {},
          "execution_count": 84
        }
      ]
    },
    {
      "cell_type": "markdown",
      "source": [
        "## Finding square root of each element from array"
      ],
      "metadata": {
        "id": "EIeO33ucW4zD"
      }
    },
    {
      "cell_type": "code",
      "source": [
        "np.sqrt(arr1)"
      ],
      "metadata": {
        "colab": {
          "base_uri": "https://localhost:8080/"
        },
        "id": "woStGjMmWzk-",
        "outputId": "cc3fd9b8-8bf9-4595-a34d-3b0930a40f95"
      },
      "execution_count": 87,
      "outputs": [
        {
          "output_type": "execute_result",
          "data": {
            "text/plain": [
              "array([[1.        , 1.41421356, 1.73205081],\n",
              "       [2.        , 2.23606798, 2.44948974],\n",
              "       [2.64575131, 2.82842712, 3.        ]])"
            ]
          },
          "metadata": {},
          "execution_count": 87
        }
      ]
    },
    {
      "cell_type": "markdown",
      "source": [
        "## Standard Division"
      ],
      "metadata": {
        "id": "CghsWZsGXLMw"
      }
    },
    {
      "cell_type": "code",
      "source": [
        "np.std(arr1)"
      ],
      "metadata": {
        "colab": {
          "base_uri": "https://localhost:8080/"
        },
        "id": "oE2gcRuVXBOC",
        "outputId": "a5f7f765-84de-4354-bd12-8d2d8d31294e"
      },
      "execution_count": 88,
      "outputs": [
        {
          "output_type": "execute_result",
          "data": {
            "text/plain": [
              "2.581988897471611"
            ]
          },
          "metadata": {},
          "execution_count": 88
        }
      ]
    },
    {
      "cell_type": "markdown",
      "source": [
        "##Exponent"
      ],
      "metadata": {
        "id": "YMl1GHyFXS_H"
      }
    },
    {
      "cell_type": "code",
      "source": [
        "np.exp(arr1)"
      ],
      "metadata": {
        "colab": {
          "base_uri": "https://localhost:8080/"
        },
        "id": "s-vqQSgGXP8z",
        "outputId": "97daed56-c182-4fb9-b003-2dd93b67219c"
      },
      "execution_count": 89,
      "outputs": [
        {
          "output_type": "execute_result",
          "data": {
            "text/plain": [
              "array([[2.71828183e+00, 7.38905610e+00, 2.00855369e+01],\n",
              "       [5.45981500e+01, 1.48413159e+02, 4.03428793e+02],\n",
              "       [1.09663316e+03, 2.98095799e+03, 8.10308393e+03]])"
            ]
          },
          "metadata": {},
          "execution_count": 89
        }
      ]
    },
    {
      "cell_type": "markdown",
      "source": [
        "## LOG"
      ],
      "metadata": {
        "id": "YGyw1xaBXbQq"
      }
    },
    {
      "cell_type": "code",
      "source": [
        "# log gives natural log\n",
        "\n",
        "np.log(arr1)"
      ],
      "metadata": {
        "colab": {
          "base_uri": "https://localhost:8080/"
        },
        "id": "lyQYLguPXYVF",
        "outputId": "55d7e8cb-7a36-4120-b0aa-fac588c09be9"
      },
      "execution_count": 90,
      "outputs": [
        {
          "output_type": "execute_result",
          "data": {
            "text/plain": [
              "array([[0.        , 0.69314718, 1.09861229],\n",
              "       [1.38629436, 1.60943791, 1.79175947],\n",
              "       [1.94591015, 2.07944154, 2.19722458]])"
            ]
          },
          "metadata": {},
          "execution_count": 90
        }
      ]
    },
    {
      "cell_type": "code",
      "source": [
        "# to find log base 10\n",
        "\n",
        "np.log10(arr1)"
      ],
      "metadata": {
        "colab": {
          "base_uri": "https://localhost:8080/"
        },
        "id": "fsCsBk3UXizg",
        "outputId": "c661906b-099e-4b76-9949-6ffcbec95d4d"
      },
      "execution_count": 91,
      "outputs": [
        {
          "output_type": "execute_result",
          "data": {
            "text/plain": [
              "array([[0.        , 0.30103   , 0.47712125],\n",
              "       [0.60205999, 0.69897   , 0.77815125],\n",
              "       [0.84509804, 0.90308999, 0.95424251]])"
            ]
          },
          "metadata": {},
          "execution_count": 91
        }
      ]
    },
    {
      "cell_type": "code",
      "source": [
        ""
      ],
      "metadata": {
        "id": "-MWdcVcUXpC2"
      },
      "execution_count": null,
      "outputs": []
    }
  ]
}