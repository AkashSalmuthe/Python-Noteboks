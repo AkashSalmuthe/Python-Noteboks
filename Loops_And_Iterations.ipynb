{
  "nbformat": 4,
  "nbformat_minor": 0,
  "metadata": {
    "colab": {
      "name": "Loops And Iterations.ipynb",
      "provenance": [],
      "authorship_tag": "ABX9TyNXmVe39RLYm/YrbBg9RTqj",
      "include_colab_link": true
    },
    "kernelspec": {
      "name": "python3",
      "display_name": "Python 3"
    },
    "language_info": {
      "name": "python"
    }
  },
  "cells": [
    {
      "cell_type": "markdown",
      "metadata": {
        "id": "view-in-github",
        "colab_type": "text"
      },
      "source": [
        "<a href=\"https://colab.research.google.com/github/AkashSalmuthe/Python-Noteboks/blob/main/Loops_And_Iterations.ipynb\" target=\"_parent\"><img src=\"https://colab.research.google.com/assets/colab-badge.svg\" alt=\"Open In Colab\"/></a>"
      ]
    },
    {
      "cell_type": "markdown",
      "source": [
        "## Loops are important in Python or in any other programming language as they help you to execute a block of code repeatedly. You will often come face to face with situations where you would need to use a piece of code over and over but you don't want to write the same line of code multiple times."
      ],
      "metadata": {
        "id": "1WhjvLbc__g0"
      }
    },
    {
      "cell_type": "markdown",
      "source": [
        "### In Python we have mainly two different types of loops :\n",
        "\n",
        "\n",
        "* <u>for loop</u> : In the context of most data science work, Python for loops are used to loop through an iterable object (like a list, tuple, set, etc.) and perform the same action for each entry. For example, a for loop would allow us to iterate through a list, performing the same action on each item in the list.\n",
        "\n",
        "\n",
        "* <u>while loop</u> : The while loop is somewhat similar to an if statement, it executes the code inside, if the condition is True. However, as opposed to the if statement, the while loop continues to execute the code repeatedly as long as the condition is True."
      ],
      "metadata": {
        "id": "P3SgnYbIADX6"
      }
    },
    {
      "cell_type": "markdown",
      "source": [
        "# for loops\n",
        "\n",
        "A <code>for</code> loop acts as an iterator in Python; it goes through items that are in a *sequence* or any other iterable item. Iterable is an object, which one can iterate over. Objects that we've learned about that we can iterate over include strings, lists, tuples, and even built-in iterables for dictionaries, such as keys or values.\n",
        "\n",
        "Here's the general format for a <code>for</code> loop in Python:\n",
        "\n",
        "    for item in object:\n",
        "        statements to do stuff"
      ],
      "metadata": {
        "id": "JzHoM1zQAJo9"
      }
    },
    {
      "cell_type": "markdown",
      "source": [
        "The variable name used for the item is completely up to the coder, so use your best judgment for choosing a name that makes sense and you will be able to understand when revisiting your code. This item name can then be referenced inside your loop, for example if you wanted to use <code>if</code> statements to perform checks.\n",
        "\n",
        "Let's go ahead and work through several example of <code>for</code> loops using a variety of data object types. We'll start simple and build more complexity later on."
      ],
      "metadata": {
        "id": "PzFS2nyuAQB1"
      }
    },
    {
      "cell_type": "markdown",
      "source": [
        "### <u> Example 1</u>\n",
        "\n",
        "\n",
        "#### Let us print each element of our list of strings using a for loop statement\n",
        "\n",
        "\n"
      ],
      "metadata": {
        "id": "YA1I08vcAUXW"
      }
    },
    {
      "cell_type": "code",
      "source": [
        "# Consider a list of strings \n",
        "\n",
        "houses = ['Stark', 'Arryn', 'Baratheon', 'Tully', 'Greyjoy', 'Lannister', 'Tyrell', 'Martell', 'Targaryen']"
      ],
      "metadata": {
        "id": "HQqQp32FAADI"
      },
      "execution_count": null,
      "outputs": []
    },
    {
      "cell_type": "code",
      "source": [
        "for house in houses:\n",
        "  print(f'house {house}')"
      ],
      "metadata": {
        "colab": {
          "base_uri": "https://localhost:8080/"
        },
        "id": "0HFLKxyrAame",
        "outputId": "ccaf60a5-625d-40c4-ea91-f2eebf867cbb"
      },
      "execution_count": null,
      "outputs": [
        {
          "output_type": "stream",
          "name": "stdout",
          "text": [
            "house Stark\n",
            "house Arryn\n",
            "house Baratheon\n",
            "house Tully\n",
            "house Greyjoy\n",
            "house Lannister\n",
            "house Tyrell\n",
            "house Martell\n",
            "house Targaryen\n"
          ]
        }
      ]
    },
    {
      "cell_type": "code",
      "source": [
        "for i,h in enumerate(houses):\n",
        "  print(f'For house {h} Index is {i}')"
      ],
      "metadata": {
        "colab": {
          "base_uri": "https://localhost:8080/"
        },
        "id": "GrMXczjBAinW",
        "outputId": "e30fb992-fbf3-44c4-82c0-e1542cf345b2"
      },
      "execution_count": null,
      "outputs": [
        {
          "output_type": "stream",
          "name": "stdout",
          "text": [
            "For house Stark Index is 0\n",
            "For house Arryn Index is 1\n",
            "For house Baratheon Index is 2\n",
            "For house Tully Index is 3\n",
            "For house Greyjoy Index is 4\n",
            "For house Lannister Index is 5\n",
            "For house Tyrell Index is 6\n",
            "For house Martell Index is 7\n",
            "For house Targaryen Index is 8\n"
          ]
        }
      ]
    },
    {
      "cell_type": "code",
      "source": [
        "list(enumerate(houses))"
      ],
      "metadata": {
        "colab": {
          "base_uri": "https://localhost:8080/"
        },
        "id": "RlYBlhq4A4uf",
        "outputId": "489ddcf4-c10b-404a-be71-3475e0dad337"
      },
      "execution_count": null,
      "outputs": [
        {
          "output_type": "execute_result",
          "data": {
            "text/plain": [
              "[(0, 'Stark'),\n",
              " (1, 'Arryn'),\n",
              " (2, 'Baratheon'),\n",
              " (3, 'Tully'),\n",
              " (4, 'Greyjoy'),\n",
              " (5, 'Lannister'),\n",
              " (6, 'Tyrell'),\n",
              " (7, 'Martell'),\n",
              " (8, 'Targaryen')]"
            ]
          },
          "metadata": {},
          "execution_count": 9
        }
      ]
    },
    {
      "cell_type": "markdown",
      "source": [
        "### <u>Example 2</u>\n",
        "\n",
        "#### Suppose you are given a list of numbers. You need to find the corresponding squares of these numbers and zip them together in a dictionary"
      ],
      "metadata": {
        "id": "IOSMixsmCRTL"
      }
    },
    {
      "cell_type": "code",
      "source": [
        "# The list of numbers\n",
        "list_of_numbers = [1, 2, 4, 6, 11, 14, 17, 20]"
      ],
      "metadata": {
        "id": "JrtS2oDcB2MN"
      },
      "execution_count": null,
      "outputs": []
    },
    {
      "cell_type": "code",
      "source": [
        "# First Print The square of each number\n",
        "\n",
        "for number in list_of_numbers:\n",
        "  print(f'The Square of the number {number} is', number*number)"
      ],
      "metadata": {
        "colab": {
          "base_uri": "https://localhost:8080/"
        },
        "id": "8VvPPviDCb5B",
        "outputId": "d69f3ed9-5d93-43c4-a03b-0ce912ae6f7a"
      },
      "execution_count": null,
      "outputs": [
        {
          "output_type": "stream",
          "name": "stdout",
          "text": [
            "The Square of the number 1 is 1\n",
            "The Square of the number 2 is 4\n",
            "The Square of the number 4 is 16\n",
            "The Square of the number 6 is 36\n",
            "The Square of the number 11 is 121\n",
            "The Square of the number 14 is 196\n",
            "The Square of the number 17 is 289\n",
            "The Square of the number 20 is 400\n"
          ]
        }
      ]
    },
    {
      "cell_type": "markdown",
      "source": [
        "### So this was a pretty straight forward way to print out these squares.\n",
        "\n",
        "### <u>Example 3</u>\n",
        "#### Imagine a scenario where we not only needed to print these numbers for each iteration but also we need to store these elements somewhere else"
      ],
      "metadata": {
        "id": "Bw9FFcXDDDUC"
      }
    },
    {
      "cell_type": "code",
      "source": [
        "list_of_numbers"
      ],
      "metadata": {
        "colab": {
          "base_uri": "https://localhost:8080/"
        },
        "id": "qYLdpsh_Cqoc",
        "outputId": "482697e1-72b1-4e63-b57e-7d80a73607ea"
      },
      "execution_count": null,
      "outputs": [
        {
          "output_type": "execute_result",
          "data": {
            "text/plain": [
              "[1, 2, 4, 6, 11, 14, 17, 20]"
            ]
          },
          "metadata": {},
          "execution_count": 21
        }
      ]
    },
    {
      "cell_type": "code",
      "source": [
        "sqr_num = []\n",
        "\n",
        "for n in list_of_numbers:\n",
        "  sqr_num.append(n*n)\n",
        "\n",
        "print(f'All the squared numbers are: {sqr_num}')"
      ],
      "metadata": {
        "colab": {
          "base_uri": "https://localhost:8080/"
        },
        "id": "Aw6jZyWIDL0S",
        "outputId": "f489cc99-079f-4c88-e675-18e07ba62d1d"
      },
      "execution_count": null,
      "outputs": [
        {
          "output_type": "stream",
          "name": "stdout",
          "text": [
            "All the squared numbers are: [1, 4, 16, 36, 121, 196, 289, 400]\n"
          ]
        }
      ]
    },
    {
      "cell_type": "code",
      "source": [
        "print(list_of_numbers)\n",
        "print(sqr_num)"
      ],
      "metadata": {
        "colab": {
          "base_uri": "https://localhost:8080/"
        },
        "id": "3uPOLfpNDn35",
        "outputId": "a27f8f15-49d3-4b71-b50b-f455ac727282"
      },
      "execution_count": null,
      "outputs": [
        {
          "output_type": "stream",
          "name": "stdout",
          "text": [
            "[1, 2, 4, 6, 11, 14, 17, 20]\n",
            "[1, 4, 16, 36, 121, 196, 289, 400]\n"
          ]
        }
      ]
    },
    {
      "cell_type": "code",
      "source": [
        "dict(zip(list_of_numbers,sqr_num))"
      ],
      "metadata": {
        "colab": {
          "base_uri": "https://localhost:8080/"
        },
        "id": "gKQ41peiDzbS",
        "outputId": "de0e489f-f4e1-4bd1-93e1-f5ced2f08264"
      },
      "execution_count": null,
      "outputs": [
        {
          "output_type": "execute_result",
          "data": {
            "text/plain": [
              "{1: 1, 2: 4, 4: 16, 6: 36, 11: 121, 14: 196, 17: 289, 20: 400}"
            ]
          },
          "metadata": {},
          "execution_count": 28
        }
      ]
    },
    {
      "cell_type": "markdown",
      "source": [
        "### <u> Example 4</u>\n",
        "####  Now suppose we only want to print the squares of those numbers which are even. Let us see how we can do this"
      ],
      "metadata": {
        "id": "A-ANNqxDFLs7"
      }
    },
    {
      "cell_type": "code",
      "source": [
        ""
      ],
      "metadata": {
        "id": "vZkq_2MeE6FX"
      },
      "execution_count": null,
      "outputs": []
    }
  ]
}