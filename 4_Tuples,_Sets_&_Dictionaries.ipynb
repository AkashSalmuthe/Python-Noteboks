{
  "nbformat": 4,
  "nbformat_minor": 0,
  "metadata": {
    "kernelspec": {
      "display_name": "Python 3",
      "language": "python",
      "name": "python3"
    },
    "language_info": {
      "codemirror_mode": {
        "name": "ipython",
        "version": 3
      },
      "file_extension": ".py",
      "mimetype": "text/x-python",
      "name": "python",
      "nbconvert_exporter": "python",
      "pygments_lexer": "ipython3",
      "version": "3.7.4"
    },
    "colab": {
      "name": "4. Tuples, Sets & Dictionaries.ipynb",
      "provenance": [],
      "collapsed_sections": [
        "yMYuf2Hvx2xV"
      ],
      "include_colab_link": true
    }
  },
  "cells": [
    {
      "cell_type": "markdown",
      "metadata": {
        "id": "view-in-github",
        "colab_type": "text"
      },
      "source": [
        "<a href=\"https://colab.research.google.com/github/AkashSalmuthe/Python-Noteboks/blob/main/4_Tuples%2C_Sets_%26_Dictionaries.ipynb\" target=\"_parent\"><img src=\"https://colab.research.google.com/assets/colab-badge.svg\" alt=\"Open In Colab\"/></a>"
      ]
    },
    {
      "cell_type": "markdown",
      "metadata": {
        "id": "XyN6An5ux2v8"
      },
      "source": [
        "# Tuples\n",
        "\n",
        "* In Python tuples are very similar to lists, however, unlike lists they are *immutable* meaning they can not be changed. \n",
        "\n",
        "\n",
        "* You would use tuples to present things that shouldn't be changed, such as days of the week, or dates on a calendar. \n",
        "\n",
        "\n",
        "* You'll have an intuition of how to use tuples based on what you've learned about lists. We can treat them very similarly with the <u>major distinction being that tuples are immutable</u>.\n",
        "\n",
        "\n",
        "## Constructing Tuples\n",
        "\n",
        "* The construction of a tuples use <code>()</code> with elements separated by commas."
      ]
    },
    {
      "cell_type": "code",
      "metadata": {
        "id": "v6uqrGdAx2v-"
      },
      "source": [
        "# Create a tuple\n",
        "my_tuple = (1,'a',3)"
      ],
      "execution_count": 1,
      "outputs": []
    },
    {
      "cell_type": "code",
      "metadata": {
        "id": "AJWmfPGsx2wC",
        "colab": {
          "base_uri": "https://localhost:8080/"
        },
        "outputId": "6b1d6601-24fe-4495-ae02-3aedb468daff"
      },
      "source": [
        "print(my_tuple)"
      ],
      "execution_count": 2,
      "outputs": [
        {
          "output_type": "stream",
          "name": "stdout",
          "text": [
            "(1, 'a', 3)\n"
          ]
        }
      ]
    },
    {
      "cell_type": "code",
      "metadata": {
        "colab": {
          "base_uri": "https://localhost:8080/"
        },
        "id": "fxgESNwMThmv",
        "outputId": "bf8f64d0-948e-4eac-fd09-764b38b37ce7"
      },
      "source": [
        "type(my_tuple)"
      ],
      "execution_count": 3,
      "outputs": [
        {
          "output_type": "execute_result",
          "data": {
            "text/plain": [
              "tuple"
            ]
          },
          "metadata": {},
          "execution_count": 3
        }
      ]
    },
    {
      "cell_type": "code",
      "metadata": {
        "id": "6Q1TOAyNx2wG",
        "colab": {
          "base_uri": "https://localhost:8080/"
        },
        "outputId": "ba472144-872b-4373-d3fb-2db392fe4d1a"
      },
      "source": [
        "# Can also mix object types \n",
        "another_tuple = ('one',2, 4.53, 'asbc')\n",
        "\n",
        "# Show\n",
        "another_tuple"
      ],
      "execution_count": 4,
      "outputs": [
        {
          "output_type": "execute_result",
          "data": {
            "text/plain": [
              "('one', 2, 4.53, 'asbc')"
            ]
          },
          "metadata": {},
          "execution_count": 4
        }
      ]
    },
    {
      "cell_type": "code",
      "metadata": {
        "id": "rdMQ9x4lwN3f"
      },
      "source": [
        "my_list = [1]"
      ],
      "execution_count": 5,
      "outputs": []
    },
    {
      "cell_type": "code",
      "metadata": {
        "id": "N_mlfU7FwOnX",
        "colab": {
          "base_uri": "https://localhost:8080/"
        },
        "outputId": "8b9b3494-2528-4131-b7d8-b7d8e1fda6da"
      },
      "source": [
        "type(my_list)"
      ],
      "execution_count": 6,
      "outputs": [
        {
          "output_type": "execute_result",
          "data": {
            "text/plain": [
              "list"
            ]
          },
          "metadata": {},
          "execution_count": 6
        }
      ]
    },
    {
      "cell_type": "code",
      "metadata": {
        "id": "Qg1qp0jGwPRZ"
      },
      "source": [
        "my_tuple = (1,)"
      ],
      "execution_count": 7,
      "outputs": []
    },
    {
      "cell_type": "code",
      "metadata": {
        "id": "dFs4gMVowaRh",
        "colab": {
          "base_uri": "https://localhost:8080/"
        },
        "outputId": "daf9ef9a-61ce-4bb4-ca73-66b5281728c7"
      },
      "source": [
        "type(my_tuple)"
      ],
      "execution_count": 8,
      "outputs": [
        {
          "output_type": "execute_result",
          "data": {
            "text/plain": [
              "tuple"
            ]
          },
          "metadata": {},
          "execution_count": 8
        }
      ]
    },
    {
      "cell_type": "code",
      "metadata": {
        "id": "dpbiMeBzUkA5"
      },
      "source": [
        "my_tuple = 1,2,3"
      ],
      "execution_count": 9,
      "outputs": []
    },
    {
      "cell_type": "code",
      "metadata": {
        "id": "mhzDE0a5wzsN",
        "colab": {
          "base_uri": "https://localhost:8080/"
        },
        "outputId": "8eb66596-fa79-47c8-82f8-1b87f95e5f7f"
      },
      "source": [
        "type(my_tuple)"
      ],
      "execution_count": 10,
      "outputs": [
        {
          "output_type": "execute_result",
          "data": {
            "text/plain": [
              "tuple"
            ]
          },
          "metadata": {},
          "execution_count": 10
        }
      ]
    },
    {
      "cell_type": "code",
      "metadata": {
        "id": "3XasyDgzwaft"
      },
      "source": [
        "my_tuple = (1,2,3,4)"
      ],
      "execution_count": 11,
      "outputs": []
    },
    {
      "cell_type": "code",
      "metadata": {
        "id": "huPIwRVVx2wK",
        "colab": {
          "base_uri": "https://localhost:8080/"
        },
        "outputId": "a6f9dd1c-b0c8-4560-d4fe-24eb92b7e13c"
      },
      "source": [
        "len(my_tuple)"
      ],
      "execution_count": 12,
      "outputs": [
        {
          "output_type": "execute_result",
          "data": {
            "text/plain": [
              "4"
            ]
          },
          "metadata": {},
          "execution_count": 12
        }
      ]
    },
    {
      "cell_type": "markdown",
      "metadata": {
        "id": "QutmafNzx2wN"
      },
      "source": [
        "## Tuple Indexing\n",
        "\n",
        "* Indexing work just like in lists.\n",
        "\n",
        "\n",
        "* A tuple index refers to the location of an element in a tuple.\n",
        "\n",
        "\n",
        "* Remember the indexing begins from 0 in Python. \n",
        "\n",
        "\n",
        "* The first element is assigned an index 0, the second element is assigned an index of 1 and so on and so forth."
      ]
    },
    {
      "cell_type": "code",
      "metadata": {
        "colab": {
          "base_uri": "https://localhost:8080/"
        },
        "id": "ZpAn22VZV5o7",
        "outputId": "5f59a0f7-deb7-4276-cf0a-05a20949c845"
      },
      "source": [
        "print(another_tuple)"
      ],
      "execution_count": 13,
      "outputs": [
        {
          "output_type": "stream",
          "name": "stdout",
          "text": [
            "('one', 2, 4.53, 'asbc')\n"
          ]
        }
      ]
    },
    {
      "cell_type": "code",
      "metadata": {
        "id": "wcxawypZx2wN",
        "colab": {
          "base_uri": "https://localhost:8080/",
          "height": 35
        },
        "outputId": "486908ac-ac77-4393-95b3-0ffe1bf1bac0"
      },
      "source": [
        "# Grab the element at index 0, which is the FIRST element\n",
        "another_tuple[0] "
      ],
      "execution_count": 14,
      "outputs": [
        {
          "output_type": "execute_result",
          "data": {
            "application/vnd.google.colaboratory.intrinsic+json": {
              "type": "string"
            },
            "text/plain": [
              "'one'"
            ]
          },
          "metadata": {},
          "execution_count": 14
        }
      ]
    },
    {
      "cell_type": "code",
      "metadata": {
        "id": "cGmGukFtx2wR",
        "colab": {
          "base_uri": "https://localhost:8080/",
          "height": 35
        },
        "outputId": "53919ded-2a5f-4830-f6a1-4fc7be3657e0"
      },
      "source": [
        "# Grab the element at index 3, which is the FOURTH element\n",
        "another_tuple[3]  "
      ],
      "execution_count": 15,
      "outputs": [
        {
          "output_type": "execute_result",
          "data": {
            "application/vnd.google.colaboratory.intrinsic+json": {
              "type": "string"
            },
            "text/plain": [
              "'asbc'"
            ]
          },
          "metadata": {},
          "execution_count": 15
        }
      ]
    },
    {
      "cell_type": "code",
      "metadata": {
        "id": "juNr6LZnx2wU",
        "colab": {
          "base_uri": "https://localhost:8080/",
          "height": 35
        },
        "outputId": "ce77b3b1-6a65-462a-f214-9daffc1a7fb0"
      },
      "source": [
        "# Grab the element at the index -1, which is the LAST element\n",
        "another_tuple[-1]"
      ],
      "execution_count": 16,
      "outputs": [
        {
          "output_type": "execute_result",
          "data": {
            "application/vnd.google.colaboratory.intrinsic+json": {
              "type": "string"
            },
            "text/plain": [
              "'asbc'"
            ]
          },
          "metadata": {},
          "execution_count": 16
        }
      ]
    },
    {
      "cell_type": "code",
      "metadata": {
        "id": "bZiLXFa3x2wX",
        "colab": {
          "base_uri": "https://localhost:8080/"
        },
        "outputId": "6ecaba18-2c32-4d6a-adb3-aae6ab807bd5"
      },
      "source": [
        "# Grab the element at the index -3, which is the THIRD LAST element\n",
        "another_tuple[-3]"
      ],
      "execution_count": 17,
      "outputs": [
        {
          "output_type": "execute_result",
          "data": {
            "text/plain": [
              "2"
            ]
          },
          "metadata": {},
          "execution_count": 17
        }
      ]
    },
    {
      "cell_type": "markdown",
      "metadata": {
        "id": "v_Dz0Rf8x2wZ"
      },
      "source": [
        "## Tuple Slicing\n",
        "\n",
        "* We can use a <code>:</code> to perform *slicing* which grabs everything up to a designated point. \n",
        "\n",
        "\n",
        "* The starting index is specified on the left of the <code>:</code> and the ending index is specified on the right of the <code>:</code>. \n",
        "\n",
        "\n",
        "* Remember the element located at the right index is not included."
      ]
    },
    {
      "cell_type": "code",
      "metadata": {
        "id": "gpNaAjgLx2wZ",
        "colab": {
          "base_uri": "https://localhost:8080/"
        },
        "outputId": "22402dc9-8bd4-4a17-82c8-b6f82d26fd73"
      },
      "source": [
        "# Print our list\n",
        "print(another_tuple)"
      ],
      "execution_count": 18,
      "outputs": [
        {
          "output_type": "stream",
          "name": "stdout",
          "text": [
            "('one', 2, 4.53, 'asbc')\n"
          ]
        }
      ]
    },
    {
      "cell_type": "code",
      "metadata": {
        "id": "KOVYp2O-x2wc",
        "colab": {
          "base_uri": "https://localhost:8080/"
        },
        "outputId": "c8286f88-70c6-42cf-bf96-33420a87b37b"
      },
      "source": [
        "# Grab the elements starting from index 1 and everything past it\n",
        "another_tuple[1:3] "
      ],
      "execution_count": 19,
      "outputs": [
        {
          "output_type": "execute_result",
          "data": {
            "text/plain": [
              "(2, 4.53)"
            ]
          },
          "metadata": {},
          "execution_count": 19
        }
      ]
    },
    {
      "cell_type": "markdown",
      "metadata": {
        "id": "tRf9M55tx2wf"
      },
      "source": [
        "* If you do not specify the ending index, then all elements are extracted which comes after the starting index including the element at that starting index. The operation knows only to stop when it has run through the entire tuple."
      ]
    },
    {
      "cell_type": "code",
      "metadata": {
        "id": "qP9KxBbwx2wf",
        "colab": {
          "base_uri": "https://localhost:8080/"
        },
        "outputId": "9071e6d4-5bfa-40e3-c5e2-3bae728cd346"
      },
      "source": [
        "# Grab everything starting from index 2\n",
        "another_tuple[2:]"
      ],
      "execution_count": 20,
      "outputs": [
        {
          "output_type": "execute_result",
          "data": {
            "text/plain": [
              "(4.53, 'asbc')"
            ]
          },
          "metadata": {},
          "execution_count": 20
        }
      ]
    },
    {
      "cell_type": "markdown",
      "metadata": {
        "id": "PgKv1f2qx2wj"
      },
      "source": [
        "* If you do not specify the starting index, then all elements are extracted which comes befores the ending index excluding the element at the specified ending index. The operation knows only to stop when it has extracted all elements before the  element at the ending index."
      ]
    },
    {
      "cell_type": "code",
      "metadata": {
        "id": "u_kPO20kx2wj",
        "colab": {
          "base_uri": "https://localhost:8080/"
        },
        "outputId": "bee291cc-ccb3-4542-b1f7-0611daf4d665"
      },
      "source": [
        "# Grab everything before the index 4\n",
        "another_tuple[:6]"
      ],
      "execution_count": 21,
      "outputs": [
        {
          "output_type": "execute_result",
          "data": {
            "text/plain": [
              "('one', 2, 4.53, 'asbc')"
            ]
          },
          "metadata": {},
          "execution_count": 21
        }
      ]
    },
    {
      "cell_type": "markdown",
      "metadata": {
        "id": "1qkOSf_Vx2wn"
      },
      "source": [
        "* If you do not specify the starting and the ending index, it will extract all elements of the tuple."
      ]
    },
    {
      "cell_type": "code",
      "metadata": {
        "id": "2dIvFwW9x2wn",
        "colab": {
          "base_uri": "https://localhost:8080/"
        },
        "outputId": "25d62504-a01f-4962-cb4b-663bf09baa2f"
      },
      "source": [
        "# Grab everything\n",
        "another_tuple"
      ],
      "execution_count": 22,
      "outputs": [
        {
          "output_type": "execute_result",
          "data": {
            "text/plain": [
              "('one', 2, 4.53, 'asbc')"
            ]
          },
          "metadata": {},
          "execution_count": 22
        }
      ]
    },
    {
      "cell_type": "markdown",
      "metadata": {
        "id": "SdKU_cPFx2wp"
      },
      "source": [
        "* We can also extract the last four elements. Remember we can use the index -4 to extract the FOURTH LAST element"
      ]
    },
    {
      "cell_type": "code",
      "metadata": {
        "id": "gvcyMuHkx2wq",
        "colab": {
          "base_uri": "https://localhost:8080/"
        },
        "outputId": "96f459af-6027-45d9-fdea-36f5a0320455"
      },
      "source": [
        "# Grab the LAST FOUR elements of the list\n",
        "another_tuple[-4:]"
      ],
      "execution_count": 23,
      "outputs": [
        {
          "output_type": "execute_result",
          "data": {
            "text/plain": [
              "('one', 2, 4.53, 'asbc')"
            ]
          },
          "metadata": {},
          "execution_count": 23
        }
      ]
    },
    {
      "cell_type": "markdown",
      "metadata": {
        "id": "9lCrYVHmx2ws"
      },
      "source": [
        "* It should also be noted that tuple indexing will return an error if there is no element at that index."
      ]
    },
    {
      "cell_type": "code",
      "metadata": {
        "id": "qbHiONdnx2wt",
        "colab": {
          "base_uri": "https://localhost:8080/",
          "height": 165
        },
        "outputId": "19ec55cf-2975-45e2-b02e-8563d5aceef5"
      },
      "source": [
        "another_tuple[5]"
      ],
      "execution_count": 24,
      "outputs": [
        {
          "output_type": "error",
          "ename": "IndexError",
          "evalue": "ignored",
          "traceback": [
            "\u001b[0;31m---------------------------------------------------------------------------\u001b[0m",
            "\u001b[0;31mIndexError\u001b[0m                                Traceback (most recent call last)",
            "\u001b[0;32m<ipython-input-24-3d51a942c11d>\u001b[0m in \u001b[0;36m<module>\u001b[0;34m()\u001b[0m\n\u001b[0;32m----> 1\u001b[0;31m \u001b[0manother_tuple\u001b[0m\u001b[0;34m[\u001b[0m\u001b[0;36m5\u001b[0m\u001b[0;34m]\u001b[0m\u001b[0;34m\u001b[0m\u001b[0;34m\u001b[0m\u001b[0m\n\u001b[0m",
            "\u001b[0;31mIndexError\u001b[0m: tuple index out of range"
          ]
        }
      ]
    },
    {
      "cell_type": "code",
      "metadata": {
        "id": "CzJEQohvx2wy",
        "colab": {
          "base_uri": "https://localhost:8080/"
        },
        "outputId": "41a9e500-e416-4b1a-a669-98b51afb0dff"
      },
      "source": [
        "# Check len just like a list\n",
        "len(another_tuple)"
      ],
      "execution_count": 25,
      "outputs": [
        {
          "output_type": "execute_result",
          "data": {
            "text/plain": [
              "4"
            ]
          },
          "metadata": {},
          "execution_count": 25
        }
      ]
    },
    {
      "cell_type": "code",
      "metadata": {
        "id": "voUVF0NfyuM9"
      },
      "source": [
        "random_tuple = (1,5,6,2)"
      ],
      "execution_count": 26,
      "outputs": []
    },
    {
      "cell_type": "code",
      "metadata": {
        "id": "EbGyqDzUyyX6",
        "colab": {
          "base_uri": "https://localhost:8080/"
        },
        "outputId": "939e473a-e3f7-4480-8ed8-b1267eaaad5f"
      },
      "source": [
        "sorted(random_tuple)"
      ],
      "execution_count": 27,
      "outputs": [
        {
          "output_type": "execute_result",
          "data": {
            "text/plain": [
              "[1, 2, 5, 6]"
            ]
          },
          "metadata": {},
          "execution_count": 27
        }
      ]
    },
    {
      "cell_type": "markdown",
      "metadata": {
        "id": "6NaL3DU1x2w1"
      },
      "source": [
        "## Tuple Methods\n",
        "\n",
        "* Tuples have built-in methods, but not as many as lists do."
      ]
    },
    {
      "cell_type": "markdown",
      "metadata": {
        "id": "INOUJ-IJx2w1"
      },
      "source": [
        "### <code>index()</code>\n",
        "\n",
        "\n",
        "* The <code>index()</code> method returns the index of a specified element."
      ]
    },
    {
      "cell_type": "code",
      "metadata": {
        "id": "PxssLKRkx2w2"
      },
      "source": [
        "my_tuple =(1,2,3,4,5,6,1,1,2)"
      ],
      "execution_count": 28,
      "outputs": []
    },
    {
      "cell_type": "code",
      "metadata": {
        "id": "5YOxgp1Xx2w4",
        "colab": {
          "base_uri": "https://localhost:8080/"
        },
        "outputId": "b4f83fb6-9772-455e-f38f-ea801af3c57c"
      },
      "source": [
        "# Use .index to enter a value and return the index\n",
        "my_tuple.index(2)"
      ],
      "execution_count": 29,
      "outputs": [
        {
          "output_type": "execute_result",
          "data": {
            "text/plain": [
              "1"
            ]
          },
          "metadata": {},
          "execution_count": 29
        }
      ]
    },
    {
      "cell_type": "markdown",
      "metadata": {
        "id": "6MHUetrLx2w6"
      },
      "source": [
        "### <code>count()</code>\n",
        "\n",
        "\n",
        "* The <code>count()</code> method returns the total occurrence of a specified element in a tuple"
      ]
    },
    {
      "cell_type": "code",
      "metadata": {
        "id": "InNQ8DqUx2w6",
        "colab": {
          "base_uri": "https://localhost:8080/"
        },
        "outputId": "6f0d091f-d34a-4abb-850a-5a8424f658b1"
      },
      "source": [
        "# Use .count to count the number of times a value appears\n",
        "my_tuple.count(2)"
      ],
      "execution_count": 30,
      "outputs": [
        {
          "output_type": "execute_result",
          "data": {
            "text/plain": [
              "2"
            ]
          },
          "metadata": {},
          "execution_count": 30
        }
      ]
    },
    {
      "cell_type": "code",
      "metadata": {
        "id": "cINAVl65x2w8",
        "colab": {
          "base_uri": "https://localhost:8080/"
        },
        "outputId": "e87105d6-28b0-4a9c-8bfd-ae39a172cb38"
      },
      "source": [
        "my_tuple.count(1)"
      ],
      "execution_count": 31,
      "outputs": [
        {
          "output_type": "execute_result",
          "data": {
            "text/plain": [
              "3"
            ]
          },
          "metadata": {},
          "execution_count": 31
        }
      ]
    },
    {
      "cell_type": "code",
      "metadata": {
        "id": "FJwxB5x3ZRQw",
        "colab": {
          "base_uri": "https://localhost:8080/"
        },
        "outputId": "53905c8d-6827-427d-89ef-2e80a3f40622"
      },
      "source": [
        "my_tuple"
      ],
      "execution_count": 32,
      "outputs": [
        {
          "output_type": "execute_result",
          "data": {
            "text/plain": [
              "(1, 2, 3, 4, 5, 6, 1, 1, 2)"
            ]
          },
          "metadata": {},
          "execution_count": 32
        }
      ]
    },
    {
      "cell_type": "code",
      "metadata": {
        "id": "77eLJW6VZVbA"
      },
      "source": [
        "my_list = [1,2,3,4]"
      ],
      "execution_count": 33,
      "outputs": []
    },
    {
      "cell_type": "code",
      "metadata": {
        "id": "7az6tjANZXXA",
        "colab": {
          "base_uri": "https://localhost:8080/"
        },
        "outputId": "88e655eb-82af-4a4f-82cc-486f2fa70984"
      },
      "source": [
        "my_list"
      ],
      "execution_count": 34,
      "outputs": [
        {
          "output_type": "execute_result",
          "data": {
            "text/plain": [
              "[1, 2, 3, 4]"
            ]
          },
          "metadata": {},
          "execution_count": 34
        }
      ]
    },
    {
      "cell_type": "markdown",
      "metadata": {
        "id": "o_B-5yhsx2w-"
      },
      "source": [
        "## Immutability\n",
        "\n",
        "* It can't be stressed enough that tuples are immutable."
      ]
    },
    {
      "cell_type": "code",
      "metadata": {
        "colab": {
          "base_uri": "https://localhost:8080/"
        },
        "id": "eVHBqLlkZ79R",
        "outputId": "1614a8c0-a3d4-4c88-9c3c-362773e5ace0"
      },
      "source": [
        "print(my_tuple)"
      ],
      "execution_count": 35,
      "outputs": [
        {
          "output_type": "stream",
          "name": "stdout",
          "text": [
            "(1, 2, 3, 4, 5, 6, 1, 1, 2)\n"
          ]
        }
      ]
    },
    {
      "cell_type": "code",
      "metadata": {
        "id": "VO93y72Gx2w_",
        "colab": {
          "base_uri": "https://localhost:8080/"
        },
        "outputId": "5443fe40-3efd-42d8-d27f-02cb8ea03521"
      },
      "source": [
        "my_tuple[0]"
      ],
      "execution_count": 36,
      "outputs": [
        {
          "output_type": "execute_result",
          "data": {
            "text/plain": [
              "1"
            ]
          },
          "metadata": {},
          "execution_count": 36
        }
      ]
    },
    {
      "cell_type": "code",
      "metadata": {
        "id": "w5IKgVqkx2xB",
        "colab": {
          "base_uri": "https://localhost:8080/",
          "height": 165
        },
        "outputId": "2f56c43d-0dbb-47d1-c872-1dfdab2d3e7e"
      },
      "source": [
        "my_tuple[0] = 'change'"
      ],
      "execution_count": 37,
      "outputs": [
        {
          "output_type": "error",
          "ename": "TypeError",
          "evalue": "ignored",
          "traceback": [
            "\u001b[0;31m---------------------------------------------------------------------------\u001b[0m",
            "\u001b[0;31mTypeError\u001b[0m                                 Traceback (most recent call last)",
            "\u001b[0;32m<ipython-input-37-1113c19e61ee>\u001b[0m in \u001b[0;36m<module>\u001b[0;34m()\u001b[0m\n\u001b[0;32m----> 1\u001b[0;31m \u001b[0mmy_tuple\u001b[0m\u001b[0;34m[\u001b[0m\u001b[0;36m0\u001b[0m\u001b[0;34m]\u001b[0m \u001b[0;34m=\u001b[0m \u001b[0;34m'change'\u001b[0m\u001b[0;34m\u001b[0m\u001b[0;34m\u001b[0m\u001b[0m\n\u001b[0m",
            "\u001b[0;31mTypeError\u001b[0m: 'tuple' object does not support item assignment"
          ]
        }
      ]
    },
    {
      "cell_type": "markdown",
      "metadata": {
        "id": "AY5i1-jrx2xD"
      },
      "source": [
        "* Because of this immutability, tuples can't grow. Once a tuple is made we can not add to it."
      ]
    },
    {
      "cell_type": "markdown",
      "metadata": {
        "id": "Wu7kIjSNx2xE"
      },
      "source": [
        "* Let us consider a list and lets see if we can do this operation on them"
      ]
    },
    {
      "cell_type": "code",
      "metadata": {
        "id": "iv-fMwN-x2xE"
      },
      "source": [
        "# Create a list\n",
        "my_list = [5,7,9,3,2]"
      ],
      "execution_count": 38,
      "outputs": []
    },
    {
      "cell_type": "code",
      "metadata": {
        "id": "7tzllaFJx2xG"
      },
      "source": [
        "# Replace the FIRST element with the value 1\n",
        "my_list[0] = 1"
      ],
      "execution_count": 39,
      "outputs": []
    },
    {
      "cell_type": "code",
      "metadata": {
        "id": "Srx-bzhDx2xJ",
        "colab": {
          "base_uri": "https://localhost:8080/"
        },
        "outputId": "d37fa9f8-2326-468e-af06-aa9b8a08900a"
      },
      "source": [
        "# Our modified list\n",
        "my_list"
      ],
      "execution_count": 40,
      "outputs": [
        {
          "output_type": "execute_result",
          "data": {
            "text/plain": [
              "[1, 7, 9, 3, 2]"
            ]
          },
          "metadata": {},
          "execution_count": 40
        }
      ]
    },
    {
      "cell_type": "markdown",
      "metadata": {
        "id": "4JSa0bw9x2xL"
      },
      "source": [
        "* Tuple does not support methods such as <code>append()</code>, <code>extend()</code>, <code>remove()</code>, <code>pop()</code>"
      ]
    },
    {
      "cell_type": "code",
      "metadata": {
        "id": "zY0mWGohx2xM",
        "colab": {
          "base_uri": "https://localhost:8080/",
          "height": 165
        },
        "outputId": "629d8bd1-8ca5-426f-d8d0-359bc76c0b4a"
      },
      "source": [
        "my_tuple.append('Great!')"
      ],
      "execution_count": 41,
      "outputs": [
        {
          "output_type": "error",
          "ename": "AttributeError",
          "evalue": "ignored",
          "traceback": [
            "\u001b[0;31m---------------------------------------------------------------------------\u001b[0m",
            "\u001b[0;31mAttributeError\u001b[0m                            Traceback (most recent call last)",
            "\u001b[0;32m<ipython-input-41-762f4e61335a>\u001b[0m in \u001b[0;36m<module>\u001b[0;34m()\u001b[0m\n\u001b[0;32m----> 1\u001b[0;31m \u001b[0mmy_tuple\u001b[0m\u001b[0;34m.\u001b[0m\u001b[0mappend\u001b[0m\u001b[0;34m(\u001b[0m\u001b[0;34m'Great!'\u001b[0m\u001b[0;34m)\u001b[0m\u001b[0;34m\u001b[0m\u001b[0;34m\u001b[0m\u001b[0m\n\u001b[0m",
            "\u001b[0;31mAttributeError\u001b[0m: 'tuple' object has no attribute 'append'"
          ]
        }
      ]
    },
    {
      "cell_type": "markdown",
      "metadata": {
        "id": "FY0pToLax2xO"
      },
      "source": [
        "### <code>zip()</code>\n",
        "\n",
        "\n",
        "* <code>zip()</code> function takes multiple lists as arguments and zips them together \n",
        "\n",
        "\n",
        "* This function returns a list of n-paired tuples where n is the number of lists being zipped"
      ]
    },
    {
      "cell_type": "code",
      "metadata": {
        "id": "nZqkre4Ex2xP"
      },
      "source": [
        "city_list = ['Delhi','Patna','Cuttack','Guwahati']\n",
        "river_list = ['Yamuna','Ganga','Mahanadi','Brahmaputra']"
      ],
      "execution_count": 42,
      "outputs": []
    },
    {
      "cell_type": "code",
      "metadata": {
        "colab": {
          "base_uri": "https://localhost:8080/"
        },
        "id": "557Z0mC-cXRE",
        "outputId": "3831efa4-2a77-43ed-ddfc-f27b085e84bd"
      },
      "source": [
        "zip(city_list, river_list)"
      ],
      "execution_count": 43,
      "outputs": [
        {
          "output_type": "execute_result",
          "data": {
            "text/plain": [
              "<zip at 0x7efc25e7ec80>"
            ]
          },
          "metadata": {},
          "execution_count": 43
        }
      ]
    },
    {
      "cell_type": "code",
      "metadata": {
        "id": "Z4nluMN5x2xR"
      },
      "source": [
        "city_and_their_rivers = list(zip(city_list,river_list))"
      ],
      "execution_count": 44,
      "outputs": []
    },
    {
      "cell_type": "code",
      "metadata": {
        "id": "y2NaSS0tx2xT",
        "colab": {
          "base_uri": "https://localhost:8080/"
        },
        "outputId": "c1136fce-521e-4383-f7b0-816cd7d8f9b4"
      },
      "source": [
        "city_and_their_rivers"
      ],
      "execution_count": 45,
      "outputs": [
        {
          "output_type": "execute_result",
          "data": {
            "text/plain": [
              "[('Delhi', 'Yamuna'),\n",
              " ('Patna', 'Ganga'),\n",
              " ('Cuttack', 'Mahanadi'),\n",
              " ('Guwahati', 'Brahmaputra')]"
            ]
          },
          "metadata": {},
          "execution_count": 45
        }
      ]
    },
    {
      "cell_type": "code",
      "metadata": {
        "id": "wx1ha97Hdqy7"
      },
      "source": [
        "city_list = ['Delhi','Patna','Cuttack','Guwahati']\n",
        "river_list = ['Yamuna','Ganga','Mahanadi','Brahamputra','Thames']"
      ],
      "execution_count": 46,
      "outputs": []
    },
    {
      "cell_type": "code",
      "metadata": {
        "colab": {
          "base_uri": "https://localhost:8080/"
        },
        "id": "4VEA76OadwAs",
        "outputId": "099533e4-353d-42d3-b0a7-657c91ffe8f8"
      },
      "source": [
        "list(zip(city_list,river_list))"
      ],
      "execution_count": 47,
      "outputs": [
        {
          "output_type": "execute_result",
          "data": {
            "text/plain": [
              "[('Delhi', 'Yamuna'),\n",
              " ('Patna', 'Ganga'),\n",
              " ('Cuttack', 'Mahanadi'),\n",
              " ('Guwahati', 'Brahamputra')]"
            ]
          },
          "metadata": {},
          "execution_count": 47
        }
      ]
    },
    {
      "cell_type": "markdown",
      "metadata": {
        "id": "yMYuf2Hvx2xV"
      },
      "source": [
        "## When to use Tuples\n",
        "\n",
        "* You may be wondering, \"Why bother using tuples when they have fewer available methods?\" To be honest, tuples are not used as often as lists in programming, but are used when immutability is necessary. If in your program you are passing around an object and need to make sure it does not get changed, then a tuple becomes your solution. It provides a convenient source of data integrity.\n",
        "\n",
        "\n",
        "* You will find them often in functions when you are returning some values\n",
        "\n",
        "\n",
        "* You should now be able to create and use tuples in your programming as well as have an understanding of their immutability."
      ]
    },
    {
      "cell_type": "markdown",
      "metadata": {
        "id": "Fy6-SFXHx2xW"
      },
      "source": [
        "# Sets\n",
        "\n",
        "* Sets are an unordered collection of *unique* elements. We can construct them by using the <code>set()</code> function.\n",
        "\n",
        "\n",
        "* Sets cannot have duplicates.\n",
        "\n",
        "\n",
        "* Sets are mutable just like lists.\n",
        "\n",
        "\n",
        "* You can create a non-empty set with curly braces by specifying elements separated by a comma."
      ]
    },
    {
      "cell_type": "code",
      "metadata": {
        "id": "utCm3Vlmx2xW"
      },
      "source": [
        "# Create an empty set \n",
        "empty_set = set()"
      ],
      "execution_count": 48,
      "outputs": []
    },
    {
      "cell_type": "code",
      "metadata": {
        "id": "Yt9nkoOcx2xY",
        "colab": {
          "base_uri": "https://localhost:8080/"
        },
        "outputId": "3e79c7ed-11d2-4101-8018-a761df6d168f"
      },
      "source": [
        "type(empty_set)"
      ],
      "execution_count": 49,
      "outputs": [
        {
          "output_type": "execute_result",
          "data": {
            "text/plain": [
              "set"
            ]
          },
          "metadata": {},
          "execution_count": 49
        }
      ]
    },
    {
      "cell_type": "code",
      "metadata": {
        "id": "9mWIu_PFx2xZ"
      },
      "source": [
        "# Create a non-empty set within curly braces\n",
        "non_empty_set = {1,6,4,'abc'}"
      ],
      "execution_count": 50,
      "outputs": []
    },
    {
      "cell_type": "code",
      "metadata": {
        "id": "MDI_a8slx2xb",
        "colab": {
          "base_uri": "https://localhost:8080/"
        },
        "outputId": "018dfc1f-7ecd-437a-d64e-b2143844ac98"
      },
      "source": [
        "type(non_empty_set)"
      ],
      "execution_count": 51,
      "outputs": [
        {
          "output_type": "execute_result",
          "data": {
            "text/plain": [
              "set"
            ]
          },
          "metadata": {},
          "execution_count": 51
        }
      ]
    },
    {
      "cell_type": "markdown",
      "metadata": {
        "id": "YMD--2K9x2xe"
      },
      "source": [
        "## A Time for Caution\n",
        "\n",
        "* An empty set cannot be represented as <code>{}</code>, which is reserved for an <u>empty dictionary</u> which we will get to know in a short while"
      ]
    },
    {
      "cell_type": "code",
      "metadata": {
        "id": "CohTP3Qfx2xe"
      },
      "source": [
        "my_object = {}"
      ],
      "execution_count": 52,
      "outputs": []
    },
    {
      "cell_type": "code",
      "metadata": {
        "id": "hWTaSIAMx2xg",
        "colab": {
          "base_uri": "https://localhost:8080/"
        },
        "outputId": "c7371c0f-1245-4181-adca-bfcfc65ed883"
      },
      "source": [
        "type(my_object)"
      ],
      "execution_count": 53,
      "outputs": [
        {
          "output_type": "execute_result",
          "data": {
            "text/plain": [
              "dict"
            ]
          },
          "metadata": {},
          "execution_count": 53
        }
      ]
    },
    {
      "cell_type": "code",
      "metadata": {
        "id": "kMaqioALx2xj"
      },
      "source": [
        "my_set = set()"
      ],
      "execution_count": 54,
      "outputs": []
    },
    {
      "cell_type": "code",
      "metadata": {
        "id": "Bu1iyqLrx2xl",
        "colab": {
          "base_uri": "https://localhost:8080/"
        },
        "outputId": "2959a8b6-3cae-429e-f72b-aae18607b44f"
      },
      "source": [
        "type(my_set)"
      ],
      "execution_count": 55,
      "outputs": [
        {
          "output_type": "execute_result",
          "data": {
            "text/plain": [
              "set"
            ]
          },
          "metadata": {},
          "execution_count": 55
        }
      ]
    },
    {
      "cell_type": "markdown",
      "metadata": {
        "id": "ctWYu0cUx2xn"
      },
      "source": [
        "*  We can cast a list with multiple repeat elements to a set to get the unique elements."
      ]
    },
    {
      "cell_type": "code",
      "metadata": {
        "id": "sUh8Zv8Rx2xo"
      },
      "source": [
        "# Create a list with repeats\n",
        "my_list = [1,1,2,2,3,4,5,6,1,1]"
      ],
      "execution_count": 56,
      "outputs": []
    },
    {
      "cell_type": "code",
      "metadata": {
        "id": "Kdr-pcGRx2xr"
      },
      "source": [
        "# Cast as set to get unique values\n",
        "my_set = set(my_list)"
      ],
      "execution_count": 57,
      "outputs": []
    },
    {
      "cell_type": "code",
      "metadata": {
        "id": "2nXbPmqRx2xt",
        "colab": {
          "base_uri": "https://localhost:8080/"
        },
        "outputId": "ed5b7efb-6bf5-4f9c-b056-763e791ab3e7"
      },
      "source": [
        "my_set"
      ],
      "execution_count": 58,
      "outputs": [
        {
          "output_type": "execute_result",
          "data": {
            "text/plain": [
              "{1, 2, 3, 4, 5, 6}"
            ]
          },
          "metadata": {},
          "execution_count": 58
        }
      ]
    },
    {
      "cell_type": "code",
      "metadata": {
        "id": "XBZqcSLyx2xv"
      },
      "source": [
        "# A set cannot have mutable items\n",
        "my_set = {1, 2, (3, 4)}"
      ],
      "execution_count": 59,
      "outputs": []
    },
    {
      "cell_type": "markdown",
      "metadata": {
        "id": "7GuQNu1ix2xx"
      },
      "source": [
        "* We cannot create a set whose any of the elements is a list"
      ]
    },
    {
      "cell_type": "code",
      "metadata": {
        "id": "lt_RVt86x2xy"
      },
      "source": [
        "# But we can have tuples as set elements, they are immutable\n",
        "my_set = {1, 2, (2,3)}"
      ],
      "execution_count": 60,
      "outputs": []
    },
    {
      "cell_type": "code",
      "metadata": {
        "id": "1dj_FMzkx2x1",
        "colab": {
          "base_uri": "https://localhost:8080/"
        },
        "outputId": "2da79fdd-72d4-461c-b2b6-597bfc803bda"
      },
      "source": [
        "my_set"
      ],
      "execution_count": 61,
      "outputs": [
        {
          "output_type": "execute_result",
          "data": {
            "text/plain": [
              "{(2, 3), 1, 2}"
            ]
          },
          "metadata": {},
          "execution_count": 61
        }
      ]
    },
    {
      "cell_type": "code",
      "metadata": {
        "id": "WrYzn-Pg72u7",
        "colab": {
          "base_uri": "https://localhost:8080/",
          "height": 165
        },
        "outputId": "0a6c3107-fafb-41a5-efd8-d15e987ca634"
      },
      "source": [
        "my_set = {1,2, {3,5}}"
      ],
      "execution_count": 62,
      "outputs": [
        {
          "output_type": "error",
          "ename": "TypeError",
          "evalue": "ignored",
          "traceback": [
            "\u001b[0;31m---------------------------------------------------------------------------\u001b[0m",
            "\u001b[0;31mTypeError\u001b[0m                                 Traceback (most recent call last)",
            "\u001b[0;32m<ipython-input-62-d1c5730131c5>\u001b[0m in \u001b[0;36m<module>\u001b[0;34m()\u001b[0m\n\u001b[0;32m----> 1\u001b[0;31m \u001b[0mmy_set\u001b[0m \u001b[0;34m=\u001b[0m \u001b[0;34m{\u001b[0m\u001b[0;36m1\u001b[0m\u001b[0;34m,\u001b[0m\u001b[0;36m2\u001b[0m\u001b[0;34m,\u001b[0m \u001b[0;34m{\u001b[0m\u001b[0;36m3\u001b[0m\u001b[0;34m,\u001b[0m\u001b[0;36m5\u001b[0m\u001b[0;34m}\u001b[0m\u001b[0;34m}\u001b[0m\u001b[0;34m\u001b[0m\u001b[0;34m\u001b[0m\u001b[0m\n\u001b[0m",
            "\u001b[0;31mTypeError\u001b[0m: unhashable type: 'set'"
          ]
        }
      ]
    },
    {
      "cell_type": "code",
      "metadata": {
        "id": "6Av1DFXg76ii",
        "colab": {
          "base_uri": "https://localhost:8080/"
        },
        "outputId": "b888f842-35b8-4efb-a4f8-8eadae88de9d"
      },
      "source": [
        "my_set"
      ],
      "execution_count": 63,
      "outputs": [
        {
          "output_type": "execute_result",
          "data": {
            "text/plain": [
              "{(2, 3), 1, 2}"
            ]
          },
          "metadata": {},
          "execution_count": 63
        }
      ]
    },
    {
      "cell_type": "markdown",
      "metadata": {
        "id": "McnlvCvFx2x4"
      },
      "source": [
        "### <code>add()</code> \n",
        "\n",
        "\n",
        "*  <code>add()</code> method adds an element to a set\n",
        "\n",
        "\n",
        "* This method takes the element to be added as an argument"
      ]
    },
    {
      "cell_type": "code",
      "metadata": {
        "id": "gKrGTWaQx2x4"
      },
      "source": [
        "# We add to sets with the add() method\n",
        "my_set = set()\n",
        "my_set.add('a')"
      ],
      "execution_count": 64,
      "outputs": []
    },
    {
      "cell_type": "code",
      "metadata": {
        "id": "COEtoXrZx2x5",
        "colab": {
          "base_uri": "https://localhost:8080/"
        },
        "outputId": "39c02012-ae06-4301-c9c1-f576cc171e05"
      },
      "source": [
        "#Show\n",
        "my_set"
      ],
      "execution_count": 65,
      "outputs": [
        {
          "output_type": "execute_result",
          "data": {
            "text/plain": [
              "{'a'}"
            ]
          },
          "metadata": {},
          "execution_count": 65
        }
      ]
    },
    {
      "cell_type": "code",
      "metadata": {
        "id": "YTh2v7mSx2x8"
      },
      "source": [
        "# Add a different element\n",
        "my_set.add(2)"
      ],
      "execution_count": 66,
      "outputs": []
    },
    {
      "cell_type": "code",
      "metadata": {
        "id": "AsGC5v5Hx2x-",
        "colab": {
          "base_uri": "https://localhost:8080/"
        },
        "outputId": "1e40cfdc-dc45-473f-b252-f7cb4aa229e1"
      },
      "source": [
        "#Show\n",
        "print(my_set)"
      ],
      "execution_count": 67,
      "outputs": [
        {
          "output_type": "stream",
          "name": "stdout",
          "text": [
            "{'a', 2}\n"
          ]
        }
      ]
    },
    {
      "cell_type": "code",
      "metadata": {
        "id": "t37-ERnhx2yA"
      },
      "source": [
        "# Lets add another element 1\n",
        "my_set.add(1)"
      ],
      "execution_count": 69,
      "outputs": []
    },
    {
      "cell_type": "code",
      "metadata": {
        "id": "aM6UGArnx2yC",
        "outputId": "79ce6496-0b91-4c97-f9f7-109482646f31",
        "colab": {
          "base_uri": "https://localhost:8080/"
        }
      },
      "source": [
        "#Show\n",
        "my_set"
      ],
      "execution_count": 71,
      "outputs": [
        {
          "output_type": "execute_result",
          "data": {
            "text/plain": [
              "{1, 2, 'a'}"
            ]
          },
          "metadata": {},
          "execution_count": 71
        }
      ]
    },
    {
      "cell_type": "code",
      "metadata": {
        "id": "qN4guFeox2yH"
      },
      "source": [
        "# Try to add the same element 1 again\n",
        "my_set.add(1)"
      ],
      "execution_count": 72,
      "outputs": []
    },
    {
      "cell_type": "code",
      "metadata": {
        "id": "AGlDN8Iyx2yK",
        "outputId": "8e50d145-26cc-4323-93aa-08584675e909",
        "colab": {
          "base_uri": "https://localhost:8080/"
        }
      },
      "source": [
        "my_set"
      ],
      "execution_count": 74,
      "outputs": [
        {
          "output_type": "execute_result",
          "data": {
            "text/plain": [
              "{1, 2, 'a'}"
            ]
          },
          "metadata": {},
          "execution_count": 74
        }
      ]
    },
    {
      "cell_type": "markdown",
      "metadata": {
        "id": "i2PhWKETx2yN"
      },
      "source": [
        "* Notice how it won't place another 1 there. That's because a set is only concerned with unique elements!"
      ]
    },
    {
      "cell_type": "markdown",
      "metadata": {
        "id": "Y579P1fwx2yN"
      },
      "source": [
        "### <code>update()</code>\n",
        "\n",
        "* <code>update()</code> method helps to add multiple elements to a set"
      ]
    },
    {
      "cell_type": "code",
      "metadata": {
        "id": "-G2U0D2cx2yO"
      },
      "source": [
        "my_set = {5,7,9,3}"
      ],
      "execution_count": 75,
      "outputs": []
    },
    {
      "cell_type": "code",
      "metadata": {
        "id": "jNAbIqwUx2yR",
        "colab": {
          "base_uri": "https://localhost:8080/"
        },
        "outputId": "2a46039d-f5e1-4882-cd9e-f66e2248538a"
      },
      "source": [
        "# add multiple elements\n",
        "my_set.update([2, 3, 4])\n",
        "print(my_set)"
      ],
      "execution_count": 76,
      "outputs": [
        {
          "output_type": "stream",
          "name": "stdout",
          "text": [
            "{2, 3, 4, 5, 7, 9}\n"
          ]
        }
      ]
    },
    {
      "cell_type": "markdown",
      "metadata": {
        "id": "Ehae_5psx2yT"
      },
      "source": [
        "### <code>remove()</code>\n",
        "\n",
        "* Use <code>remove()</code> to remove an item/element from the set. \n",
        "\n",
        "\n",
        "* By default <code>remove()</code> removes the specified element from the set.\n",
        "\n",
        "\n",
        "* <code>remove()</code> takes the element as an argument."
      ]
    },
    {
      "cell_type": "code",
      "metadata": {
        "id": "yRW6CHCix2yU"
      },
      "source": [
        "non_empty_set = {1,5,6,73,2}"
      ],
      "execution_count": 77,
      "outputs": []
    },
    {
      "cell_type": "code",
      "metadata": {
        "id": "UlzYv0oqx2yb"
      },
      "source": [
        "non_empty_set.remove(5)"
      ],
      "execution_count": 78,
      "outputs": []
    },
    {
      "cell_type": "code",
      "metadata": {
        "id": "2ZdpesQJx2yd",
        "colab": {
          "base_uri": "https://localhost:8080/"
        },
        "outputId": "70033946-2c6d-4370-9ec7-8c4da5cd23a6"
      },
      "source": [
        "non_empty_set"
      ],
      "execution_count": 79,
      "outputs": [
        {
          "output_type": "execute_result",
          "data": {
            "text/plain": [
              "{1, 2, 6, 73}"
            ]
          },
          "metadata": {},
          "execution_count": 79
        }
      ]
    },
    {
      "cell_type": "code",
      "metadata": {
        "id": "JfaKZ5uex2ye",
        "colab": {
          "base_uri": "https://localhost:8080/",
          "height": 165
        },
        "outputId": "ab7b7745-c8c0-4a22-f438-d26e839df5d6"
      },
      "source": [
        "non_empty_set.remove(45)"
      ],
      "execution_count": 80,
      "outputs": [
        {
          "output_type": "error",
          "ename": "KeyError",
          "evalue": "ignored",
          "traceback": [
            "\u001b[0;31m---------------------------------------------------------------------------\u001b[0m",
            "\u001b[0;31mKeyError\u001b[0m                                  Traceback (most recent call last)",
            "\u001b[0;32m<ipython-input-80-a4e6701c6396>\u001b[0m in \u001b[0;36m<module>\u001b[0;34m()\u001b[0m\n\u001b[0;32m----> 1\u001b[0;31m \u001b[0mnon_empty_set\u001b[0m\u001b[0;34m.\u001b[0m\u001b[0mremove\u001b[0m\u001b[0;34m(\u001b[0m\u001b[0;36m45\u001b[0m\u001b[0;34m)\u001b[0m\u001b[0;34m\u001b[0m\u001b[0;34m\u001b[0m\u001b[0m\n\u001b[0m",
            "\u001b[0;31mKeyError\u001b[0m: 45"
          ]
        }
      ]
    },
    {
      "cell_type": "markdown",
      "metadata": {
        "id": "4WyPacOmx2yg"
      },
      "source": [
        "* <code>remove()</code> throws an error when we try to remove an element which is not present in the set"
      ]
    },
    {
      "cell_type": "markdown",
      "metadata": {
        "id": "J78K33lKx2yh"
      },
      "source": [
        "### <code>union()</code>\n",
        "\n",
        "\n",
        "* <code>union()</code> method returns the union of two sets\n",
        "\n",
        "\n",
        "* Also denoted by the operator <code>|</code>"
      ]
    },
    {
      "cell_type": "code",
      "metadata": {
        "id": "5PsHlxXvx2yh"
      },
      "source": [
        "# Initialize sets A and B\n",
        "A = {1, 2, 3, 4, 5}\n",
        "B = {4, 5, 6, 7, 8}"
      ],
      "execution_count": 81,
      "outputs": []
    },
    {
      "cell_type": "code",
      "metadata": {
        "id": "xb3dKUDdx2yi",
        "colab": {
          "base_uri": "https://localhost:8080/"
        },
        "outputId": "978580b2-a5d6-4f99-ceb3-90f88610334b"
      },
      "source": [
        "A.union(B)"
      ],
      "execution_count": 82,
      "outputs": [
        {
          "output_type": "execute_result",
          "data": {
            "text/plain": [
              "{1, 2, 3, 4, 5, 6, 7, 8}"
            ]
          },
          "metadata": {},
          "execution_count": 82
        }
      ]
    },
    {
      "cell_type": "code",
      "metadata": {
        "colab": {
          "base_uri": "https://localhost:8080/"
        },
        "id": "LEnTk73BlUvM",
        "outputId": "ed45a5c8-4a70-4bcc-928b-3aedcda9a5c3"
      },
      "source": [
        "A"
      ],
      "execution_count": 83,
      "outputs": [
        {
          "output_type": "execute_result",
          "data": {
            "text/plain": [
              "{1, 2, 3, 4, 5}"
            ]
          },
          "metadata": {},
          "execution_count": 83
        }
      ]
    },
    {
      "cell_type": "code",
      "metadata": {
        "id": "5eiCPbm3x2yk",
        "colab": {
          "base_uri": "https://localhost:8080/"
        },
        "outputId": "bbb37883-8e39-45b1-b566-25e055f85109"
      },
      "source": [
        "# Also denoted by the operator |\n",
        "A | B"
      ],
      "execution_count": 84,
      "outputs": [
        {
          "output_type": "execute_result",
          "data": {
            "text/plain": [
              "{1, 2, 3, 4, 5, 6, 7, 8}"
            ]
          },
          "metadata": {},
          "execution_count": 84
        }
      ]
    },
    {
      "cell_type": "markdown",
      "metadata": {
        "id": "-imPGLIHx2ym"
      },
      "source": [
        "### <code>intersection()</code>\n",
        "\n",
        "\n",
        "* <code>intersection()</code> method returns the intersection of two sets\n",
        "\n",
        "\n",
        "* Also denoted by the operator <code>&</code>"
      ]
    },
    {
      "cell_type": "code",
      "metadata": {
        "id": "CEiWFkplx2ym"
      },
      "source": [
        "A = {1, 2, 3, 4, 5}\n",
        "B = {4, 5, 6, 7, 8}"
      ],
      "execution_count": 85,
      "outputs": []
    },
    {
      "cell_type": "code",
      "metadata": {
        "id": "1ycxjihUx2yn",
        "colab": {
          "base_uri": "https://localhost:8080/"
        },
        "outputId": "e0a00af1-aae3-41e1-d4f8-cbda64768aec"
      },
      "source": [
        "A.intersection(B)"
      ],
      "execution_count": 86,
      "outputs": [
        {
          "output_type": "execute_result",
          "data": {
            "text/plain": [
              "{4, 5}"
            ]
          },
          "metadata": {},
          "execution_count": 86
        }
      ]
    },
    {
      "cell_type": "code",
      "metadata": {
        "id": "GalM9H1ax2yp",
        "colab": {
          "base_uri": "https://localhost:8080/"
        },
        "outputId": "b2432521-eb50-4c97-d1ed-ccb582608544"
      },
      "source": [
        "# Also denoted by the operator &\n",
        "A & B"
      ],
      "execution_count": 87,
      "outputs": [
        {
          "output_type": "execute_result",
          "data": {
            "text/plain": [
              "{4, 5}"
            ]
          },
          "metadata": {},
          "execution_count": 87
        }
      ]
    },
    {
      "cell_type": "markdown",
      "metadata": {
        "id": "nJm-OfZDx2yq"
      },
      "source": [
        "### <code>difference()</code>\n",
        "\n",
        "\n",
        "* <code>difference()</code> method returns the difference of two sets\n",
        "\n",
        "\n",
        "* Difference of the set <code>B</code> from set <code>A</code> i.e, <code>(A - B)</code> is a set of elements that are only in <code>A</code> but not in <code>B</code>\n",
        "\n",
        "\n",
        "* Also denoted by the operator <code>-</code>"
      ]
    },
    {
      "cell_type": "code",
      "metadata": {
        "id": "bggwzeTCx2yq"
      },
      "source": [
        "A = {1, 2, 3, 4, 5}\n",
        "B = {4, 5, 6, 7, 8}"
      ],
      "execution_count": 88,
      "outputs": []
    },
    {
      "cell_type": "code",
      "metadata": {
        "id": "wj1pQh3Ex2ys",
        "colab": {
          "base_uri": "https://localhost:8080/"
        },
        "outputId": "b14a5b8c-9a6c-4a49-ad96-0437d779a3a4"
      },
      "source": [
        "A.difference(B)"
      ],
      "execution_count": 89,
      "outputs": [
        {
          "output_type": "execute_result",
          "data": {
            "text/plain": [
              "{1, 2, 3}"
            ]
          },
          "metadata": {},
          "execution_count": 89
        }
      ]
    },
    {
      "cell_type": "code",
      "metadata": {
        "id": "0DgHo42ax2yv",
        "colab": {
          "base_uri": "https://localhost:8080/"
        },
        "outputId": "da7e506a-ca11-49ee-bfce-ff8182a935cb"
      },
      "source": [
        "# Also denoted by the operator -\n",
        "A - B"
      ],
      "execution_count": 90,
      "outputs": [
        {
          "output_type": "execute_result",
          "data": {
            "text/plain": [
              "{1, 2, 3}"
            ]
          },
          "metadata": {},
          "execution_count": 90
        }
      ]
    },
    {
      "cell_type": "code",
      "metadata": {
        "id": "6252HLbjx2yw",
        "colab": {
          "base_uri": "https://localhost:8080/"
        },
        "outputId": "36ea5168-0677-4b9e-a835-fec561090076"
      },
      "source": [
        "B.difference(A)"
      ],
      "execution_count": 91,
      "outputs": [
        {
          "output_type": "execute_result",
          "data": {
            "text/plain": [
              "{6, 7, 8}"
            ]
          },
          "metadata": {},
          "execution_count": 91
        }
      ]
    },
    {
      "cell_type": "code",
      "metadata": {
        "id": "UXeArQih9-KX",
        "colab": {
          "base_uri": "https://localhost:8080/"
        },
        "outputId": "ce8e7183-5837-4f09-c486-bf0402829b2b"
      },
      "source": [
        "B - A"
      ],
      "execution_count": 92,
      "outputs": [
        {
          "output_type": "execute_result",
          "data": {
            "text/plain": [
              "{6, 7, 8}"
            ]
          },
          "metadata": {},
          "execution_count": 92
        }
      ]
    },
    {
      "cell_type": "markdown",
      "metadata": {
        "id": "syQXm4jBx2yx"
      },
      "source": [
        "### <code>symmetric_difference()</code>\n",
        "\n",
        "\n",
        "* <code>symmetric_difference()</code> method returns the set of elements in A and B but not in both (excluding the intersection)\n",
        "\n",
        "\n",
        "* Also denoted by the operator <code>^</code>"
      ]
    },
    {
      "cell_type": "code",
      "metadata": {
        "id": "EVPLdfe6x2yx"
      },
      "source": [
        "A = {1, 2, 3, 4, 5}\n",
        "B = {4, 5, 6, 7, 8}"
      ],
      "execution_count": 93,
      "outputs": []
    },
    {
      "cell_type": "code",
      "metadata": {
        "id": "FLdL9n9nx2yz",
        "colab": {
          "base_uri": "https://localhost:8080/"
        },
        "outputId": "3fc288d9-aeff-48b9-ac70-6da37d710c78"
      },
      "source": [
        "A.symmetric_difference(B)"
      ],
      "execution_count": 94,
      "outputs": [
        {
          "output_type": "execute_result",
          "data": {
            "text/plain": [
              "{1, 2, 3, 6, 7, 8}"
            ]
          },
          "metadata": {},
          "execution_count": 94
        }
      ]
    },
    {
      "cell_type": "code",
      "metadata": {
        "id": "yetEV2k1x2y1",
        "colab": {
          "base_uri": "https://localhost:8080/"
        },
        "outputId": "01c48173-b6e5-4d5c-94be-e1c45bd12c05"
      },
      "source": [
        "A^B"
      ],
      "execution_count": 95,
      "outputs": [
        {
          "output_type": "execute_result",
          "data": {
            "text/plain": [
              "{1, 2, 3, 6, 7, 8}"
            ]
          },
          "metadata": {},
          "execution_count": 95
        }
      ]
    },
    {
      "cell_type": "markdown",
      "metadata": {
        "id": "wLDBvDUix2y3"
      },
      "source": [
        "# Dictionaries\n",
        "\n",
        "* We've been learning about *sequences* in Python but now we're going to switch gears and learn about *mappings* in Python. \n",
        "\n",
        "\n",
        "* If you're familiar with other languages you can think of these Dictionaries as hash tables. \n",
        "\n",
        "\n",
        "* So what are mappings? Mappings are a collection of objects that are stored by a *key*, unlike a sequence that stored objects by their relative position. This is an important distinction, since mappings won't retain order since they have objects defined by a key.\n",
        "\n",
        "\n",
        "* A Python dictionary consists of a key and then an associated value. That value can be almost any Python object. So a dictionary object always has elements as key-value pairs\n",
        "\n",
        "\n",
        "## Constructing a Dictionary\n",
        "\n",
        "\n",
        "* A dictionary object is constructed using curly braces <code>{key1:value1,key2:value2,key3:value3}</code>"
      ]
    },
    {
      "cell_type": "code",
      "metadata": {
        "id": "IPVt8pQ1x2y4"
      },
      "source": [
        "# Make a dictionary with {} and : to signify a key and a value\n",
        "marvel_dict = {'Name':'Thor','Place':'Asgard','Weapon' : 'Hammer', 1:2, 3 : 'power', 'alibies' : ['Ironman','Captain America'], 'abc' : {1:2, 4:5}}"
      ],
      "execution_count": 96,
      "outputs": []
    },
    {
      "cell_type": "code",
      "metadata": {
        "id": "zUigu-Eox2y5",
        "colab": {
          "base_uri": "https://localhost:8080/",
          "height": 35
        },
        "outputId": "5c7d37ec-8940-4db6-e5e5-586838411902"
      },
      "source": [
        "# Call values by their key\n",
        "marvel_dict['Place']"
      ],
      "execution_count": 97,
      "outputs": [
        {
          "output_type": "execute_result",
          "data": {
            "application/vnd.google.colaboratory.intrinsic+json": {
              "type": "string"
            },
            "text/plain": [
              "'Asgard'"
            ]
          },
          "metadata": {},
          "execution_count": 97
        }
      ]
    },
    {
      "cell_type": "code",
      "metadata": {
        "colab": {
          "base_uri": "https://localhost:8080/"
        },
        "id": "bQT7_8HqpdmX",
        "outputId": "38e42a74-bd14-4422-a890-2b2c1c278d10"
      },
      "source": [
        "type(marvel_dict)"
      ],
      "execution_count": 98,
      "outputs": [
        {
          "output_type": "execute_result",
          "data": {
            "text/plain": [
              "dict"
            ]
          },
          "metadata": {},
          "execution_count": 98
        }
      ]
    },
    {
      "cell_type": "code",
      "metadata": {
        "id": "JakXpRcqx2y7",
        "colab": {
          "base_uri": "https://localhost:8080/",
          "height": 35
        },
        "outputId": "cf24fde6-7667-48f6-be49-16e3cec17113"
      },
      "source": [
        "marvel_dict['Name']"
      ],
      "execution_count": 99,
      "outputs": [
        {
          "output_type": "execute_result",
          "data": {
            "application/vnd.google.colaboratory.intrinsic+json": {
              "type": "string"
            },
            "text/plain": [
              "'Thor'"
            ]
          },
          "metadata": {},
          "execution_count": 99
        }
      ]
    },
    {
      "cell_type": "code",
      "metadata": {
        "colab": {
          "base_uri": "https://localhost:8080/",
          "height": 165
        },
        "id": "3VuNvGrQsC1o",
        "outputId": "6c64c7b5-0760-4c06-9b83-8ccfdc9e2f1e"
      },
      "source": [
        "marvel_dict['Random']"
      ],
      "execution_count": 100,
      "outputs": [
        {
          "output_type": "error",
          "ename": "KeyError",
          "evalue": "ignored",
          "traceback": [
            "\u001b[0;31m---------------------------------------------------------------------------\u001b[0m",
            "\u001b[0;31mKeyError\u001b[0m                                  Traceback (most recent call last)",
            "\u001b[0;32m<ipython-input-100-9f68b85bbfcd>\u001b[0m in \u001b[0;36m<module>\u001b[0;34m()\u001b[0m\n\u001b[0;32m----> 1\u001b[0;31m \u001b[0mmarvel_dict\u001b[0m\u001b[0;34m[\u001b[0m\u001b[0;34m'Random'\u001b[0m\u001b[0;34m]\u001b[0m\u001b[0;34m\u001b[0m\u001b[0;34m\u001b[0m\u001b[0m\n\u001b[0m",
            "\u001b[0;31mKeyError\u001b[0m: 'Random'"
          ]
        }
      ]
    },
    {
      "cell_type": "code",
      "metadata": {
        "id": "NZwP-63z_k3c"
      },
      "source": [
        "marvel_dict['Weapon']"
      ],
      "execution_count": null,
      "outputs": []
    },
    {
      "cell_type": "code",
      "metadata": {
        "id": "lRWRAg0U_0tM",
        "colab": {
          "base_uri": "https://localhost:8080/"
        },
        "outputId": "7dc34133-5216-451d-fd5c-ef5f92e3000b"
      },
      "source": [
        "marvel_dict['alibies']"
      ],
      "execution_count": 101,
      "outputs": [
        {
          "output_type": "execute_result",
          "data": {
            "text/plain": [
              "['Ironman', 'Captain America']"
            ]
          },
          "metadata": {},
          "execution_count": 101
        }
      ]
    },
    {
      "cell_type": "code",
      "metadata": {
        "id": "e7fpRgtMAaSZ",
        "colab": {
          "base_uri": "https://localhost:8080/"
        },
        "outputId": "a342f482-b885-4ec5-abd0-ba53ee43038d"
      },
      "source": [
        "type(marvel_dict['abc'])"
      ],
      "execution_count": 102,
      "outputs": [
        {
          "output_type": "execute_result",
          "data": {
            "text/plain": [
              "dict"
            ]
          },
          "metadata": {},
          "execution_count": 102
        }
      ]
    },
    {
      "cell_type": "markdown",
      "metadata": {
        "id": "J44Z9VfMx2y9"
      },
      "source": [
        "## Dictionary Methods"
      ]
    },
    {
      "cell_type": "markdown",
      "metadata": {
        "id": "uL7e7NDox2y9"
      },
      "source": [
        "### <code>keys()</code>\n",
        "\n",
        "\n",
        "* <code>keys()</code> method returns the list of keys in the dictionary object"
      ]
    },
    {
      "cell_type": "code",
      "metadata": {
        "colab": {
          "base_uri": "https://localhost:8080/"
        },
        "id": "d-MXIbRwqcS1",
        "outputId": "c096f917-d108-4b5a-98ac-23f094b89df8"
      },
      "source": [
        "marvel_dict.keys()"
      ],
      "execution_count": 103,
      "outputs": [
        {
          "output_type": "execute_result",
          "data": {
            "text/plain": [
              "dict_keys(['Name', 'Place', 'Weapon', 1, 3, 'alibies', 'abc'])"
            ]
          },
          "metadata": {},
          "execution_count": 103
        }
      ]
    },
    {
      "cell_type": "code",
      "metadata": {
        "id": "mRev-noZx2y9",
        "colab": {
          "base_uri": "https://localhost:8080/"
        },
        "outputId": "224c4eac-44a1-4359-fe2a-987b37eb545b"
      },
      "source": [
        "list(marvel_dict.keys())"
      ],
      "execution_count": 104,
      "outputs": [
        {
          "output_type": "execute_result",
          "data": {
            "text/plain": [
              "['Name', 'Place', 'Weapon', 1, 3, 'alibies', 'abc']"
            ]
          },
          "metadata": {},
          "execution_count": 104
        }
      ]
    },
    {
      "cell_type": "markdown",
      "metadata": {
        "id": "tUaGyAtdx2y_"
      },
      "source": [
        "### <code>values()</code>\n",
        "\n",
        "* <code>values()</code> method returns the list of values in the dictionary object"
      ]
    },
    {
      "cell_type": "code",
      "metadata": {
        "id": "phxxN3b2BI21",
        "colab": {
          "base_uri": "https://localhost:8080/"
        },
        "outputId": "44f93086-6b24-4402-d843-b3b0d52c2503"
      },
      "source": [
        "print(marvel_dict)"
      ],
      "execution_count": 105,
      "outputs": [
        {
          "output_type": "stream",
          "name": "stdout",
          "text": [
            "{'Name': 'Thor', 'Place': 'Asgard', 'Weapon': 'Hammer', 1: 2, 3: 'power', 'alibies': ['Ironman', 'Captain America'], 'abc': {1: 2, 4: 5}}\n"
          ]
        }
      ]
    },
    {
      "cell_type": "code",
      "metadata": {
        "id": "18imvm1tx2zA",
        "colab": {
          "base_uri": "https://localhost:8080/"
        },
        "outputId": "8eb0819b-fac8-4a18-ea51-ce8c200c93f8"
      },
      "source": [
        "list(marvel_dict.values())"
      ],
      "execution_count": 106,
      "outputs": [
        {
          "output_type": "execute_result",
          "data": {
            "text/plain": [
              "['Thor',\n",
              " 'Asgard',\n",
              " 'Hammer',\n",
              " 2,\n",
              " 'power',\n",
              " ['Ironman', 'Captain America'],\n",
              " {1: 2, 4: 5}]"
            ]
          },
          "metadata": {},
          "execution_count": 106
        }
      ]
    },
    {
      "cell_type": "markdown",
      "metadata": {
        "id": "_nSqsOiax2zB"
      },
      "source": [
        "### <code>items()</code>\n",
        "\n",
        "\n",
        "* <code>items()</code> method returns the list of the keys and values "
      ]
    },
    {
      "cell_type": "code",
      "metadata": {
        "id": "JHqnsUctx2zB",
        "colab": {
          "base_uri": "https://localhost:8080/"
        },
        "outputId": "cd21264a-0d05-4b05-b158-f35e671d233a"
      },
      "source": [
        "# Get the keys and their corresponding values\n",
        "list(marvel_dict.items())"
      ],
      "execution_count": 107,
      "outputs": [
        {
          "output_type": "execute_result",
          "data": {
            "text/plain": [
              "[('Name', 'Thor'),\n",
              " ('Place', 'Asgard'),\n",
              " ('Weapon', 'Hammer'),\n",
              " (1, 2),\n",
              " (3, 'power'),\n",
              " ('alibies', ['Ironman', 'Captain America']),\n",
              " ('abc', {1: 2, 4: 5})]"
            ]
          },
          "metadata": {},
          "execution_count": 107
        }
      ]
    },
    {
      "cell_type": "markdown",
      "metadata": {
        "id": "rOJcYnxYx2zE"
      },
      "source": [
        "* We can also use the <code>get()</code> method to extract a particular value of key-value pair. \n"
      ]
    },
    {
      "cell_type": "code",
      "metadata": {
        "id": "VH3-a6Ykx2zE",
        "colab": {
          "base_uri": "https://localhost:8080/",
          "height": 35
        },
        "outputId": "4034766a-4415-4c79-c326-6bec89288104"
      },
      "source": [
        "marvel_dict.get('Place')"
      ],
      "execution_count": 108,
      "outputs": [
        {
          "output_type": "execute_result",
          "data": {
            "application/vnd.google.colaboratory.intrinsic+json": {
              "type": "string"
            },
            "text/plain": [
              "'Asgard'"
            ]
          },
          "metadata": {},
          "execution_count": 108
        }
      ]
    },
    {
      "cell_type": "markdown",
      "metadata": {
        "id": "WsRmOWzVx2zG"
      },
      "source": [
        "### <code>get()</code>\n",
        "\n",
        "* <code>get()</code> method takes the key as an argument and returns None if the key is not found in the dictionary.\n",
        "\n",
        "\n",
        "* We can also set the value to return if a key is not found. This will be passed as the second argument in <code>get()</code>"
      ]
    },
    {
      "cell_type": "code",
      "metadata": {
        "id": "hHnXdwNNx2zG",
        "colab": {
          "base_uri": "https://localhost:8080/",
          "height": 35
        },
        "outputId": "18f91fb1-f1b1-418a-8fc5-6878852990db"
      },
      "source": [
        "marvel_dict.get('Place')"
      ],
      "execution_count": 109,
      "outputs": [
        {
          "output_type": "execute_result",
          "data": {
            "application/vnd.google.colaboratory.intrinsic+json": {
              "type": "string"
            },
            "text/plain": [
              "'Asgard'"
            ]
          },
          "metadata": {},
          "execution_count": 109
        }
      ]
    },
    {
      "cell_type": "code",
      "metadata": {
        "id": "rAS9es6osPNX"
      },
      "source": [
        "marvel_dict.get('Random')"
      ],
      "execution_count": 110,
      "outputs": []
    },
    {
      "cell_type": "code",
      "metadata": {
        "id": "ociIf394sPLE"
      },
      "source": [
        ""
      ],
      "execution_count": 110,
      "outputs": []
    },
    {
      "cell_type": "code",
      "metadata": {
        "id": "-wqYpb0Ox2zI",
        "colab": {
          "base_uri": "https://localhost:8080/",
          "height": 35
        },
        "outputId": "542fbbe2-5fae-4227-eb15-29ce7d48058f"
      },
      "source": [
        "marvel_dict.get('Random','Not Found')"
      ],
      "execution_count": 111,
      "outputs": [
        {
          "output_type": "execute_result",
          "data": {
            "application/vnd.google.colaboratory.intrinsic+json": {
              "type": "string"
            },
            "text/plain": [
              "'Not Found'"
            ]
          },
          "metadata": {},
          "execution_count": 111
        }
      ]
    },
    {
      "cell_type": "code",
      "metadata": {
        "id": "365bYlMJx2zJ",
        "colab": {
          "base_uri": "https://localhost:8080/",
          "height": 165
        },
        "outputId": "b40d8d02-ade7-42ad-c401-ab9dede896cb"
      },
      "source": [
        "marvel_dict['friend']"
      ],
      "execution_count": 112,
      "outputs": [
        {
          "output_type": "error",
          "ename": "KeyError",
          "evalue": "ignored",
          "traceback": [
            "\u001b[0;31m---------------------------------------------------------------------------\u001b[0m",
            "\u001b[0;31mKeyError\u001b[0m                                  Traceback (most recent call last)",
            "\u001b[0;32m<ipython-input-112-6d5748fd78c2>\u001b[0m in \u001b[0;36m<module>\u001b[0;34m()\u001b[0m\n\u001b[0;32m----> 1\u001b[0;31m \u001b[0mmarvel_dict\u001b[0m\u001b[0;34m[\u001b[0m\u001b[0;34m'friend'\u001b[0m\u001b[0;34m]\u001b[0m\u001b[0;34m\u001b[0m\u001b[0;34m\u001b[0m\u001b[0m\n\u001b[0m",
            "\u001b[0;31mKeyError\u001b[0m: 'friend'"
          ]
        }
      ]
    },
    {
      "cell_type": "markdown",
      "metadata": {
        "id": "zcMn2Wd-x2zL"
      },
      "source": [
        "Its important to note that dictionaries are very flexible in the data types they can hold. For example:"
      ]
    },
    {
      "cell_type": "code",
      "metadata": {
        "id": "jtF14Xqxx2zL"
      },
      "source": [
        "employee_dict = {'Name':'Sanket','Skills':['Python','Machine Learning','Deep Learning'],'Band':6.0,'Promotion Year':[2016,2018,2020]}"
      ],
      "execution_count": 113,
      "outputs": []
    },
    {
      "cell_type": "code",
      "metadata": {
        "id": "TBmOrJKlCx4A",
        "colab": {
          "base_uri": "https://localhost:8080/"
        },
        "outputId": "d226f4e4-bcc0-4f43-910e-83276ecbc718"
      },
      "source": [
        "len(employee_dict.keys())"
      ],
      "execution_count": 114,
      "outputs": [
        {
          "output_type": "execute_result",
          "data": {
            "text/plain": [
              "4"
            ]
          },
          "metadata": {},
          "execution_count": 114
        }
      ]
    },
    {
      "cell_type": "code",
      "metadata": {
        "id": "_RpBYW0Qx2zM",
        "outputId": "da3aabed-5254-4395-85bb-fa2b04f760db",
        "colab": {
          "base_uri": "https://localhost:8080/"
        }
      },
      "source": [
        "# Let's call items from the dictionary\n",
        "employee_dict['Skills']"
      ],
      "execution_count": 115,
      "outputs": [
        {
          "output_type": "execute_result",
          "data": {
            "text/plain": [
              "['Python', 'Machine Learning', 'Deep Learning']"
            ]
          },
          "metadata": {},
          "execution_count": 115
        }
      ]
    },
    {
      "cell_type": "code",
      "metadata": {
        "id": "u1mgrdHnx2zN",
        "outputId": "fc5e9884-e254-4e4e-f97d-d54d64e63bd4",
        "colab": {
          "base_uri": "https://localhost:8080/",
          "height": 35
        }
      },
      "source": [
        "# Can call an index on that value\n",
        "employee_dict['Skills'][0]"
      ],
      "execution_count": 116,
      "outputs": [
        {
          "output_type": "execute_result",
          "data": {
            "application/vnd.google.colaboratory.intrinsic+json": {
              "type": "string"
            },
            "text/plain": [
              "'Python'"
            ]
          },
          "metadata": {},
          "execution_count": 116
        }
      ]
    },
    {
      "cell_type": "code",
      "metadata": {
        "id": "YT7M9CoMx2zP",
        "colab": {
          "base_uri": "https://localhost:8080/",
          "height": 35
        },
        "outputId": "af99a1d6-e841-46e7-c66c-3c7ff4176895"
      },
      "source": [
        "# Can then even call methods on that value\n",
        "employee_dict['Skills'][0].upper()"
      ],
      "execution_count": 117,
      "outputs": [
        {
          "output_type": "execute_result",
          "data": {
            "application/vnd.google.colaboratory.intrinsic+json": {
              "type": "string"
            },
            "text/plain": [
              "'PYTHON'"
            ]
          },
          "metadata": {},
          "execution_count": 117
        }
      ]
    },
    {
      "cell_type": "code",
      "metadata": {
        "id": "dcEo2ZqSx2zQ"
      },
      "source": [
        "# Add a new key\n",
        "\n",
        "employee_dict['Designation'] ='Senior Data Scientist'"
      ],
      "execution_count": 118,
      "outputs": []
    },
    {
      "cell_type": "code",
      "metadata": {
        "id": "I_VxhEd_x2zR",
        "colab": {
          "base_uri": "https://localhost:8080/"
        },
        "outputId": "7a2e1272-307a-45c4-a87a-a01c79795786"
      },
      "source": [
        "employee_dict"
      ],
      "execution_count": 119,
      "outputs": [
        {
          "output_type": "execute_result",
          "data": {
            "text/plain": [
              "{'Band': 6.0,\n",
              " 'Designation': 'Senior Data Scientist',\n",
              " 'Name': 'Sanket',\n",
              " 'Promotion Year': [2016, 2018, 2020],\n",
              " 'Skills': ['Python', 'Machine Learning', 'Deep Learning']}"
            ]
          },
          "metadata": {},
          "execution_count": 119
        }
      ]
    },
    {
      "cell_type": "markdown",
      "metadata": {
        "id": "KdEUV4J3x2zT"
      },
      "source": [
        "### <code>update()</code>\n",
        "\n",
        "* You can add an element which is a key-value pair using the <code>update()</code> method \n",
        "\n",
        "* This method takes a dictionary as an argument"
      ]
    },
    {
      "cell_type": "code",
      "metadata": {
        "id": "FEGkoCDBx2zT"
      },
      "source": [
        "employee_dict.update({'Salary':'2,000,000'})"
      ],
      "execution_count": 120,
      "outputs": []
    },
    {
      "cell_type": "code",
      "metadata": {
        "id": "MzCAighVx2zW",
        "colab": {
          "base_uri": "https://localhost:8080/"
        },
        "outputId": "a42929f9-604b-4280-c1c0-9de511c135ab"
      },
      "source": [
        "employee_dict"
      ],
      "execution_count": 121,
      "outputs": [
        {
          "output_type": "execute_result",
          "data": {
            "text/plain": [
              "{'Band': 6.0,\n",
              " 'Designation': 'Senior Data Scientist',\n",
              " 'Name': 'Sanket',\n",
              " 'Promotion Year': [2016, 2018, 2020],\n",
              " 'Salary': '2,000,000',\n",
              " 'Skills': ['Python', 'Machine Learning', 'Deep Learning']}"
            ]
          },
          "metadata": {},
          "execution_count": 121
        }
      ]
    },
    {
      "cell_type": "markdown",
      "metadata": {
        "id": "vUSkFO6mx2zY"
      },
      "source": [
        "* We can also use the <code>update()</code> method to update the existing values for a key"
      ]
    },
    {
      "cell_type": "code",
      "metadata": {
        "id": "l1DZu6X9x2zY"
      },
      "source": [
        "employee_dict.update({'Name' : 'Varun Saini'})"
      ],
      "execution_count": 122,
      "outputs": []
    },
    {
      "cell_type": "code",
      "metadata": {
        "id": "XEqfvHmxx2zb",
        "colab": {
          "base_uri": "https://localhost:8080/"
        },
        "outputId": "d9cedd55-b29a-4e6f-ffc9-12087be3632c"
      },
      "source": [
        "employee_dict"
      ],
      "execution_count": 123,
      "outputs": [
        {
          "output_type": "execute_result",
          "data": {
            "text/plain": [
              "{'Band': 6.0,\n",
              " 'Designation': 'Senior Data Scientist',\n",
              " 'Name': 'Varun Saini',\n",
              " 'Promotion Year': [2016, 2018, 2020],\n",
              " 'Salary': '2,000,000',\n",
              " 'Skills': ['Python', 'Machine Learning', 'Deep Learning']}"
            ]
          },
          "metadata": {},
          "execution_count": 123
        }
      ]
    },
    {
      "cell_type": "markdown",
      "metadata": {
        "id": "xxQn8kbMx2zc"
      },
      "source": [
        "* We can affect the values of a key as well without the <code>update()</code> method"
      ]
    },
    {
      "cell_type": "code",
      "metadata": {
        "id": "-mEWWbYKx2zc",
        "colab": {
          "base_uri": "https://localhost:8080/",
          "height": 35
        },
        "outputId": "9df384b4-b5e6-4970-9716-4c1d8fbcd526"
      },
      "source": [
        "employee_dict['Name']"
      ],
      "execution_count": 124,
      "outputs": [
        {
          "output_type": "execute_result",
          "data": {
            "application/vnd.google.colaboratory.intrinsic+json": {
              "type": "string"
            },
            "text/plain": [
              "'Varun Saini'"
            ]
          },
          "metadata": {},
          "execution_count": 124
        }
      ]
    },
    {
      "cell_type": "code",
      "metadata": {
        "id": "qichUeBNx2zf"
      },
      "source": [
        "# Subtract 123 from the value\n",
        "employee_dict['Name'] = employee_dict['Name'] + ' ' + 'Raj'"
      ],
      "execution_count": 125,
      "outputs": []
    },
    {
      "cell_type": "code",
      "metadata": {
        "id": "z9grCvhxx2zg",
        "colab": {
          "base_uri": "https://localhost:8080/"
        },
        "outputId": "47a89144-cb9d-4922-91cb-b7b9df7a3f67"
      },
      "source": [
        "#Check\n",
        "employee_dict"
      ],
      "execution_count": 126,
      "outputs": [
        {
          "output_type": "execute_result",
          "data": {
            "text/plain": [
              "{'Band': 6.0,\n",
              " 'Designation': 'Senior Data Scientist',\n",
              " 'Name': 'Varun Saini Raj',\n",
              " 'Promotion Year': [2016, 2018, 2020],\n",
              " 'Salary': '2,000,000',\n",
              " 'Skills': ['Python', 'Machine Learning', 'Deep Learning']}"
            ]
          },
          "metadata": {},
          "execution_count": 126
        }
      ]
    },
    {
      "cell_type": "markdown",
      "metadata": {
        "id": "Rnlnm59rx2zi"
      },
      "source": [
        "### <code>dict()</code>\n",
        "\n",
        "\n",
        "* We can also create dictionary objects from sequence of items which are pairs. This is done using the <code>dict()</code>method\n",
        "\n",
        "\n",
        "*  <code>dict()</code> function takes the list of paired elements as argument"
      ]
    },
    {
      "cell_type": "code",
      "metadata": {
        "id": "JSOCmifNV_ht"
      },
      "source": [
        "country_list = ['India','Australia','United States','England']\n",
        "city_list = ['New Delhi', 'Canberra' , 'Washington DC','London']"
      ],
      "execution_count": 127,
      "outputs": []
    },
    {
      "cell_type": "code",
      "metadata": {
        "id": "mviLZSi0WSuK"
      },
      "source": [
        "country_city_list = list(zip(country_list,city_list))"
      ],
      "execution_count": 128,
      "outputs": []
    },
    {
      "cell_type": "code",
      "metadata": {
        "colab": {
          "base_uri": "https://localhost:8080/"
        },
        "id": "o_whSlhOWZgG",
        "outputId": "15234e21-2f24-4a0b-b84c-005d77cbe1d4"
      },
      "source": [
        "country_city_list"
      ],
      "execution_count": 129,
      "outputs": [
        {
          "output_type": "execute_result",
          "data": {
            "text/plain": [
              "[('India', 'New Delhi'),\n",
              " ('Australia', 'Canberra'),\n",
              " ('United States', 'Washington DC'),\n",
              " ('England', 'London')]"
            ]
          },
          "metadata": {},
          "execution_count": 129
        }
      ]
    },
    {
      "cell_type": "code",
      "metadata": {
        "colab": {
          "base_uri": "https://localhost:8080/"
        },
        "id": "vUdlGah7Wcu8",
        "outputId": "395df07d-b86d-42c3-8954-3c8ce2f4a938"
      },
      "source": [
        "dict(country_city_list)"
      ],
      "execution_count": 130,
      "outputs": [
        {
          "output_type": "execute_result",
          "data": {
            "text/plain": [
              "{'Australia': 'Canberra',\n",
              " 'England': 'London',\n",
              " 'India': 'New Delhi',\n",
              " 'United States': 'Washington DC'}"
            ]
          },
          "metadata": {},
          "execution_count": 130
        }
      ]
    },
    {
      "cell_type": "code",
      "metadata": {
        "id": "vq5EXr2ex2zi"
      },
      "source": [
        "# Let us create a list of paired tuples\n",
        "country_city_tuples = [('India','New Delhi'),('Australia','Canberra'),('United States','Washington DC'),('England','London')]"
      ],
      "execution_count": 131,
      "outputs": []
    },
    {
      "cell_type": "code",
      "metadata": {
        "id": "-6ObV-KFx2zj"
      },
      "source": [
        "country_city_dict = dict(country_city_tuples)"
      ],
      "execution_count": 132,
      "outputs": []
    },
    {
      "cell_type": "code",
      "metadata": {
        "id": "CQRGpNXJx2zk",
        "colab": {
          "base_uri": "https://localhost:8080/"
        },
        "outputId": "2e8e5f23-8598-4ca2-ad25-f04c039f0391"
      },
      "source": [
        "country_city_dict"
      ],
      "execution_count": 133,
      "outputs": [
        {
          "output_type": "execute_result",
          "data": {
            "text/plain": [
              "{'Australia': 'Canberra',\n",
              " 'England': 'London',\n",
              " 'India': 'New Delhi',\n",
              " 'United States': 'Washington DC'}"
            ]
          },
          "metadata": {},
          "execution_count": 133
        }
      ]
    },
    {
      "cell_type": "markdown",
      "metadata": {
        "id": "IC5NCQkmx2zl"
      },
      "source": [
        "### <code>pop()</code>\n",
        "\n",
        "\n",
        "* <code>pop()</code> method removes and returns an element from a dictionary having the given key.\n",
        "\n",
        "* This method takes two arguments/parameters (i) key - key which is to be searched for removal, (ii) default - value which is to be returned when the key is not in the dictionary"
      ]
    },
    {
      "cell_type": "code",
      "metadata": {
        "colab": {
          "base_uri": "https://localhost:8080/",
          "height": 35
        },
        "id": "bGVEztzUuoNk",
        "outputId": "5200153f-c8bb-4aae-897f-fc755f8a15f5"
      },
      "source": [
        "country_city_dict.pop('England')"
      ],
      "execution_count": 134,
      "outputs": [
        {
          "output_type": "execute_result",
          "data": {
            "application/vnd.google.colaboratory.intrinsic+json": {
              "type": "string"
            },
            "text/plain": [
              "'London'"
            ]
          },
          "metadata": {},
          "execution_count": 134
        }
      ]
    },
    {
      "cell_type": "code",
      "metadata": {
        "id": "IPNFmS9lusRR",
        "colab": {
          "base_uri": "https://localhost:8080/"
        },
        "outputId": "c2b45323-ec87-4375-9271-e9fb9f4ce489"
      },
      "source": [
        "country_city_dict"
      ],
      "execution_count": 135,
      "outputs": [
        {
          "output_type": "execute_result",
          "data": {
            "text/plain": [
              "{'Australia': 'Canberra',\n",
              " 'India': 'New Delhi',\n",
              " 'United States': 'Washington DC'}"
            ]
          },
          "metadata": {},
          "execution_count": 135
        }
      ]
    },
    {
      "cell_type": "code",
      "metadata": {
        "id": "r6NkuEnlx2zl",
        "colab": {
          "base_uri": "https://localhost:8080/",
          "height": 165
        },
        "outputId": "89eb63f5-deb1-4981-cf3e-79db5b19e8a3"
      },
      "source": [
        "element_to_pop = country_city_dict.pop('England')"
      ],
      "execution_count": 136,
      "outputs": [
        {
          "output_type": "error",
          "ename": "KeyError",
          "evalue": "ignored",
          "traceback": [
            "\u001b[0;31m---------------------------------------------------------------------------\u001b[0m",
            "\u001b[0;31mKeyError\u001b[0m                                  Traceback (most recent call last)",
            "\u001b[0;32m<ipython-input-136-f98023b73e7b>\u001b[0m in \u001b[0;36m<module>\u001b[0;34m()\u001b[0m\n\u001b[0;32m----> 1\u001b[0;31m \u001b[0melement_to_pop\u001b[0m \u001b[0;34m=\u001b[0m \u001b[0mcountry_city_dict\u001b[0m\u001b[0;34m.\u001b[0m\u001b[0mpop\u001b[0m\u001b[0;34m(\u001b[0m\u001b[0;34m'England'\u001b[0m\u001b[0;34m)\u001b[0m\u001b[0;34m\u001b[0m\u001b[0;34m\u001b[0m\u001b[0m\n\u001b[0m",
            "\u001b[0;31mKeyError\u001b[0m: 'England'"
          ]
        }
      ]
    },
    {
      "cell_type": "code",
      "metadata": {
        "id": "9qxKp-iBx2zn",
        "colab": {
          "base_uri": "https://localhost:8080/",
          "height": 165
        },
        "outputId": "97beef69-cc5b-4e18-999c-d0926ecd48ef"
      },
      "source": [
        "element_to_pop"
      ],
      "execution_count": 137,
      "outputs": [
        {
          "output_type": "error",
          "ename": "NameError",
          "evalue": "ignored",
          "traceback": [
            "\u001b[0;31m---------------------------------------------------------------------------\u001b[0m",
            "\u001b[0;31mNameError\u001b[0m                                 Traceback (most recent call last)",
            "\u001b[0;32m<ipython-input-137-7389af898c65>\u001b[0m in \u001b[0;36m<module>\u001b[0;34m()\u001b[0m\n\u001b[0;32m----> 1\u001b[0;31m \u001b[0melement_to_pop\u001b[0m\u001b[0;34m\u001b[0m\u001b[0;34m\u001b[0m\u001b[0m\n\u001b[0m",
            "\u001b[0;31mNameError\u001b[0m: name 'element_to_pop' is not defined"
          ]
        }
      ]
    },
    {
      "cell_type": "code",
      "metadata": {
        "id": "_1kPkAHwx2zo",
        "colab": {
          "base_uri": "https://localhost:8080/"
        },
        "outputId": "d953380c-d837-4bb8-999a-48f907e735ef"
      },
      "source": [
        "country_city_dict"
      ],
      "execution_count": 138,
      "outputs": [
        {
          "output_type": "execute_result",
          "data": {
            "text/plain": [
              "{'Australia': 'Canberra',\n",
              " 'India': 'New Delhi',\n",
              " 'United States': 'Washington DC'}"
            ]
          },
          "metadata": {},
          "execution_count": 138
        }
      ]
    },
    {
      "cell_type": "markdown",
      "metadata": {
        "id": "M2AfPxHSx2zp"
      },
      "source": [
        "### We can use the <code>zip()</code> and <code>dict()</code> methods to create a dictionary object from two lists"
      ]
    },
    {
      "cell_type": "code",
      "metadata": {
        "id": "2x3V4Ew2x2zp"
      },
      "source": [
        "name = [\"Manjeet\", \"Nikhil\", \"Shambhavi\"]\n",
        "marks = [40, 50, 60]"
      ],
      "execution_count": 139,
      "outputs": []
    },
    {
      "cell_type": "code",
      "metadata": {
        "id": "ARSqMR2Yx2zq"
      },
      "source": [
        "mapped = zip(name, marks)"
      ],
      "execution_count": 140,
      "outputs": []
    },
    {
      "cell_type": "code",
      "metadata": {
        "id": "j_qa801mx2zs",
        "outputId": "7908dd69-f7b9-4493-b9b5-7916e67a31f0",
        "colab": {
          "base_uri": "https://localhost:8080/"
        }
      },
      "source": [
        "mapped"
      ],
      "execution_count": 141,
      "outputs": [
        {
          "output_type": "execute_result",
          "data": {
            "text/plain": [
              "<zip at 0x7efc25eeb460>"
            ]
          },
          "metadata": {},
          "execution_count": 141
        }
      ]
    },
    {
      "cell_type": "code",
      "metadata": {
        "id": "KOegPhIOx2zu",
        "outputId": "96418b8e-cbd9-41bc-d9b0-19dc6fb9c092",
        "colab": {
          "base_uri": "https://localhost:8080/"
        }
      },
      "source": [
        "print(dict(mapped))"
      ],
      "execution_count": 142,
      "outputs": [
        {
          "output_type": "stream",
          "name": "stdout",
          "text": [
            "{'Manjeet': 40, 'Nikhil': 50, 'Shambhavi': 60}\n"
          ]
        }
      ]
    },
    {
      "cell_type": "code",
      "metadata": {
        "id": "vVYMZn_Cx2zv"
      },
      "source": [
        "name = [\"Manjeet\", \"Nikhil\", \"Shambhavi\"]\n",
        "marks = [40, 50, 60,80]"
      ],
      "execution_count": 146,
      "outputs": []
    },
    {
      "cell_type": "code",
      "metadata": {
        "id": "cJpurERkx2zw"
      },
      "source": [
        "mapped = zip(name, marks)"
      ],
      "execution_count": 147,
      "outputs": []
    },
    {
      "cell_type": "code",
      "source": [
        "print(dict(mapped))"
      ],
      "metadata": {
        "colab": {
          "base_uri": "https://localhost:8080/"
        },
        "id": "94WHT6BZoits",
        "outputId": "24d0fd14-a68a-4b19-b6f3-bdd94845017b"
      },
      "execution_count": 148,
      "outputs": [
        {
          "output_type": "stream",
          "name": "stdout",
          "text": [
            "{'Manjeet': 40, 'Nikhil': 50, 'Shambhavi': 60}\n"
          ]
        }
      ]
    },
    {
      "cell_type": "code",
      "source": [
        ""
      ],
      "metadata": {
        "id": "n7Ih_GcMomgg"
      },
      "execution_count": null,
      "outputs": []
    }
  ]
}