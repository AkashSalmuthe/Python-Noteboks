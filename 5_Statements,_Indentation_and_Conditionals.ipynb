{
  "cells": [
    {
      "cell_type": "markdown",
      "metadata": {
        "id": "view-in-github",
        "colab_type": "text"
      },
      "source": [
        "<a href=\"https://colab.research.google.com/github/AkashSalmuthe/Python-Noteboks/blob/main/5_Statements%2C_Indentation_and_Conditionals.ipynb\" target=\"_parent\"><img src=\"https://colab.research.google.com/assets/colab-badge.svg\" alt=\"Open In Colab\"/></a>"
      ]
    },
    {
      "cell_type": "markdown",
      "metadata": {
        "id": "uCEngv6FHnnb"
      },
      "source": [
        "# <u>Understanding the difference between Statements and Expressions</u>"
      ]
    },
    {
      "cell_type": "markdown",
      "metadata": {
        "id": "6KySHsyNHnne"
      },
      "source": [
        "* A Statement is an instruction that the Python interpreter can execute. We have only seen the assignment statement so far. Some other kinds of statements that we’ll see shortly are while statements, for statements, if statements, and import statements. (There are other kinds too!)\n",
        "\n",
        "\n",
        "* An Expression is a combination of values, variables, operators, and calls to functions. Expressions need to be evaluated. If you ask Python to print an expression, the interpreter evaluates the expression and displays the result."
      ]
    },
    {
      "cell_type": "code",
      "execution_count": null,
      "metadata": {
        "id": "WT3EsLAIYUPx"
      },
      "outputs": [],
      "source": [
        "# Assignment statement\n",
        "x = 3"
      ]
    },
    {
      "cell_type": "code",
      "execution_count": null,
      "metadata": {
        "colab": {
          "base_uri": "https://localhost:8080/"
        },
        "id": "ZN-GxWfKHnng",
        "outputId": "9fbf779d-89c5-4f07-9ef5-4f2831c301c8"
      },
      "outputs": [
        {
          "output_type": "stream",
          "name": "stdout",
          "text": [
            "2\n",
            "21\n"
          ]
        }
      ],
      "source": [
        "print(1 + 1)\n",
        "print(len(\"Hello Team AlmaBetter\"))"
      ]
    },
    {
      "cell_type": "markdown",
      "metadata": {
        "id": "sHO6fat6Hnns"
      },
      "source": [
        "* In this example <code>len()</code> is a built-in Python function that returns the number of characters in a string. We’ve previously seen the <code>print()</code> and the <code>type()</code> functions, so this is an example of another function!\n",
        "\n",
        "\n",
        "* The evaluation of an expression produces a value, which is why expressions can appear on the right hand side of assignment statements. A value all by itself is a simple expression, and so is a variable. Evaluating a variable gives the value that the variable refers to."
      ]
    },
    {
      "cell_type": "code",
      "execution_count": null,
      "metadata": {
        "id": "0QCxgyEbHnnu"
      },
      "outputs": [],
      "source": [
        "y = 3.14"
      ]
    },
    {
      "cell_type": "code",
      "execution_count": null,
      "metadata": {
        "colab": {
          "base_uri": "https://localhost:8080/"
        },
        "id": "yHx-90qB7llg",
        "outputId": "846b6b3b-aca0-4515-f936-9f5ca09ea402"
      },
      "outputs": [
        {
          "output_type": "execute_result",
          "data": {
            "text/plain": [
              "3.14"
            ]
          },
          "metadata": {},
          "execution_count": 4
        }
      ],
      "source": [
        "y"
      ]
    },
    {
      "cell_type": "code",
      "execution_count": null,
      "metadata": {
        "id": "XQayBiLeZ1eg"
      },
      "outputs": [],
      "source": [
        "a = 'Mighty'\n",
        "# b = a == True"
      ]
    },
    {
      "cell_type": "code",
      "execution_count": null,
      "metadata": {
        "colab": {
          "base_uri": "https://localhost:8080/"
        },
        "id": "n1rgy43RZ70I",
        "outputId": "976e3ee7-d554-4491-d4b2-73a8480e76f2"
      },
      "outputs": [
        {
          "output_type": "execute_result",
          "data": {
            "text/plain": [
              "False"
            ]
          },
          "metadata": {},
          "execution_count": 6
        }
      ],
      "source": [
        "a == True"
      ]
    },
    {
      "cell_type": "markdown",
      "metadata": {
        "id": "VC98TpZyHnn0"
      },
      "source": [
        "* Note that when we enter the assignment statement, <code>y = 3.14 </code>, only the prompt is returned. There is no value. This is due to the fact that statements, such as the assignment statement, do not return a value. They are simply executed."
      ]
    },
    {
      "cell_type": "code",
      "execution_count": null,
      "metadata": {
        "id": "k8mZhU9naj6b"
      },
      "outputs": [],
      "source": [
        "# Import statement\n",
        "import pandas as pd"
      ]
    },
    {
      "cell_type": "code",
      "execution_count": null,
      "metadata": {
        "colab": {
          "base_uri": "https://localhost:8080/"
        },
        "id": "QvpFXqHvHnn1",
        "outputId": "5e882da1-1cc5-4de4-a545-8b4cc0c5e809"
      },
      "outputs": [
        {
          "output_type": "stream",
          "name": "stdout",
          "text": [
            "3.14\n"
          ]
        }
      ],
      "source": [
        "print(y)"
      ]
    },
    {
      "cell_type": "code",
      "execution_count": null,
      "metadata": {
        "colab": {
          "base_uri": "https://localhost:8080/"
        },
        "id": "UOlQvndGHnn6",
        "outputId": "71fd9211-a3d8-4d6f-8ec7-9218536bff74"
      },
      "outputs": [
        {
          "output_type": "execute_result",
          "data": {
            "text/plain": [
              "3.14"
            ]
          },
          "metadata": {},
          "execution_count": 9
        }
      ],
      "source": [
        "y"
      ]
    },
    {
      "cell_type": "markdown",
      "metadata": {
        "id": "w945dRqiHnn9"
      },
      "source": [
        "* On the other hand, the result of executing the assignment statement is the creation of a reference from a variable, y, to a value, 3.14. When we execute the <code>print()</code> function working on y, we see the value that y is referring to. In fact, evaluating y by itself results in the same response."
      ]
    },
    {
      "cell_type": "markdown",
      "metadata": {
        "id": "mvOHovwVHnn9"
      },
      "source": [
        "* Instructions that a Python interpreter can execute are called statements. For example, <code>a = 1</code> is an assignment statement. <code>if</code> statement, <code>for</code> statement, <code>while</code> statement, etc. are other kinds of statements which will be discussed later."
      ]
    },
    {
      "cell_type": "markdown",
      "metadata": {
        "id": "LfTpVhrcHnn-"
      },
      "source": [
        "### Multi-line Statements"
      ]
    },
    {
      "cell_type": "markdown",
      "metadata": {
        "id": "8WI-7DFHHnn-"
      },
      "source": [
        "* In Python, the end of a statement is marked by a newline character. But we can make a statement extend over multiple lines with the line continuation character (\\)."
      ]
    },
    {
      "cell_type": "code",
      "execution_count": null,
      "metadata": {
        "id": "JgAslWA9b2Md"
      },
      "outputs": [],
      "source": [
        "x = 1\n",
        "y = 2\n",
        "+ 5\n",
        "z = 3"
      ]
    },
    {
      "cell_type": "code",
      "execution_count": null,
      "metadata": {
        "colab": {
          "base_uri": "https://localhost:8080/"
        },
        "id": "_gWSgBDrb4yj",
        "outputId": "6e1e6c86-926c-40a1-9d54-089fb4602b6d"
      },
      "outputs": [
        {
          "output_type": "execute_result",
          "data": {
            "text/plain": [
              "2"
            ]
          },
          "metadata": {},
          "execution_count": 11
        }
      ],
      "source": [
        "y"
      ]
    },
    {
      "cell_type": "code",
      "execution_count": null,
      "metadata": {
        "colab": {
          "base_uri": "https://localhost:8080/",
          "height": 130
        },
        "id": "P3XeEpxgHnn_",
        "outputId": "ed6424ab-e62e-4574-d2b0-2585bbca7ee4"
      },
      "outputs": [
        {
          "output_type": "error",
          "ename": "SyntaxError",
          "evalue": "ignored",
          "traceback": [
            "\u001b[0;36m  File \u001b[0;32m\"<ipython-input-12-7cb61471df63>\"\u001b[0;36m, line \u001b[0;32m1\u001b[0m\n\u001b[0;31m    a = 1 + 2 + 3 + 4 +\u001b[0m\n\u001b[0m                        ^\u001b[0m\n\u001b[0;31mSyntaxError\u001b[0m\u001b[0;31m:\u001b[0m invalid syntax\n"
          ]
        }
      ],
      "source": [
        "a = 1 + 2 + 3 + 4 + \n",
        "5 + 6+ 7+ 8+ \n",
        "9 + 10"
      ]
    },
    {
      "cell_type": "code",
      "execution_count": null,
      "metadata": {
        "colab": {
          "base_uri": "https://localhost:8080/",
          "height": 35
        },
        "id": "uKiA4sBFHnoC",
        "outputId": "5e7766db-f2df-4022-8b3b-43969ac2a84f"
      },
      "outputs": [
        {
          "output_type": "execute_result",
          "data": {
            "application/vnd.google.colaboratory.intrinsic+json": {
              "type": "string"
            },
            "text/plain": [
              "'Mighty'"
            ]
          },
          "metadata": {},
          "execution_count": 13
        }
      ],
      "source": [
        "a"
      ]
    },
    {
      "cell_type": "markdown",
      "metadata": {
        "id": "ZT6MwgGsHnoF"
      },
      "source": [
        "* This is an explicit line continuation. In Python, line continuation is implied inside parentheses <code>( )</code>, brackets <code>[ ]</code>, and braces <code>{ }</code>. For instance, we can implement the above multi-line statement as:"
      ]
    },
    {
      "cell_type": "code",
      "execution_count": null,
      "metadata": {
        "id": "V6l3evBTdpGg"
      },
      "outputs": [],
      "source": [
        "my_list = [1]\n",
        "my_tuple = (1,)"
      ]
    },
    {
      "cell_type": "code",
      "execution_count": null,
      "metadata": {
        "colab": {
          "base_uri": "https://localhost:8080/"
        },
        "id": "d5xpwMgAdtLo",
        "outputId": "642f966e-db17-4fe7-ffd2-33bd233973ba"
      },
      "outputs": [
        {
          "output_type": "execute_result",
          "data": {
            "text/plain": [
              "([1], (1,))"
            ]
          },
          "metadata": {},
          "execution_count": 15
        }
      ],
      "source": [
        "my_list, my_tuple"
      ]
    },
    {
      "cell_type": "code",
      "execution_count": null,
      "metadata": {
        "colab": {
          "base_uri": "https://localhost:8080/",
          "height": 130
        },
        "id": "pbQlDAYyHnoG",
        "outputId": "91525f18-4cde-4755-d6c5-8f99743db9e3"
      },
      "outputs": [
        {
          "output_type": "error",
          "ename": "SyntaxError",
          "evalue": "ignored",
          "traceback": [
            "\u001b[0;36m  File \u001b[0;32m\"<ipython-input-16-2a6bad594ea2>\"\u001b[0;36m, line \u001b[0;32m4\u001b[0m\n\u001b[0;31m    8 + 9 + 10\u001b[0m\n\u001b[0m              ^\u001b[0m\n\u001b[0;31mSyntaxError\u001b[0m\u001b[0;31m:\u001b[0m unexpected EOF while parsing\n"
          ]
        }
      ],
      "source": [
        "a = (1 + 2 + 3 + 4 +\n",
        "     \n",
        "     5 + 6 + 7 + \n",
        "     8 + 9 + 10"
      ]
    },
    {
      "cell_type": "code",
      "execution_count": null,
      "metadata": {
        "colab": {
          "base_uri": "https://localhost:8080/",
          "height": 35
        },
        "id": "D_OaHIHz8xJZ",
        "outputId": "179bb21a-2de5-4987-8c82-e70486ebc7b2"
      },
      "outputs": [
        {
          "output_type": "execute_result",
          "data": {
            "application/vnd.google.colaboratory.intrinsic+json": {
              "type": "string"
            },
            "text/plain": [
              "'Mighty'"
            ]
          },
          "metadata": {},
          "execution_count": 17
        }
      ],
      "source": [
        "a"
      ]
    },
    {
      "cell_type": "code",
      "execution_count": null,
      "metadata": {
        "colab": {
          "base_uri": "https://localhost:8080/"
        },
        "id": "sF5Ncyoldjsq",
        "outputId": "66a3f17b-a921-4978-8787-7b507b3f37ea"
      },
      "outputs": [
        {
          "output_type": "execute_result",
          "data": {
            "text/plain": [
              "str"
            ]
          },
          "metadata": {},
          "execution_count": 18
        }
      ],
      "source": [
        "type(a)"
      ]
    },
    {
      "cell_type": "markdown",
      "metadata": {
        "id": "PNsXf6IfHnoI"
      },
      "source": [
        "* Here, the surrounding parentheses <code>( )</code> do the line continuation implicitly. Same is the case with <code>[ ]</code> and <code>{ }</code>. For example:"
      ]
    },
    {
      "cell_type": "code",
      "execution_count": null,
      "metadata": {
        "id": "UXPQjcvL9Mwq"
      },
      "outputs": [],
      "source": [
        "a = 1\n",
        "b = 2"
      ]
    },
    {
      "cell_type": "code",
      "execution_count": null,
      "metadata": {
        "id": "V4vEIYUde5Qv"
      },
      "outputs": [],
      "source": [
        "colors = 'Set theory is the mathematical theory of well-determined collections, called sets, of objects that are called members, or elements, of the set. Pure set theory deals exclusively with sets, so the only sets under consideration are those whose members are also sets. The theory of the hereditarily-finite sets, namely those finite sets whose elements are also finite sets, the elements of which are also finite, and so on, is formally equivalent to arithmetic. So, the essence of set theory is the study of infinite sets, and therefore it can be defined as the mathematical theory of the actual—as opposed to potential—infinite.'"
      ]
    },
    {
      "cell_type": "code",
      "execution_count": null,
      "metadata": {
        "id": "acavVLtgHnoI"
      },
      "outputs": [],
      "source": [
        "colors = 'Set theory is the mathematical theory of well-determined collections, called sets, \\\n",
        "of objects that are called members, or elements, of the set. Pure set theory deals exclusively \\\n",
        "with sets, so the only sets under consideration are those whose members are also sets.\\\n",
        "The theory of the hereditarily-finite sets, namely those finite sets whose elements are also finite sets,\\\n",
        " the elements of which are also finite, and so on, is formally equivalent to arithmetic. \\\n",
        " So, the essence of set theory is the study of infinite sets, and \\\n",
        " therefore it can be defined as the mathematical theory of the actual—as opposed to potential—infinite.'"
      ]
    },
    {
      "cell_type": "code",
      "execution_count": null,
      "metadata": {
        "colab": {
          "base_uri": "https://localhost:8080/",
          "height": 87
        },
        "id": "b84McgJT9zhw",
        "outputId": "349abb6a-0eb1-47ef-f17d-1bc2fb317564"
      },
      "outputs": [
        {
          "output_type": "execute_result",
          "data": {
            "application/vnd.google.colaboratory.intrinsic+json": {
              "type": "string"
            },
            "text/plain": [
              "'Set theory is the mathematical theory of well-determined collections, called sets, of objects that are called members, or elements, of the set. Pure set theory deals exclusively with sets, so the only sets under consideration are those whose members are also sets.The theory of the hereditarily-finite sets, namely those finite sets whose elements are also finite sets, the elements of which are also finite, and so on, is formally equivalent to arithmetic.  So, the essence of set theory is the study of infinite sets, and  therefore it can be defined as the mathematical theory of the actual—as opposed to potential—infinite.'"
            ]
          },
          "metadata": {},
          "execution_count": 22
        }
      ],
      "source": [
        "colors"
      ]
    },
    {
      "cell_type": "markdown",
      "metadata": {
        "id": "B03yfZ97HnoK"
      },
      "source": [
        "* We can also put multiple statements in a single line using semicolons, as follows:"
      ]
    },
    {
      "cell_type": "code",
      "execution_count": null,
      "metadata": {
        "id": "OQDamWX8fYK4"
      },
      "outputs": [],
      "source": [
        "a = 1 \n",
        "b = 2 \n",
        "c = 3 "
      ]
    },
    {
      "cell_type": "code",
      "execution_count": null,
      "metadata": {
        "id": "Ai_uK72yHnoL"
      },
      "outputs": [],
      "source": [
        "a = 1 ; b = 2 ; c = 3"
      ]
    },
    {
      "cell_type": "code",
      "execution_count": null,
      "metadata": {
        "colab": {
          "base_uri": "https://localhost:8080/"
        },
        "id": "1UpKwsua-HIk",
        "outputId": "149d45f5-b7dd-44fd-9579-fb4b021771e2"
      },
      "outputs": [
        {
          "output_type": "execute_result",
          "data": {
            "text/plain": [
              "3"
            ]
          },
          "metadata": {},
          "execution_count": 25
        }
      ],
      "source": [
        "c"
      ]
    },
    {
      "cell_type": "code",
      "execution_count": null,
      "metadata": {
        "id": "P_A4qzdCgdFO"
      },
      "outputs": [],
      "source": [
        "a = 1\n",
        "b = 2\n",
        "c = 3"
      ]
    },
    {
      "cell_type": "code",
      "execution_count": null,
      "metadata": {
        "id": "Qi411Crhoy_X"
      },
      "outputs": [],
      "source": [
        "a, b, c = [1, 'a', True], (45, 67), {'Name' : 'Vikash' , 'Age' : 27}"
      ]
    },
    {
      "cell_type": "code",
      "execution_count": null,
      "metadata": {
        "colab": {
          "base_uri": "https://localhost:8080/"
        },
        "id": "_MLqT90co1uM",
        "outputId": "537a4c54-39de-4729-fa2e-cb887f45e66a"
      },
      "outputs": [
        {
          "output_type": "execute_result",
          "data": {
            "text/plain": [
              "[1, 'a', True]"
            ]
          },
          "metadata": {},
          "execution_count": 28
        }
      ],
      "source": [
        "a"
      ]
    },
    {
      "cell_type": "code",
      "execution_count": null,
      "metadata": {
        "colab": {
          "base_uri": "https://localhost:8080/"
        },
        "id": "wFWj0Mo1o6e0",
        "outputId": "f9e89fe2-f851-47cf-b7ed-1e6df5192f10"
      },
      "outputs": [
        {
          "output_type": "execute_result",
          "data": {
            "text/plain": [
              "(45, 67)"
            ]
          },
          "metadata": {},
          "execution_count": 29
        }
      ],
      "source": [
        "b"
      ]
    },
    {
      "cell_type": "code",
      "execution_count": null,
      "metadata": {
        "colab": {
          "base_uri": "https://localhost:8080/"
        },
        "id": "cX-CIJFwo8ce",
        "outputId": "4f705a8a-71c3-40a9-b0a9-09b29b413a78"
      },
      "outputs": [
        {
          "output_type": "execute_result",
          "data": {
            "text/plain": [
              "{'Age': 27, 'Name': 'Vikash'}"
            ]
          },
          "metadata": {},
          "execution_count": 30
        }
      ],
      "source": [
        "c"
      ]
    },
    {
      "cell_type": "code",
      "execution_count": null,
      "metadata": {
        "id": "yOwjB-YYhQfk"
      },
      "outputs": [],
      "source": [
        "a, b = b, a"
      ]
    },
    {
      "cell_type": "code",
      "execution_count": null,
      "metadata": {
        "colab": {
          "base_uri": "https://localhost:8080/"
        },
        "id": "5F9bYYGDhS5J",
        "outputId": "f6151aab-bceb-43ed-bf63-758af3fca0f3"
      },
      "outputs": [
        {
          "output_type": "execute_result",
          "data": {
            "text/plain": [
              "(45, 67)"
            ]
          },
          "metadata": {},
          "execution_count": 32
        }
      ],
      "source": [
        "a"
      ]
    },
    {
      "cell_type": "code",
      "execution_count": null,
      "metadata": {
        "colab": {
          "base_uri": "https://localhost:8080/"
        },
        "id": "5vod6tsShUvH",
        "outputId": "a912a194-1f93-45b2-8538-d64a4ca0c135"
      },
      "outputs": [
        {
          "output_type": "execute_result",
          "data": {
            "text/plain": [
              "[1, 'a', True]"
            ]
          },
          "metadata": {},
          "execution_count": 33
        }
      ],
      "source": [
        "b"
      ]
    },
    {
      "cell_type": "markdown",
      "metadata": {
        "id": "khxoqawIHnoN"
      },
      "source": [
        "# <u>Python Comments</u>"
      ]
    },
    {
      "cell_type": "markdown",
      "metadata": {
        "id": "7he_1JNlHnoN"
      },
      "source": [
        "* Comments are very important while writing a program. They describe what is going on inside a program, so that a person looking at the source code does not have a hard time figuring it out.\n",
        "\n",
        "\n",
        "* You might forget the key details of the program you just wrote in a month's time. So taking the time to explain these concepts in the form of comments is always fruitful.\n",
        "\n",
        "\n",
        "* In Python, we use the hash (#) symbol to start writing a comment.\n",
        "\n",
        "\n",
        "* It extends up to the newline character. Comments are for programmers to better understand a program. Python Interpreter ignores comments."
      ]
    },
    {
      "cell_type": "code",
      "execution_count": null,
      "metadata": {
        "colab": {
          "base_uri": "https://localhost:8080/"
        },
        "id": "r5BzV1ITHnoN",
        "outputId": "7783e90a-92fc-4f9f-a034-d533ea5cd81f"
      },
      "outputs": [
        {
          "output_type": "stream",
          "name": "stdout",
          "text": [
            "Hello\n"
          ]
        }
      ],
      "source": [
        "# This is a comment \n",
        "# print('Hello')\n",
        "print('Hello')"
      ]
    },
    {
      "cell_type": "markdown",
      "metadata": {
        "id": "rt8jeajiHnoQ"
      },
      "source": [
        "* We can have comments that extend up to multiple lines. One way is to use the hash(#) symbol at the beginning of each line. For example:"
      ]
    },
    {
      "cell_type": "code",
      "execution_count": null,
      "metadata": {
        "id": "ke5LH88CHnoQ"
      },
      "outputs": [],
      "source": [
        "# This is a long comment\n",
        "# and it extends\n",
        "# to multiple lines"
      ]
    },
    {
      "cell_type": "markdown",
      "metadata": {
        "id": "dM5xcR6uHnoS"
      },
      "source": [
        "* Another way of doing this is to use triple quotes, either ''' or \"\"\".\n",
        "\n",
        "\n",
        "* These triple quotes are generally used for multi-line strings. But they can be used as a multi-line comment as well. Unless they are not docstrings, they do not generate any extra code."
      ]
    },
    {
      "cell_type": "code",
      "execution_count": null,
      "metadata": {
        "colab": {
          "base_uri": "https://localhost:8080/"
        },
        "id": "o1Aw0HL7HnoT",
        "outputId": "bfc8049d-dfbb-42ed-c8e9-c07acebb8190"
      },
      "outputs": [
        {
          "output_type": "stream",
          "name": "stdout",
          "text": [
            "3\n"
          ]
        }
      ],
      "source": [
        "'''This is also a\n",
        "perfect example of\n",
        "ahjcdjh\n",
        "sdjbdkjas\n",
        "mnbscjsab\n",
        "bkjabfa\n",
        "multi-line comments'''\n",
        "\n",
        "a = 3\n",
        "print(a)"
      ]
    },
    {
      "cell_type": "markdown",
      "metadata": {
        "id": "XM2CjOCyHnoV"
      },
      "source": [
        "# <u>Indentation in Python </u>\n",
        "\n",
        "It is important to keep a good understanding of how indentation works in Python to maintain the structure and order of your code. We will touch on this topic again when we start building out functions!"
      ]
    },
    {
      "cell_type": "markdown",
      "metadata": {
        "id": "uhAgTP0tHnoW"
      },
      "source": [
        "* Let's create a simple statement that says: \"If a is greater than b, assign 2 to a and 4 to b\"\n",
        "\n",
        "\n",
        "* Take a look at how to write a simple if statement                 "
      ]
    },
    {
      "cell_type": "code",
      "execution_count": null,
      "metadata": {
        "id": "cubiTvRkHnoW"
      },
      "outputs": [],
      "source": [
        " a=2\n",
        " b=1\n",
        "\n",
        "# if b > a:\n",
        "#   a = 5\n",
        "#   b = 5"
      ]
    },
    {
      "cell_type": "code",
      "execution_count": null,
      "metadata": {
        "colab": {
          "base_uri": "https://localhost:8080/"
        },
        "id": "x3pl15PBHnoZ",
        "outputId": "026da7f4-d92e-4bfb-95c1-fe9b1b4f33f6"
      },
      "outputs": [
        {
          "output_type": "execute_result",
          "data": {
            "text/plain": [
              "2"
            ]
          },
          "metadata": {},
          "execution_count": 38
        }
      ],
      "source": [
        " a"
      ]
    },
    {
      "cell_type": "code",
      "execution_count": null,
      "metadata": {
        "colab": {
          "base_uri": "https://localhost:8080/"
        },
        "id": "fPEVAaRLHnoc",
        "outputId": "9778bd08-874a-4cc6-d396-dec669c3fced"
      },
      "outputs": [
        {
          "output_type": "execute_result",
          "data": {
            "text/plain": [
              "1"
            ]
          },
          "metadata": {},
          "execution_count": 39
        }
      ],
      "source": [
        "b"
      ]
    },
    {
      "cell_type": "code",
      "execution_count": null,
      "metadata": {
        "id": "5dv6qNOXlL6X"
      },
      "outputs": [],
      "source": [
        "a, b = 1, 2"
      ]
    },
    {
      "cell_type": "code",
      "execution_count": null,
      "metadata": {
        "colab": {
          "base_uri": "https://localhost:8080/",
          "height": 130
        },
        "id": "RKk2I-kKHnoe",
        "outputId": "28881fa6-9aa4-48a2-9ed5-7d15051b6818"
      },
      "outputs": [
        {
          "output_type": "error",
          "ename": "SyntaxError",
          "evalue": "ignored",
          "traceback": [
            "\u001b[0;36m  File \u001b[0;32m\"<ipython-input-41-4380b8cf6bb0>\"\u001b[0;36m, line \u001b[0;32m2\u001b[0m\n\u001b[0;31m    \u001b[0m\n\u001b[0m    ^\u001b[0m\n\u001b[0;31mSyntaxError\u001b[0m\u001b[0;31m:\u001b[0m unexpected EOF while parsing\n"
          ]
        }
      ],
      "source": [
        "if a < b :\n",
        "  "
      ]
    },
    {
      "cell_type": "markdown",
      "metadata": {
        "id": "7zf6T5CSHnog"
      },
      "source": [
        "* You'll notice that Python is less cluttered and much more readable than other languages like C or Java. How does Python manage this?\n",
        "\n",
        "\n",
        "* The statement is ended with a colon, and whitespace(tab) is used (indentation) to describe what takes place in case of the statement.\n",
        "\n",
        "\n",
        "* Another major difference is the lack of semicolons in Python. \n",
        "\n",
        "\n",
        "* Semicolons are used to denote statement endings in many other languages, but in Python, **the end of a line is the same as the end of a statement.**\n",
        "\n",
        "\n",
        "* Lastly, to end this brief overview of differences, let's take a closer look at indentation syntax in Python vs other languages:"
      ]
    },
    {
      "cell_type": "markdown",
      "metadata": {
        "id": "1tDQg0B1Hnog"
      },
      "source": [
        "# <u> Conditional Statements </u>\n",
        "\n",
        "* <code>if</code> Statements in Python allows us to tell the computer to perform alternative actions based on a certain set of results.\n",
        "\n",
        "\n",
        "* Verbally, we can imagine we are telling the computer:\"Hey if this case happens, perform some action\"\n",
        "\n",
        "\n",
        "* We can then expand the idea further with <code>elif</code> and <code>else</code> statements, which allow us to tell the computer: \"Hey if this case happens, perform some action. Else, if another case happens, perform some other action. Else, if *none* of the above cases happened, perform this action.\"\n",
        "\n",
        "\n",
        "* Let's go ahead and look at the syntax format for <code>if</code> statements to get a better idea of this:\n",
        "\n",
        "    if case1:\n",
        "        perform action1\n",
        "    elif case2:\n",
        "        perform action2\n",
        "    else: \n",
        "        perform action3"
      ]
    },
    {
      "cell_type": "code",
      "execution_count": null,
      "metadata": {
        "colab": {
          "base_uri": "https://localhost:8080/",
          "height": 130
        },
        "id": "9HTiofEDoOR6",
        "outputId": "d71405da-cd68-4f13-eded-1cdc5280122b"
      },
      "outputs": [
        {
          "output_type": "error",
          "ename": "SyntaxError",
          "evalue": "ignored",
          "traceback": [
            "\u001b[0;36m  File \u001b[0;32m\"<ipython-input-42-77b95ec8b128>\"\u001b[0;36m, line \u001b[0;32m3\u001b[0m\n\u001b[0;31m    elif case 5 :\u001b[0m\n\u001b[0m       ^\u001b[0m\n\u001b[0;31mSyntaxError\u001b[0m\u001b[0;31m:\u001b[0m invalid syntax\n"
          ]
        }
      ],
      "source": [
        "if case1 :\n",
        "  # do some action \n",
        "  elif case 5 :\n",
        "    # another action\n",
        "elif case2 :\n",
        "  # do some another action\n",
        "else:\n",
        "  # do some yet another action"
      ]
    },
    {
      "cell_type": "code",
      "execution_count": null,
      "metadata": {
        "id": "bFe8-H-oHnoh"
      },
      "outputs": [],
      "source": [
        "x=20   # Statement 1 - Assignment statement\n",
        "\n",
        "if x == 30 :\n",
        "  print('x is greater than 10!')\n",
        "  print(f'x is {x}')"
      ]
    },
    {
      "cell_type": "markdown",
      "metadata": {
        "id": "RI18dXE4Hnok"
      },
      "source": [
        "* <code>if</code> statement evaluates the True condition"
      ]
    },
    {
      "cell_type": "code",
      "execution_count": null,
      "metadata": {
        "colab": {
          "base_uri": "https://localhost:8080/"
        },
        "id": "0c6qcOShq1AI",
        "outputId": "84a44d9f-2e88-4a04-de21-aeae77c30255"
      },
      "outputs": [
        {
          "output_type": "execute_result",
          "data": {
            "text/plain": [
              "True"
            ]
          },
          "metadata": {},
          "execution_count": 44
        }
      ],
      "source": [
        "x == 20"
      ]
    },
    {
      "cell_type": "code",
      "execution_count": null,
      "metadata": {
        "colab": {
          "base_uri": "https://localhost:8080/"
        },
        "id": "n2L2kPAkHnol",
        "outputId": "111488b8-5ba0-4045-9bb4-95ee6734c4a2"
      },
      "outputs": [
        {
          "output_type": "stream",
          "name": "stdout",
          "text": [
            "It was true!\n"
          ]
        }
      ],
      "source": [
        "if True:\n",
        "  print('It was true!')"
      ]
    },
    {
      "cell_type": "code",
      "execution_count": null,
      "metadata": {
        "id": "qvVhD8tYHnon"
      },
      "outputs": [],
      "source": [
        "if False:\n",
        "  print('It was true!')"
      ]
    },
    {
      "cell_type": "markdown",
      "metadata": {
        "id": "ofrPBG8ZHnop"
      },
      "source": [
        "Let's add in some else logic:"
      ]
    },
    {
      "cell_type": "code",
      "execution_count": null,
      "metadata": {
        "colab": {
          "base_uri": "https://localhost:8080/"
        },
        "id": "EF7AiLkrHnoq",
        "outputId": "7a87495a-077a-452b-9102-1108f78e7017"
      },
      "outputs": [
        {
          "output_type": "stream",
          "name": "stdout",
          "text": [
            "I will be printed in any case where x is not true\n"
          ]
        }
      ],
      "source": [
        "x = False\n",
        "y = True\n",
        "\n",
        "if x:\n",
        "  print('y was True!')\n",
        "else:\n",
        "  print('I will be printed in any case where x is not true')"
      ]
    },
    {
      "cell_type": "markdown",
      "metadata": {
        "id": "lEGoq9pjHnos"
      },
      "source": [
        "* Let's get a fuller picture of how far <code>if</code>, <code>elif</code>, and <code>else</code> can take us!\n",
        "\n",
        "\n",
        "* We write this out in a nested structure. Take note of how the <code>if</code>, <code>elif</code>, and <code>else</code> line up in the code. This can help you see what <code>if</code> is related to what <code>elif</code> or <code>else</code> statements."
      ]
    },
    {
      "cell_type": "code",
      "execution_count": null,
      "metadata": {
        "colab": {
          "base_uri": "https://localhost:8080/"
        },
        "id": "DbV35ChhHnot",
        "outputId": "dd632512-e42f-40e1-a97e-7a649d2d0fb6"
      },
      "outputs": [
        {
          "output_type": "stream",
          "name": "stdout",
          "text": [
            "Where are you?\n"
          ]
        }
      ],
      "source": [
        "city = 'Pune'\n",
        "\n",
        "if city == 'New Delhi':\n",
        "  print('Welcome to the Indian Capital')\n",
        "elif city == 'Mumbai':\n",
        "  print('Welcome to the Financial Capital of India!')\n",
        "else:\n",
        "  print('Where are you?')"
      ]
    },
    {
      "cell_type": "markdown",
      "metadata": {
        "id": "Crk-mLkYHnow"
      },
      "source": [
        "* Note how the nested <code>if</code> statements are each checked until a True boolean causes the nested code below it to run. You should also note that you can put in as many <code>elif</code> statements as you want before you close off with an <code>else</code>.\n",
        "\n",
        "\n",
        "* Let's create two more simple examples for the <code>if</code>, <code>elif</code>, and <code>else</code> statements:"
      ]
    },
    {
      "cell_type": "code",
      "execution_count": null,
      "metadata": {
        "colab": {
          "base_uri": "https://localhost:8080/"
        },
        "id": "gclDFcteHnow",
        "outputId": "d7d7d402-12be-44a0-9fb0-8d4405c13a10"
      },
      "outputs": [
        {
          "output_type": "stream",
          "name": "stdout",
          "text": [
            "Welcome, what's your name?\n"
          ]
        }
      ],
      "source": [
        "person = 'Johnny'\n",
        "\n",
        "if person == 'John':\n",
        "    print(f'Welcome {person}!')\n",
        "else:\n",
        "    print(\"Welcome, what's your name?\")"
      ]
    },
    {
      "cell_type": "code",
      "execution_count": null,
      "metadata": {
        "colab": {
          "base_uri": "https://localhost:8080/"
        },
        "id": "b3kcCb1oHnoz",
        "outputId": "955bd2e5-f71a-4c33-fd38-adfff6276370"
      },
      "outputs": [
        {
          "output_type": "stream",
          "name": "stdout",
          "text": [
            "Ah, that's a negative number\n"
          ]
        }
      ],
      "source": [
        "number1 = -2\n",
        "number2 = 9\n",
        "\n",
        "if number1 > 0:\n",
        "  if number2 < 10 :\n",
        "    print(number2 + number1)\n",
        "  else:\n",
        "    print(\"Should be greater than 10\")\n",
        "\n",
        "elif number1 < 0:\n",
        "    print(\"Ah, that's a negative number\")\n",
        "else:\n",
        "    print(\"The number is zero!\")"
      ]
    },
    {
      "cell_type": "markdown",
      "metadata": {
        "id": "2NN-koY-6af9"
      },
      "source": [
        "## <u>Truthy & Falsy</u>\n",
        "\n",
        "### A \"truthy\" value will satisfy the check performed by if or while statements. We use \"truthy\" and \"falsy\" to differentiate from the boolean values True and False."
      ]
    },
    {
      "cell_type": "markdown",
      "metadata": {
        "id": "iAhlDVWQ61kr"
      },
      "source": [
        "### All values are considered \"truthy\" except for the following, which are \"falsy\":\n",
        "\n",
        "* <code>None</code>\n",
        "* <code>False</code>\n",
        "* <code>0</code>\n",
        "* <code>0.0</code>\n",
        "* <code>[]</code> - an empty <code>list</code>\n",
        "* <code>{}</code> - an empty <code>dict</code>\n",
        "* <code>()</code> - an empty <code>tuple</code>\n",
        "* <code>''</code> - an empty <code>str</code>"
      ]
    },
    {
      "cell_type": "code",
      "execution_count": null,
      "metadata": {
        "colab": {
          "base_uri": "https://localhost:8080/"
        },
        "id": "TsUz73an6dQy",
        "outputId": "24d98b81-9613-46ea-fa04-f86d8132e790"
      },
      "outputs": [
        {
          "output_type": "stream",
          "name": "stdout",
          "text": [
            "I have nothing to say\n"
          ]
        }
      ],
      "source": [
        "# Consider the following statement\n",
        "\n",
        "if False:\n",
        "  print(\"What do you say?\")\n",
        "else:\n",
        "  print(\"I have nothing to say\")"
      ]
    },
    {
      "cell_type": "code",
      "execution_count": null,
      "metadata": {
        "colab": {
          "base_uri": "https://localhost:8080/"
        },
        "id": "3eaS1zDP7tN3",
        "outputId": "36b20c99-d85f-4988-e364-2b238f8588eb"
      },
      "outputs": [
        {
          "output_type": "stream",
          "name": "stdout",
          "text": [
            "Well I had a really bad day!\n"
          ]
        }
      ],
      "source": [
        "if [None]:\n",
        "  print(\"Well I had a really bad day!\")\n",
        "else:\n",
        "  print(\"Come on you aced your test.\")"
      ]
    },
    {
      "cell_type": "code",
      "execution_count": null,
      "metadata": {
        "colab": {
          "base_uri": "https://localhost:8080/"
        },
        "id": "2kWdK2bt758j",
        "outputId": "a608d1ef-c13b-4cc4-d7cd-8162b6d6d140"
      },
      "outputs": [
        {
          "output_type": "stream",
          "name": "stdout",
          "text": [
            "This is True\n"
          ]
        }
      ],
      "source": [
        "if {1:2,3:4}:\n",
        "  print(\"This is True\")\n",
        "else:\n",
        "  print(\"This is False\")"
      ]
    },
    {
      "cell_type": "code",
      "execution_count": null,
      "metadata": {
        "id": "cXFu9xHC-2V-"
      },
      "outputs": [],
      "source": [
        ""
      ]
    }
  ],
  "metadata": {
    "colab": {
      "collapsed_sections": [],
      "name": "5. Statements, Indentation and Conditionals.ipynb",
      "provenance": [],
      "include_colab_link": true
    },
    "kernelspec": {
      "display_name": "Python 3",
      "language": "python",
      "name": "python3"
    },
    "language_info": {
      "codemirror_mode": {
        "name": "ipython",
        "version": 3
      },
      "file_extension": ".py",
      "mimetype": "text/x-python",
      "name": "python",
      "nbconvert_exporter": "python",
      "pygments_lexer": "ipython3",
      "version": "3.7.4"
    }
  },
  "nbformat": 4,
  "nbformat_minor": 0
}