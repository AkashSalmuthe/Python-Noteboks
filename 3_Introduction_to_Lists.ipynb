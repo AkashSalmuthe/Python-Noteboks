{
  "nbformat": 4,
  "nbformat_minor": 0,
  "metadata": {
    "kernelspec": {
      "display_name": "Python 3",
      "language": "python",
      "name": "python3"
    },
    "language_info": {
      "codemirror_mode": {
        "name": "ipython",
        "version": 3
      },
      "file_extension": ".py",
      "mimetype": "text/x-python",
      "name": "python",
      "nbconvert_exporter": "python",
      "pygments_lexer": "ipython3",
      "version": "3.7.4"
    },
    "colab": {
      "name": "3. Introduction to Lists.ipynb",
      "provenance": [],
      "collapsed_sections": [],
      "include_colab_link": true
    }
  },
  "cells": [
    {
      "cell_type": "markdown",
      "metadata": {
        "id": "view-in-github",
        "colab_type": "text"
      },
      "source": [
        "<a href=\"https://colab.research.google.com/github/AkashSalmuthe/Python-Noteboks/blob/main/3_Introduction_to_Lists.ipynb\" target=\"_parent\"><img src=\"https://colab.research.google.com/assets/colab-badge.svg\" alt=\"Open In Colab\"/></a>"
      ]
    },
    {
      "cell_type": "markdown",
      "metadata": {
        "id": "t1KX9ExluH05"
      },
      "source": [
        "### Earlier when discussing strings we introduced the concept of a <u>sequence</u> in Python. \n",
        "* <u>Lists</u> can be thought of the most general version of a *sequence* in Python. \n",
        "\n",
        "\n",
        "* Unlike strings, they are mutable, meaning the elements inside a list can be changed! \n",
        "\n",
        "\n",
        "* Lists are constructed with brackets <code>[]</code> and commas separating every element in the list."
      ]
    },
    {
      "cell_type": "code",
      "metadata": {
        "id": "zJALgXvTuH06"
      },
      "source": [
        "# Assign a list to an variable named my_list\n",
        "my_list = [1,2,3,4]"
      ],
      "execution_count": 1,
      "outputs": []
    },
    {
      "cell_type": "code",
      "metadata": {
        "id": "5iyxPTQEuH1A",
        "colab": {
          "base_uri": "https://localhost:8080/"
        },
        "outputId": "8814f897-bc6a-469b-c4f7-e30a52b25d04"
      },
      "source": [
        "print(my_list)"
      ],
      "execution_count": 2,
      "outputs": [
        {
          "output_type": "stream",
          "name": "stdout",
          "text": [
            "[1, 2, 3, 4]\n"
          ]
        }
      ]
    },
    {
      "cell_type": "code",
      "metadata": {
        "id": "Iwcih5WkuH1F",
        "colab": {
          "base_uri": "https://localhost:8080/"
        },
        "outputId": "d5c3e326-b899-4911-e9af-ef9e27949615"
      },
      "source": [
        "type(my_list)"
      ],
      "execution_count": 3,
      "outputs": [
        {
          "output_type": "execute_result",
          "data": {
            "text/plain": [
              "list"
            ]
          },
          "metadata": {},
          "execution_count": 3
        }
      ]
    },
    {
      "cell_type": "markdown",
      "metadata": {
        "id": "GixOgR0xuH1K"
      },
      "source": [
        "* We just created a list of integers, but lists can actually hold different object types. For example:"
      ]
    },
    {
      "cell_type": "code",
      "metadata": {
        "id": "iYwuNSr5uH1L"
      },
      "source": [
        "my_list = ['A string',23,100.232,'o',True]"
      ],
      "execution_count": 4,
      "outputs": []
    },
    {
      "cell_type": "code",
      "metadata": {
        "id": "5v0MmUyBuH1R",
        "colab": {
          "base_uri": "https://localhost:8080/"
        },
        "outputId": "af0f6a37-a32e-4ba6-ec08-4851dca423da"
      },
      "source": [
        "my_list"
      ],
      "execution_count": 5,
      "outputs": [
        {
          "output_type": "execute_result",
          "data": {
            "text/plain": [
              "['A string', 23, 100.232, 'o', True]"
            ]
          },
          "metadata": {},
          "execution_count": 5
        }
      ]
    },
    {
      "cell_type": "markdown",
      "metadata": {
        "id": "KC7536WDuH1W"
      },
      "source": [
        "* Just like strings, the <code>len()</code> function will tell you how many items are in the sequence of the list."
      ]
    },
    {
      "cell_type": "code",
      "metadata": {
        "id": "9c8rQF1ZuH1X",
        "colab": {
          "base_uri": "https://localhost:8080/"
        },
        "outputId": "a788bad1-501b-428b-edc0-c7c9c6134b50"
      },
      "source": [
        "len(my_list)"
      ],
      "execution_count": 6,
      "outputs": [
        {
          "output_type": "execute_result",
          "data": {
            "text/plain": [
              "5"
            ]
          },
          "metadata": {},
          "execution_count": 6
        }
      ]
    },
    {
      "cell_type": "markdown",
      "metadata": {
        "id": "GOoGqqK9uH1c"
      },
      "source": [
        "## List Indexing\n",
        "* Indexing work just like in strings.\n",
        "\n",
        "\n",
        "* A list index refers to the location of an element in a list.\n",
        "\n",
        "\n",
        "* Remember the indexing begins from 0 in Python. \n",
        "\n",
        "\n",
        "* The first element is assigned an index 0, the second element is assigned an index of 1 and so on and so forth."
      ]
    },
    {
      "cell_type": "code",
      "metadata": {
        "id": "h8kC051iuH1e",
        "colab": {
          "base_uri": "https://localhost:8080/"
        },
        "outputId": "a217b135-d74f-4101-e81d-a4b664b27b32"
      },
      "source": [
        "# Consider a list of strings\n",
        "loss_functions = ['Mean Absolute Error','Mean Squared Error','Huber Loss','Log Loss','Hinge Loss']\n",
        "print(loss_functions)"
      ],
      "execution_count": 7,
      "outputs": [
        {
          "output_type": "stream",
          "name": "stdout",
          "text": [
            "['Mean Absolute Error', 'Mean Squared Error', 'Huber Loss', 'Log Loss', 'Hinge Loss']\n"
          ]
        }
      ]
    },
    {
      "cell_type": "code",
      "metadata": {
        "id": "9Rjv4sHZuH1k",
        "colab": {
          "base_uri": "https://localhost:8080/"
        },
        "outputId": "6b5e570c-e4ef-4df3-8eab-02123ffa94d5"
      },
      "source": [
        "# Grab the element at index 0, which is the FIRST element\n",
        "print(loss_functions[0])"
      ],
      "execution_count": 8,
      "outputs": [
        {
          "output_type": "stream",
          "name": "stdout",
          "text": [
            "Mean Absolute Error\n"
          ]
        }
      ]
    },
    {
      "cell_type": "code",
      "metadata": {
        "colab": {
          "base_uri": "https://localhost:8080/"
        },
        "id": "wkqGy2G-HcFP",
        "outputId": "1f8f2dd8-5ff6-404f-fa27-887b00a964ed"
      },
      "source": [
        "len(loss_functions)"
      ],
      "execution_count": 9,
      "outputs": [
        {
          "output_type": "execute_result",
          "data": {
            "text/plain": [
              "5"
            ]
          },
          "metadata": {},
          "execution_count": 9
        }
      ]
    },
    {
      "cell_type": "code",
      "metadata": {
        "id": "wy6j6RQluH1q",
        "colab": {
          "base_uri": "https://localhost:8080/"
        },
        "outputId": "08a068ff-3ccf-4d98-925e-eb1f0f021008"
      },
      "source": [
        "# Grab the element at index 3, which is the FOURTH element\n",
        "print(loss_functions[3])"
      ],
      "execution_count": 10,
      "outputs": [
        {
          "output_type": "stream",
          "name": "stdout",
          "text": [
            "Log Loss\n"
          ]
        }
      ]
    },
    {
      "cell_type": "code",
      "metadata": {
        "colab": {
          "base_uri": "https://localhost:8080/",
          "height": 165
        },
        "id": "fN0bZ8T5HULs",
        "outputId": "e2ca2784-5ea3-440d-b5e7-6d645ff759f1"
      },
      "source": [
        "print(loss_functions[6])"
      ],
      "execution_count": 11,
      "outputs": [
        {
          "output_type": "error",
          "ename": "IndexError",
          "evalue": "ignored",
          "traceback": [
            "\u001b[0;31m---------------------------------------------------------------------------\u001b[0m",
            "\u001b[0;31mIndexError\u001b[0m                                Traceback (most recent call last)",
            "\u001b[0;32m<ipython-input-11-36fa04b37479>\u001b[0m in \u001b[0;36m<module>\u001b[0;34m()\u001b[0m\n\u001b[0;32m----> 1\u001b[0;31m \u001b[0mprint\u001b[0m\u001b[0;34m(\u001b[0m\u001b[0mloss_functions\u001b[0m\u001b[0;34m[\u001b[0m\u001b[0;36m6\u001b[0m\u001b[0;34m]\u001b[0m\u001b[0;34m)\u001b[0m\u001b[0;34m\u001b[0m\u001b[0;34m\u001b[0m\u001b[0m\n\u001b[0m",
            "\u001b[0;31mIndexError\u001b[0m: list index out of range"
          ]
        }
      ]
    },
    {
      "cell_type": "code",
      "metadata": {
        "id": "XWYhPYWJuH1w",
        "colab": {
          "base_uri": "https://localhost:8080/"
        },
        "outputId": "b3d706e1-7ad0-4bc0-9793-68e75fa2b022"
      },
      "source": [
        "# Grab the element at the index -1, which is the LAST element\n",
        "print(loss_functions[-1])"
      ],
      "execution_count": 12,
      "outputs": [
        {
          "output_type": "stream",
          "name": "stdout",
          "text": [
            "Hinge Loss\n"
          ]
        }
      ]
    },
    {
      "cell_type": "code",
      "metadata": {
        "id": "qVDZolzXuH11",
        "colab": {
          "base_uri": "https://localhost:8080/"
        },
        "outputId": "2d062f24-c632-48a4-fe14-7cdbbdcbd910"
      },
      "source": [
        "# Grab the element at the index -3, which is the THIRD LAST element\n",
        "print(loss_functions[-3])"
      ],
      "execution_count": 13,
      "outputs": [
        {
          "output_type": "stream",
          "name": "stdout",
          "text": [
            "Huber Loss\n"
          ]
        }
      ]
    },
    {
      "cell_type": "markdown",
      "metadata": {
        "id": "VyvYPGtYuH16"
      },
      "source": [
        "## List Slicing\n",
        "\n",
        "* We can use a <code>:</code> to perform *slicing* which grabs everything up to a designated point. \n",
        "\n",
        "\n",
        "* The starting index is specified on the left of the <code>:</code> and the ending index is specified on the right of the <code>:</code>. \n",
        "\n",
        "\n",
        "* Remember the element located at the right index is not included."
      ]
    },
    {
      "cell_type": "code",
      "metadata": {
        "id": "rJpgJdnauH16",
        "colab": {
          "base_uri": "https://localhost:8080/"
        },
        "outputId": "4271e44a-72a6-43c9-e05a-ee61cf8bf679"
      },
      "source": [
        "# Print our list\n",
        "print(loss_functions)"
      ],
      "execution_count": 14,
      "outputs": [
        {
          "output_type": "stream",
          "name": "stdout",
          "text": [
            "['Mean Absolute Error', 'Mean Squared Error', 'Huber Loss', 'Log Loss', 'Hinge Loss']\n"
          ]
        }
      ]
    },
    {
      "cell_type": "code",
      "metadata": {
        "id": "qkMHWOjpuH1_",
        "colab": {
          "base_uri": "https://localhost:8080/"
        },
        "outputId": "e94bf5e8-f06c-4e44-daf0-7725795350ef"
      },
      "source": [
        "# Grab the elements starting from index 1 and everything past it\n",
        "loss_functions[1:4]"
      ],
      "execution_count": 15,
      "outputs": [
        {
          "output_type": "execute_result",
          "data": {
            "text/plain": [
              "['Mean Squared Error', 'Huber Loss', 'Log Loss']"
            ]
          },
          "metadata": {},
          "execution_count": 15
        }
      ]
    },
    {
      "cell_type": "markdown",
      "metadata": {
        "id": "tRWJVhSPuH2G"
      },
      "source": [
        "* If you do not specify the ending index, then all elements are extracted which comes after the starting index including the element at that starting index. The operation knows only to stop when it has run through the entire list."
      ]
    },
    {
      "cell_type": "code",
      "metadata": {
        "id": "9-210b6YuH2H",
        "colab": {
          "base_uri": "https://localhost:8080/"
        },
        "outputId": "c087492c-3061-467d-80ad-318dd2161428"
      },
      "source": [
        "# Grab everything starting from index 2\n",
        "loss_functions[2:]"
      ],
      "execution_count": 16,
      "outputs": [
        {
          "output_type": "execute_result",
          "data": {
            "text/plain": [
              "['Huber Loss', 'Log Loss', 'Hinge Loss']"
            ]
          },
          "metadata": {},
          "execution_count": 16
        }
      ]
    },
    {
      "cell_type": "markdown",
      "metadata": {
        "id": "X6H8XIIZuH2M"
      },
      "source": [
        "* If you do not specify the starting index, then all elements are extracted which comes befores the ending index excluding the element at the specified ending index. The operation knows only to stop when it has extracted all elements before the  element at the ending index."
      ]
    },
    {
      "cell_type": "code",
      "metadata": {
        "id": "OzsSfMJwuH2M",
        "colab": {
          "base_uri": "https://localhost:8080/"
        },
        "outputId": "a9b4c23f-67bb-456e-cdb2-f539d6ac1831"
      },
      "source": [
        "# Grab everything before the index 4\n",
        "loss_functions[:4]"
      ],
      "execution_count": 17,
      "outputs": [
        {
          "output_type": "execute_result",
          "data": {
            "text/plain": [
              "['Mean Absolute Error', 'Mean Squared Error', 'Huber Loss', 'Log Loss']"
            ]
          },
          "metadata": {},
          "execution_count": 17
        }
      ]
    },
    {
      "cell_type": "markdown",
      "metadata": {
        "id": "AzM1gvHxuH2R"
      },
      "source": [
        "* If you do not specify the starting and the ending index, it will extract all elements of the list."
      ]
    },
    {
      "cell_type": "code",
      "metadata": {
        "id": "UvgZ2Oi7uH2S",
        "colab": {
          "base_uri": "https://localhost:8080/"
        },
        "outputId": "21beb850-2a23-4667-e9ef-a3f3c79945c5"
      },
      "source": [
        "# Grab everything\n",
        "print(loss_functions[:])"
      ],
      "execution_count": 18,
      "outputs": [
        {
          "output_type": "stream",
          "name": "stdout",
          "text": [
            "['Mean Absolute Error', 'Mean Squared Error', 'Huber Loss', 'Log Loss', 'Hinge Loss']\n"
          ]
        }
      ]
    },
    {
      "cell_type": "markdown",
      "metadata": {
        "id": "JZCjIP2wuH2Y"
      },
      "source": [
        "* We can also extract the last four elements. Remember we can use the index -4 to extract the FOURTH LAST element"
      ]
    },
    {
      "cell_type": "code",
      "metadata": {
        "id": "HO6uu_J3uH2Z",
        "colab": {
          "base_uri": "https://localhost:8080/"
        },
        "outputId": "039b318a-01fd-4530-ad36-f472d4440cbb"
      },
      "source": [
        "# Grab the LAST FOUR elements of the list\n",
        "loss_functions[-4:]"
      ],
      "execution_count": 19,
      "outputs": [
        {
          "output_type": "execute_result",
          "data": {
            "text/plain": [
              "['Mean Squared Error', 'Huber Loss', 'Log Loss', 'Hinge Loss']"
            ]
          },
          "metadata": {},
          "execution_count": 19
        }
      ]
    },
    {
      "cell_type": "code",
      "metadata": {
        "id": "HhClfN4JoYHm",
        "colab": {
          "base_uri": "https://localhost:8080/",
          "height": 165
        },
        "outputId": "026b6625-43a6-46ef-934e-029d991c2bb0"
      },
      "source": [
        "loss_functions[-10]"
      ],
      "execution_count": 20,
      "outputs": [
        {
          "output_type": "error",
          "ename": "IndexError",
          "evalue": "ignored",
          "traceback": [
            "\u001b[0;31m---------------------------------------------------------------------------\u001b[0m",
            "\u001b[0;31mIndexError\u001b[0m                                Traceback (most recent call last)",
            "\u001b[0;32m<ipython-input-20-8a581720341d>\u001b[0m in \u001b[0;36m<module>\u001b[0;34m()\u001b[0m\n\u001b[0;32m----> 1\u001b[0;31m \u001b[0mloss_functions\u001b[0m\u001b[0;34m[\u001b[0m\u001b[0;34m-\u001b[0m\u001b[0;36m10\u001b[0m\u001b[0;34m]\u001b[0m\u001b[0;34m\u001b[0m\u001b[0;34m\u001b[0m\u001b[0m\n\u001b[0m",
            "\u001b[0;31mIndexError\u001b[0m: list index out of range"
          ]
        }
      ]
    },
    {
      "cell_type": "markdown",
      "metadata": {
        "id": "MFMJCkLtuH2e"
      },
      "source": [
        "* It should also be noted that list indexing will return an error if there is no element at that index."
      ]
    },
    {
      "cell_type": "code",
      "metadata": {
        "id": "ubVmh9dpuH2f",
        "colab": {
          "base_uri": "https://localhost:8080/"
        },
        "outputId": "da4280df-80f7-4cf3-facc-2d0268effe54"
      },
      "source": [
        "len(loss_functions)"
      ],
      "execution_count": 21,
      "outputs": [
        {
          "output_type": "execute_result",
          "data": {
            "text/plain": [
              "5"
            ]
          },
          "metadata": {},
          "execution_count": 21
        }
      ]
    },
    {
      "cell_type": "code",
      "metadata": {
        "id": "BSIWnrXvuH2q",
        "colab": {
          "base_uri": "https://localhost:8080/",
          "height": 165
        },
        "outputId": "30d6af5e-4514-4080-8c3f-8b5240810afc"
      },
      "source": [
        "loss_functions[8]"
      ],
      "execution_count": 22,
      "outputs": [
        {
          "output_type": "error",
          "ename": "IndexError",
          "evalue": "ignored",
          "traceback": [
            "\u001b[0;31m---------------------------------------------------------------------------\u001b[0m",
            "\u001b[0;31mIndexError\u001b[0m                                Traceback (most recent call last)",
            "\u001b[0;32m<ipython-input-22-4de3193e7629>\u001b[0m in \u001b[0;36m<module>\u001b[0;34m()\u001b[0m\n\u001b[0;32m----> 1\u001b[0;31m \u001b[0mloss_functions\u001b[0m\u001b[0;34m[\u001b[0m\u001b[0;36m8\u001b[0m\u001b[0;34m]\u001b[0m\u001b[0;34m\u001b[0m\u001b[0;34m\u001b[0m\u001b[0m\n\u001b[0m",
            "\u001b[0;31mIndexError\u001b[0m: list index out of range"
          ]
        }
      ]
    },
    {
      "cell_type": "markdown",
      "metadata": {
        "id": "Sq2OgleGuH23"
      },
      "source": [
        "## List Operations\n",
        "* Remember we said that lists are mutable as opposed to strings. Lets see how can we change the elements of a list"
      ]
    },
    {
      "cell_type": "markdown",
      "metadata": {
        "id": "fDoYdXjFuH24"
      },
      "source": [
        "* We can also use <code>+</code> to concatenate lists, just like we did for strings."
      ]
    },
    {
      "cell_type": "code",
      "metadata": {
        "id": "49GL6IOAqQCe",
        "colab": {
          "base_uri": "https://localhost:8080/"
        },
        "outputId": "ea844149-2e1e-44b8-d96c-c886deb5e35a"
      },
      "source": [
        "print(loss_functions)"
      ],
      "execution_count": 23,
      "outputs": [
        {
          "output_type": "stream",
          "name": "stdout",
          "text": [
            "['Mean Absolute Error', 'Mean Squared Error', 'Huber Loss', 'Log Loss', 'Hinge Loss']\n"
          ]
        }
      ]
    },
    {
      "cell_type": "code",
      "metadata": {
        "id": "V0Oc6-O8uH25",
        "colab": {
          "base_uri": "https://localhost:8080/"
        },
        "outputId": "bd37f32a-3eb3-4be4-b09d-b2917b5eef10"
      },
      "source": [
        "loss_functions + ['Kullback-Leibler']"
      ],
      "execution_count": 24,
      "outputs": [
        {
          "output_type": "execute_result",
          "data": {
            "text/plain": [
              "['Mean Absolute Error',\n",
              " 'Mean Squared Error',\n",
              " 'Huber Loss',\n",
              " 'Log Loss',\n",
              " 'Hinge Loss',\n",
              " 'Kullback-Leibler']"
            ]
          },
          "metadata": {},
          "execution_count": 24
        }
      ]
    },
    {
      "cell_type": "markdown",
      "metadata": {
        "id": "_R2ARrFsuH2-"
      },
      "source": [
        "* Note: This doesn't actually change the original list!"
      ]
    },
    {
      "cell_type": "code",
      "metadata": {
        "scrolled": true,
        "id": "FiZFhSgMuH3A",
        "colab": {
          "base_uri": "https://localhost:8080/"
        },
        "outputId": "2d564701-ee7d-452f-be1b-d5b5a29bce02"
      },
      "source": [
        "print(loss_functions)"
      ],
      "execution_count": 25,
      "outputs": [
        {
          "output_type": "stream",
          "name": "stdout",
          "text": [
            "['Mean Absolute Error', 'Mean Squared Error', 'Huber Loss', 'Log Loss', 'Hinge Loss']\n"
          ]
        }
      ]
    },
    {
      "cell_type": "markdown",
      "metadata": {
        "id": "9BC_N9XIuH3E"
      },
      "source": [
        "* You would have to reassign the list to make the change permanent."
      ]
    },
    {
      "cell_type": "code",
      "metadata": {
        "id": "rrAKgXGkuH3E"
      },
      "source": [
        "# Reassign\n",
        "loss_functions = loss_functions + ['Kullback-Leibler']"
      ],
      "execution_count": 26,
      "outputs": []
    },
    {
      "cell_type": "code",
      "metadata": {
        "id": "kB1NeeiXuH3I",
        "colab": {
          "base_uri": "https://localhost:8080/"
        },
        "outputId": "4156f278-1e1b-4d7f-d1da-b13546c62fff"
      },
      "source": [
        "loss_functions"
      ],
      "execution_count": 27,
      "outputs": [
        {
          "output_type": "execute_result",
          "data": {
            "text/plain": [
              "['Mean Absolute Error',\n",
              " 'Mean Squared Error',\n",
              " 'Huber Loss',\n",
              " 'Log Loss',\n",
              " 'Hinge Loss',\n",
              " 'Kullback-Leibler']"
            ]
          },
          "metadata": {},
          "execution_count": 27
        }
      ]
    },
    {
      "cell_type": "markdown",
      "metadata": {
        "id": "kk3-UJ3RuH3N"
      },
      "source": [
        "* We can also use the <code>*</code> for a duplication method similar to strings:"
      ]
    },
    {
      "cell_type": "code",
      "metadata": {
        "id": "b09L4hO7uH3O",
        "colab": {
          "base_uri": "https://localhost:8080/"
        },
        "outputId": "7b5d5939-25b9-42a2-e3da-98f0a33b8816"
      },
      "source": [
        "# Make the list double\n",
        "len(loss_functions * 6)"
      ],
      "execution_count": 28,
      "outputs": [
        {
          "output_type": "execute_result",
          "data": {
            "text/plain": [
              "36"
            ]
          },
          "metadata": {},
          "execution_count": 28
        }
      ]
    },
    {
      "cell_type": "code",
      "source": [
        "len(loss_functions)*6"
      ],
      "metadata": {
        "colab": {
          "base_uri": "https://localhost:8080/"
        },
        "id": "bFLifxXG4f9U",
        "outputId": "5ecaf361-6de7-4541-dfee-f148c86663db"
      },
      "execution_count": 29,
      "outputs": [
        {
          "output_type": "execute_result",
          "data": {
            "text/plain": [
              "36"
            ]
          },
          "metadata": {},
          "execution_count": 29
        }
      ]
    },
    {
      "cell_type": "markdown",
      "metadata": {
        "id": "vPF4zcaEuH3X"
      },
      "source": [
        "## List Functions"
      ]
    },
    {
      "cell_type": "markdown",
      "metadata": {
        "id": "6Qd7qKM1uH3Y"
      },
      "source": [
        "### <code>len()</code>\n",
        "\n",
        "\n",
        "* <code>len()</code> function returns the length of the list"
      ]
    },
    {
      "cell_type": "code",
      "metadata": {
        "id": "EOLMTcMvuH3Z",
        "colab": {
          "base_uri": "https://localhost:8080/"
        },
        "outputId": "d6d75b7e-2174-4244-9159-822cf922f9c5"
      },
      "source": [
        "print(loss_functions)"
      ],
      "execution_count": 30,
      "outputs": [
        {
          "output_type": "stream",
          "name": "stdout",
          "text": [
            "['Mean Absolute Error', 'Mean Squared Error', 'Huber Loss', 'Log Loss', 'Hinge Loss', 'Kullback-Leibler']\n"
          ]
        }
      ]
    },
    {
      "cell_type": "code",
      "metadata": {
        "id": "mNKWrF1wuH3c",
        "colab": {
          "base_uri": "https://localhost:8080/"
        },
        "outputId": "5e4d63ff-c1c4-45b3-a0ca-122b1e96e982"
      },
      "source": [
        "len(loss_functions)"
      ],
      "execution_count": 31,
      "outputs": [
        {
          "output_type": "execute_result",
          "data": {
            "text/plain": [
              "6"
            ]
          },
          "metadata": {},
          "execution_count": 31
        }
      ]
    },
    {
      "cell_type": "markdown",
      "metadata": {
        "id": "p7d98KoOuH3f"
      },
      "source": [
        "### <code>min()</code>\n",
        "\n",
        "\n",
        "* <code>min()</code> function returns the minimum element of the list\n",
        "\n",
        "\n",
        "* <code>min()</code> function only works with lists of similar data types"
      ]
    },
    {
      "cell_type": "code",
      "metadata": {
        "id": "wLccOV7wuH3f"
      },
      "source": [
        "new_list = [6, 9, 1, 3, 5.5]"
      ],
      "execution_count": 32,
      "outputs": []
    },
    {
      "cell_type": "code",
      "metadata": {
        "id": "Y2Cu7bw0uH3j",
        "colab": {
          "base_uri": "https://localhost:8080/"
        },
        "outputId": "9a6cfcaf-34c4-4454-f8e0-ad84e85e97e0"
      },
      "source": [
        "min(new_list)"
      ],
      "execution_count": 33,
      "outputs": [
        {
          "output_type": "execute_result",
          "data": {
            "text/plain": [
              "1"
            ]
          },
          "metadata": {},
          "execution_count": 33
        }
      ]
    },
    {
      "cell_type": "code",
      "metadata": {
        "id": "CE51jhX2Os8i"
      },
      "source": [
        "my_new_list = ['a','b', 'z' ,'y' , 'm']"
      ],
      "execution_count": 34,
      "outputs": []
    },
    {
      "cell_type": "code",
      "metadata": {
        "colab": {
          "base_uri": "https://localhost:8080/",
          "height": 35
        },
        "id": "xU0MNka-OzHv",
        "outputId": "57a6cab6-8c8b-4e83-b66b-c558db51d405"
      },
      "source": [
        "min(my_new_list)"
      ],
      "execution_count": 35,
      "outputs": [
        {
          "output_type": "execute_result",
          "data": {
            "application/vnd.google.colaboratory.intrinsic+json": {
              "type": "string"
            },
            "text/plain": [
              "'a'"
            ]
          },
          "metadata": {},
          "execution_count": 35
        }
      ]
    },
    {
      "cell_type": "code",
      "source": [
        "ll = ['a','b', 'z' ,'y' , 'm','A',\"B\"]"
      ],
      "metadata": {
        "id": "nHyxE2xH4uUl"
      },
      "execution_count": 36,
      "outputs": []
    },
    {
      "cell_type": "code",
      "source": [
        "min(ll)"
      ],
      "metadata": {
        "colab": {
          "base_uri": "https://localhost:8080/",
          "height": 35
        },
        "id": "GFQQln1R40dj",
        "outputId": "246147f7-5e1a-40ba-ec02-66bf8e674ac9"
      },
      "execution_count": 37,
      "outputs": [
        {
          "output_type": "execute_result",
          "data": {
            "application/vnd.google.colaboratory.intrinsic+json": {
              "type": "string"
            },
            "text/plain": [
              "'A'"
            ]
          },
          "metadata": {},
          "execution_count": 37
        }
      ]
    },
    {
      "cell_type": "markdown",
      "metadata": {
        "id": "et3AsvCkuH3n"
      },
      "source": [
        "### <code>max()</code>\n",
        "\n",
        "\n",
        "* <code>max()</code> function returns the maximum element of the list\n",
        "\n",
        "\n",
        "* <code>max()</code> function only works with lists of similar data types"
      ]
    },
    {
      "cell_type": "code",
      "metadata": {
        "id": "ehW2DQUouH3o"
      },
      "source": [
        "new_list = ['Argue','Burglar','Parent','Linear','shape']"
      ],
      "execution_count": 38,
      "outputs": []
    },
    {
      "cell_type": "code",
      "metadata": {
        "id": "oexyHaR1uH3r",
        "colab": {
          "base_uri": "https://localhost:8080/",
          "height": 35
        },
        "outputId": "4ca5eea4-3ef6-4b85-a557-6d596be220c5"
      },
      "source": [
        "\n",
        "max(new_list)"
      ],
      "execution_count": 39,
      "outputs": [
        {
          "output_type": "execute_result",
          "data": {
            "application/vnd.google.colaboratory.intrinsic+json": {
              "type": "string"
            },
            "text/plain": [
              "'shape'"
            ]
          },
          "metadata": {},
          "execution_count": 39
        }
      ]
    },
    {
      "cell_type": "code",
      "source": [
        "lst = ['Argue','Aargue','Burglar','Parent','Linear','shape','sip','seep']"
      ],
      "metadata": {
        "id": "5UowwMU647eh"
      },
      "execution_count": 40,
      "outputs": []
    },
    {
      "cell_type": "code",
      "source": [
        "print(max(lst))"
      ],
      "metadata": {
        "colab": {
          "base_uri": "https://localhost:8080/"
        },
        "id": "Hlnwi_OE5JDK",
        "outputId": "62329f48-978d-4ef8-d9aa-d8f2ac83f231"
      },
      "execution_count": 41,
      "outputs": [
        {
          "output_type": "stream",
          "name": "stdout",
          "text": [
            "sip\n"
          ]
        }
      ]
    },
    {
      "cell_type": "markdown",
      "metadata": {
        "id": "1sitoBoVuH3u"
      },
      "source": [
        "### <code>sum()</code>\n",
        "\n",
        "\n",
        "* <code>sum()</code> function returns the sum of the elements of the list\n",
        "\n",
        "\n",
        "* <code>sum()</code> function only works with lists of numeric data types"
      ]
    },
    {
      "cell_type": "code",
      "metadata": {
        "id": "cXT_0utXuH3u"
      },
      "source": [
        "new_list = [6, 9, 1, 3, 5.5]"
      ],
      "execution_count": 42,
      "outputs": []
    },
    {
      "cell_type": "code",
      "metadata": {
        "id": "tV5c5mkGuH3x",
        "colab": {
          "base_uri": "https://localhost:8080/"
        },
        "outputId": "888443e6-fc00-468a-f224-246ca3a6555c"
      },
      "source": [
        "sum(new_list)"
      ],
      "execution_count": 43,
      "outputs": [
        {
          "output_type": "execute_result",
          "data": {
            "text/plain": [
              "24.5"
            ]
          },
          "metadata": {},
          "execution_count": 43
        }
      ]
    },
    {
      "cell_type": "markdown",
      "metadata": {
        "id": "V31491BvuH3z"
      },
      "source": [
        "### <code>sorted()</code>\n",
        "\n",
        "\n",
        "* <code>sorted()</code> function returns the sorted list \n",
        "\n",
        "\n",
        "* <code>sorted()</code> function takes reverse boolean as an argument\n",
        "\n",
        "\n",
        "* <code>sorted()</code> function only works on a list with similar data types"
      ]
    },
    {
      "cell_type": "code",
      "metadata": {
        "id": "yXeGjCRCuH30",
        "colab": {
          "base_uri": "https://localhost:8080/"
        },
        "outputId": "d683f2ac-627e-43a0-f2db-f2dd086370e9"
      },
      "source": [
        "new_list"
      ],
      "execution_count": 44,
      "outputs": [
        {
          "output_type": "execute_result",
          "data": {
            "text/plain": [
              "[6, 9, 1, 3, 5.5]"
            ]
          },
          "metadata": {},
          "execution_count": 44
        }
      ]
    },
    {
      "cell_type": "code",
      "metadata": {
        "id": "RoS_1mnyuH34",
        "colab": {
          "base_uri": "https://localhost:8080/"
        },
        "outputId": "3f82dd99-b22b-46e4-ed58-cde4942a7310"
      },
      "source": [
        "sorted(new_list)"
      ],
      "execution_count": 45,
      "outputs": [
        {
          "output_type": "execute_result",
          "data": {
            "text/plain": [
              "[1, 3, 5.5, 6, 9]"
            ]
          },
          "metadata": {},
          "execution_count": 45
        }
      ]
    },
    {
      "cell_type": "code",
      "metadata": {
        "colab": {
          "base_uri": "https://localhost:8080/"
        },
        "id": "0gQjBslbRFLH",
        "outputId": "ad5e2116-d9ff-4e71-a4c6-c0e350ab0006"
      },
      "source": [
        "print(new_list)"
      ],
      "execution_count": 46,
      "outputs": [
        {
          "output_type": "stream",
          "name": "stdout",
          "text": [
            "[6, 9, 1, 3, 5.5]\n"
          ]
        }
      ]
    },
    {
      "cell_type": "code",
      "metadata": {
        "id": "4t5yFdfLuJZi"
      },
      "source": [
        "new_list = ['Argue','Burglar','Parent','Linear','shape']"
      ],
      "execution_count": 47,
      "outputs": []
    },
    {
      "cell_type": "code",
      "metadata": {
        "id": "PSPWx6EDuKw_",
        "colab": {
          "base_uri": "https://localhost:8080/"
        },
        "outputId": "4086faa3-4561-4b02-ff6c-435d89ccab3f"
      },
      "source": [
        "sorted(new_list)"
      ],
      "execution_count": 48,
      "outputs": [
        {
          "output_type": "execute_result",
          "data": {
            "text/plain": [
              "['Argue', 'Burglar', 'Linear', 'Parent', 'shape']"
            ]
          },
          "metadata": {},
          "execution_count": 48
        }
      ]
    },
    {
      "cell_type": "code",
      "metadata": {
        "id": "YAybCJVUtElx",
        "colab": {
          "base_uri": "https://localhost:8080/"
        },
        "outputId": "254ba10a-4e21-4b87-e1c5-959026d93001"
      },
      "source": [
        "print(new_list)"
      ],
      "execution_count": 49,
      "outputs": [
        {
          "output_type": "stream",
          "name": "stdout",
          "text": [
            "['Argue', 'Burglar', 'Parent', 'Linear', 'shape']\n"
          ]
        }
      ]
    },
    {
      "cell_type": "code",
      "metadata": {
        "id": "qh3oquvquH38",
        "colab": {
          "base_uri": "https://localhost:8080/"
        },
        "outputId": "c6e9bb6d-f070-45f3-d9d5-409f45b5d480"
      },
      "source": [
        "sorted(new_list,reverse=True)"
      ],
      "execution_count": 50,
      "outputs": [
        {
          "output_type": "execute_result",
          "data": {
            "text/plain": [
              "['shape', 'Parent', 'Linear', 'Burglar', 'Argue']"
            ]
          },
          "metadata": {},
          "execution_count": 50
        }
      ]
    },
    {
      "cell_type": "code",
      "metadata": {
        "colab": {
          "base_uri": "https://localhost:8080/"
        },
        "id": "e-eFh2jKRvJv",
        "outputId": "74bcd524-40ba-4310-868d-65f535e30af5"
      },
      "source": [
        "sorted(new_list)"
      ],
      "execution_count": 51,
      "outputs": [
        {
          "output_type": "execute_result",
          "data": {
            "text/plain": [
              "['Argue', 'Burglar', 'Linear', 'Parent', 'shape']"
            ]
          },
          "metadata": {},
          "execution_count": 51
        }
      ]
    },
    {
      "cell_type": "markdown",
      "metadata": {
        "id": "m4XdxpZHuH4B"
      },
      "source": [
        "* <code>sorted()</code> function does not change our list"
      ]
    },
    {
      "cell_type": "code",
      "metadata": {
        "id": "3y-kuB8tuH4B",
        "colab": {
          "base_uri": "https://localhost:8080/"
        },
        "outputId": "43571ffb-0eb0-44ea-fe6e-441160abc5d5"
      },
      "source": [
        "new_list"
      ],
      "execution_count": 52,
      "outputs": [
        {
          "output_type": "execute_result",
          "data": {
            "text/plain": [
              "['Argue', 'Burglar', 'Parent', 'Linear', 'shape']"
            ]
          },
          "metadata": {},
          "execution_count": 52
        }
      ]
    },
    {
      "cell_type": "code",
      "source": [
        "sorted(lst)"
      ],
      "metadata": {
        "colab": {
          "base_uri": "https://localhost:8080/"
        },
        "id": "h6vRT2Mi5a17",
        "outputId": "1444f558-64f6-4747-dbeb-dc992cf488b1"
      },
      "execution_count": 53,
      "outputs": [
        {
          "output_type": "execute_result",
          "data": {
            "text/plain": [
              "['Aargue', 'Argue', 'Burglar', 'Linear', 'Parent', 'seep', 'shape', 'sip']"
            ]
          },
          "metadata": {},
          "execution_count": 53
        }
      ]
    },
    {
      "cell_type": "code",
      "source": [
        "sorted(lst)[-1]"
      ],
      "metadata": {
        "colab": {
          "base_uri": "https://localhost:8080/",
          "height": 35
        },
        "id": "ddmrfSAJ5hph",
        "outputId": "323a03ca-07a1-4605-a401-1541f33035ff"
      },
      "execution_count": 54,
      "outputs": [
        {
          "output_type": "execute_result",
          "data": {
            "application/vnd.google.colaboratory.intrinsic+json": {
              "type": "string"
            },
            "text/plain": [
              "'sip'"
            ]
          },
          "metadata": {},
          "execution_count": 54
        }
      ]
    },
    {
      "cell_type": "code",
      "source": [
        "lst = ['Aargue', 'Argue', 'Burglar', 'Linear', ['Parent', 'seep', 'shape', 'sip']]"
      ],
      "metadata": {
        "id": "Kk1VfA6l6ng7"
      },
      "execution_count": 55,
      "outputs": []
    },
    {
      "cell_type": "code",
      "source": [
        "_lst = lst[:-1]\n",
        "_lst"
      ],
      "metadata": {
        "colab": {
          "base_uri": "https://localhost:8080/"
        },
        "id": "Dbi4l6mL6zrh",
        "outputId": "54d44778-f9b7-45ee-bdd7-58ce14e1c83d"
      },
      "execution_count": 57,
      "outputs": [
        {
          "output_type": "execute_result",
          "data": {
            "text/plain": [
              "['Aargue', 'Argue', 'Burglar', 'Linear']"
            ]
          },
          "metadata": {},
          "execution_count": 57
        }
      ]
    },
    {
      "cell_type": "code",
      "source": [
        "final_lst = lst[0:4] + _lst\n",
        "final_lst"
      ],
      "metadata": {
        "colab": {
          "base_uri": "https://localhost:8080/"
        },
        "id": "zjt70zTU69tH",
        "outputId": "ca41d6c0-5e6a-4406-eace-82330872b5cb"
      },
      "execution_count": 63,
      "outputs": [
        {
          "output_type": "execute_result",
          "data": {
            "text/plain": [
              "['Aargue',\n",
              " 'Argue',\n",
              " 'Burglar',\n",
              " 'Linear',\n",
              " 'Aargue',\n",
              " 'Argue',\n",
              " 'Burglar',\n",
              " 'Linear']"
            ]
          },
          "metadata": {},
          "execution_count": 63
        }
      ]
    },
    {
      "cell_type": "markdown",
      "metadata": {
        "id": "gzCO-o-1uH4F"
      },
      "source": [
        "## List Methods\n",
        "\n",
        "* If you are familiar with another programming language, you might start to draw parallels between arrays in another language and lists in Python. Lists in Python however, tend to be more flexible than arrays in other languages for a two good reasons: they have no fixed size (meaning we don't have to specify how big a list will be), and they have no fixed type constraint (like we've seen above).\n",
        "\n",
        "\n",
        "* Let's go ahead and explore some more special methods for lists:"
      ]
    },
    {
      "cell_type": "code",
      "metadata": {
        "id": "q-kfah9VuH4H"
      },
      "source": [
        "# Create a new list\n",
        "my_list = [1,2,3,1,1,1,3,10,5,8]"
      ],
      "execution_count": 65,
      "outputs": []
    },
    {
      "cell_type": "markdown",
      "metadata": {
        "id": "BgmqyEUHuH4M"
      },
      "source": [
        "### <code>append()</code> \n",
        "\n",
        "* Use the <code>append()</code> method to permanently add an item to the end of a list.\n",
        "\n",
        "\n",
        "* <code>append()</code> method takes the element which you want to add to the list as an argument"
      ]
    },
    {
      "cell_type": "code",
      "metadata": {
        "id": "saQ5SspXuH4M",
        "colab": {
          "base_uri": "https://localhost:8080/"
        },
        "outputId": "37da132c-9d0e-4a2f-afea-3edaced42778"
      },
      "source": [
        "# Print the list\n",
        "my_list"
      ],
      "execution_count": 66,
      "outputs": [
        {
          "output_type": "execute_result",
          "data": {
            "text/plain": [
              "[1, 2, 3, 1, 1, 1, 3, 10, 5, 8]"
            ]
          },
          "metadata": {},
          "execution_count": 66
        }
      ]
    },
    {
      "cell_type": "code",
      "metadata": {
        "id": "gVdtMuXOurNk",
        "colab": {
          "base_uri": "https://localhost:8080/"
        },
        "outputId": "1200731e-3124-4f65-dea5-5be87b820f4d"
      },
      "source": [
        "len(my_list)"
      ],
      "execution_count": 67,
      "outputs": [
        {
          "output_type": "execute_result",
          "data": {
            "text/plain": [
              "10"
            ]
          },
          "metadata": {},
          "execution_count": 67
        }
      ]
    },
    {
      "cell_type": "code",
      "metadata": {
        "id": "byL4_5EruH4Q"
      },
      "source": [
        "# Append to the end of the list\n",
        "my_list.append('Append me!')"
      ],
      "execution_count": 68,
      "outputs": []
    },
    {
      "cell_type": "markdown",
      "metadata": {
        "id": "7yniA300uH4V"
      },
      "source": [
        "* Ah darn it! I was expecting some output. Lets see what happened to <code>my_list</code>"
      ]
    },
    {
      "cell_type": "code",
      "metadata": {
        "id": "t1qW2S6SuH4W",
        "colab": {
          "base_uri": "https://localhost:8080/"
        },
        "outputId": "9b52814d-0301-486c-9796-0b5a06877ce8"
      },
      "source": [
        "print(my_list)"
      ],
      "execution_count": 69,
      "outputs": [
        {
          "output_type": "stream",
          "name": "stdout",
          "text": [
            "[1, 2, 3, 1, 1, 1, 3, 10, 5, 8, 'Append me!']\n"
          ]
        }
      ]
    },
    {
      "cell_type": "code",
      "metadata": {
        "colab": {
          "base_uri": "https://localhost:8080/"
        },
        "id": "9BMYgas1XeYO",
        "outputId": "64105928-64b3-4db2-9716-14bdde28768a"
      },
      "source": [
        "len(my_list)"
      ],
      "execution_count": 70,
      "outputs": [
        {
          "output_type": "execute_result",
          "data": {
            "text/plain": [
              "11"
            ]
          },
          "metadata": {},
          "execution_count": 70
        }
      ]
    },
    {
      "cell_type": "markdown",
      "metadata": {
        "id": "L4UT-17_uH4c"
      },
      "source": [
        "* Woah! Calling the <code>append()</code> method changed my list? Yes, the <code>append()</code>  method changes your original list!"
      ]
    },
    {
      "cell_type": "code",
      "metadata": {
        "id": "_llNxOVDuH4c"
      },
      "source": [
        "# Show\n",
        "my_list.append(2.73)"
      ],
      "execution_count": 71,
      "outputs": []
    },
    {
      "cell_type": "code",
      "metadata": {
        "id": "dc-ercdKuH4h",
        "colab": {
          "base_uri": "https://localhost:8080/"
        },
        "outputId": "434f23cc-1ea9-4434-ff79-4a7f7bf41c23"
      },
      "source": [
        "print(my_list)"
      ],
      "execution_count": 72,
      "outputs": [
        {
          "output_type": "stream",
          "name": "stdout",
          "text": [
            "[1, 2, 3, 1, 1, 1, 3, 10, 5, 8, 'Append me!', 2.73]\n"
          ]
        }
      ]
    },
    {
      "cell_type": "markdown",
      "metadata": {
        "id": "3NrEzBJFuH4u"
      },
      "source": [
        "* We can in fact add a list object to our <code>my_list</code> object"
      ]
    },
    {
      "cell_type": "code",
      "metadata": {
        "id": "xIMMzSLNuH4u"
      },
      "source": [
        "my_list.append([1,2,3])"
      ],
      "execution_count": 73,
      "outputs": []
    },
    {
      "cell_type": "code",
      "metadata": {
        "id": "CjjTg7jAuH4y",
        "colab": {
          "base_uri": "https://localhost:8080/"
        },
        "outputId": "d2f8a57e-f629-44ff-ac8b-35c4e3d8699d"
      },
      "source": [
        "my_list"
      ],
      "execution_count": 74,
      "outputs": [
        {
          "output_type": "execute_result",
          "data": {
            "text/plain": [
              "[1, 2, 3, 1, 1, 1, 3, 10, 5, 8, 'Append me!', 2.73, [1, 2, 3]]"
            ]
          },
          "metadata": {},
          "execution_count": 74
        }
      ]
    },
    {
      "cell_type": "code",
      "metadata": {
        "colab": {
          "base_uri": "https://localhost:8080/"
        },
        "id": "vd8gGikTYUF4",
        "outputId": "f3d408a6-aad4-48e6-af35-727a119d23db"
      },
      "source": [
        "len(my_list)"
      ],
      "execution_count": 75,
      "outputs": [
        {
          "output_type": "execute_result",
          "data": {
            "text/plain": [
              "13"
            ]
          },
          "metadata": {},
          "execution_count": 75
        }
      ]
    },
    {
      "cell_type": "code",
      "metadata": {
        "id": "tPnUf3nbYgqs"
      },
      "source": [
        "my_list.append([10,[19,20],30])"
      ],
      "execution_count": 76,
      "outputs": []
    },
    {
      "cell_type": "code",
      "metadata": {
        "colab": {
          "base_uri": "https://localhost:8080/"
        },
        "id": "Blq4mDwXYme1",
        "outputId": "8c337dd5-2e3a-4c3d-a3fb-0c1d6a6e74be"
      },
      "source": [
        "len(my_list)"
      ],
      "execution_count": 77,
      "outputs": [
        {
          "output_type": "execute_result",
          "data": {
            "text/plain": [
              "14"
            ]
          },
          "metadata": {},
          "execution_count": 77
        }
      ]
    },
    {
      "cell_type": "markdown",
      "metadata": {
        "id": "tGmbu4MKuH43"
      },
      "source": [
        "### <code>extend()</code>\n",
        "\n",
        "* Use the <code> extend()</code> method to merge a list to an existing list\n",
        "\n",
        "\n",
        "* <code> extend()</code> method takes a list or any iterable(don't worry about it now) as an argument.\n",
        "\n",
        "\n",
        "* Quite helpful when you have two or more lists and you want to merge them together"
      ]
    },
    {
      "cell_type": "code",
      "metadata": {
        "id": "yvkbC_3uuH43",
        "colab": {
          "base_uri": "https://localhost:8080/"
        },
        "outputId": "8454401e-1be3-4a79-98f3-b8fa8dc8b3cb"
      },
      "source": [
        "# Print the list\n",
        "print(my_list)"
      ],
      "execution_count": 78,
      "outputs": [
        {
          "output_type": "stream",
          "name": "stdout",
          "text": [
            "[1, 2, 3, 1, 1, 1, 3, 10, 5, 8, 'Append me!', 2.73, [1, 2, 3], [10, [19, 20], 30]]\n"
          ]
        }
      ]
    },
    {
      "cell_type": "code",
      "metadata": {
        "id": "gdvUZUYEuH49"
      },
      "source": [
        "my_list.extend(['Wubba','Lubba','Dub Dub'])"
      ],
      "execution_count": 79,
      "outputs": []
    },
    {
      "cell_type": "code",
      "metadata": {
        "id": "PU-1mE1xuH5A",
        "colab": {
          "base_uri": "https://localhost:8080/"
        },
        "outputId": "e34146a2-7989-4787-d70e-ca0fdffa2973"
      },
      "source": [
        "print(my_list)"
      ],
      "execution_count": 80,
      "outputs": [
        {
          "output_type": "stream",
          "name": "stdout",
          "text": [
            "[1, 2, 3, 1, 1, 1, 3, 10, 5, 8, 'Append me!', 2.73, [1, 2, 3], [10, [19, 20], 30], 'Wubba', 'Lubba', 'Dub Dub']\n"
          ]
        }
      ]
    },
    {
      "cell_type": "code",
      "metadata": {
        "colab": {
          "base_uri": "https://localhost:8080/"
        },
        "id": "hQo7GQA0aDIz",
        "outputId": "0a292aab-0589-400f-a410-c101d85e3e81"
      },
      "source": [
        "len(my_list)"
      ],
      "execution_count": 81,
      "outputs": [
        {
          "output_type": "execute_result",
          "data": {
            "text/plain": [
              "17"
            ]
          },
          "metadata": {},
          "execution_count": 81
        }
      ]
    },
    {
      "cell_type": "markdown",
      "metadata": {
        "id": "rshOIKENuH5F"
      },
      "source": [
        "### <code>pop()</code>\n",
        "\n",
        "* Use <code>pop()</code> to \"pop off\" an item from the list. \n",
        "\n",
        "\n",
        "* By default <code>pop()</code> takes off the element at the last index, but you can also specify which index to pop off. \n",
        "\n",
        "\n",
        "* <code>pop()</code> takes the index as an argument and returns the elenent which was popped off."
      ]
    },
    {
      "cell_type": "code",
      "metadata": {
        "id": "fhLzeQHYuH5G",
        "colab": {
          "base_uri": "https://localhost:8080/"
        },
        "outputId": "6ee0ad9d-eaf1-4c62-aecf-324bbba52bac"
      },
      "source": [
        "# Print the list\n",
        "print(my_list)"
      ],
      "execution_count": 82,
      "outputs": [
        {
          "output_type": "stream",
          "name": "stdout",
          "text": [
            "[1, 2, 3, 1, 1, 1, 3, 10, 5, 8, 'Append me!', 2.73, [1, 2, 3], [10, [19, 20], 30], 'Wubba', 'Lubba', 'Dub Dub']\n"
          ]
        }
      ]
    },
    {
      "cell_type": "code",
      "metadata": {
        "id": "k1OLmtIquH5M",
        "colab": {
          "base_uri": "https://localhost:8080/",
          "height": 35
        },
        "outputId": "d7e33f23-0361-4ab3-ac21-5ce160cc83c9"
      },
      "source": [
        "# Pop off the 0 indexed item\n",
        "my_list.pop()"
      ],
      "execution_count": 83,
      "outputs": [
        {
          "output_type": "execute_result",
          "data": {
            "application/vnd.google.colaboratory.intrinsic+json": {
              "type": "string"
            },
            "text/plain": [
              "'Dub Dub'"
            ]
          },
          "metadata": {},
          "execution_count": 83
        }
      ]
    },
    {
      "cell_type": "markdown",
      "metadata": {
        "id": "SNWR6QjouH5Q"
      },
      "source": [
        "* <code>pop()</code> method changes the list by popping off the element at the specified index"
      ]
    },
    {
      "cell_type": "code",
      "metadata": {
        "id": "TFiATwmXuH5R",
        "colab": {
          "base_uri": "https://localhost:8080/"
        },
        "outputId": "8db4c67f-fd98-4727-e3b1-925ac3220a51"
      },
      "source": [
        "print(my_list)"
      ],
      "execution_count": 84,
      "outputs": [
        {
          "output_type": "stream",
          "name": "stdout",
          "text": [
            "[1, 2, 3, 1, 1, 1, 3, 10, 5, 8, 'Append me!', 2.73, [1, 2, 3], [10, [19, 20], 30], 'Wubba', 'Lubba']\n"
          ]
        }
      ]
    },
    {
      "cell_type": "code",
      "metadata": {
        "id": "33cAUa7wuH5V",
        "colab": {
          "base_uri": "https://localhost:8080/",
          "height": 35
        },
        "outputId": "697dd5df-ee51-4632-b2af-b2b5fc86a74f"
      },
      "source": [
        "# Assign the popped element, remember default popped index is -1\n",
        "my_list.pop(-1)"
      ],
      "execution_count": 85,
      "outputs": [
        {
          "output_type": "execute_result",
          "data": {
            "application/vnd.google.colaboratory.intrinsic+json": {
              "type": "string"
            },
            "text/plain": [
              "'Lubba'"
            ]
          },
          "metadata": {},
          "execution_count": 85
        }
      ]
    },
    {
      "cell_type": "code",
      "metadata": {
        "id": "qX6eae3UuH5c",
        "colab": {
          "base_uri": "https://localhost:8080/"
        },
        "outputId": "34349646-4174-4d24-d2e8-caad3902abfa"
      },
      "source": [
        "len(my_list)"
      ],
      "execution_count": 86,
      "outputs": [
        {
          "output_type": "execute_result",
          "data": {
            "text/plain": [
              "15"
            ]
          },
          "metadata": {},
          "execution_count": 86
        }
      ]
    },
    {
      "cell_type": "code",
      "metadata": {
        "id": "pHi_Ws8uw0w0",
        "colab": {
          "base_uri": "https://localhost:8080/"
        },
        "outputId": "0594387e-88f0-40a0-c3c9-7e43f0b84823"
      },
      "source": [
        "print(my_list)"
      ],
      "execution_count": 87,
      "outputs": [
        {
          "output_type": "stream",
          "name": "stdout",
          "text": [
            "[1, 2, 3, 1, 1, 1, 3, 10, 5, 8, 'Append me!', 2.73, [1, 2, 3], [10, [19, 20], 30], 'Wubba']\n"
          ]
        }
      ]
    },
    {
      "cell_type": "markdown",
      "metadata": {
        "id": "YBAQ1FyQuH5f"
      },
      "source": [
        "### <code>remove()</code>\n",
        "\n",
        "* Use <code>remove()</code> to remove an item/element from the list. \n",
        "\n",
        "\n",
        "* By default <code>remove()</code> removes the specified element from the list.\n",
        "\n",
        "\n",
        "* <code>remove()</code> takes the element as an argument."
      ]
    },
    {
      "cell_type": "code",
      "metadata": {
        "id": "j9pp3cEJuH5g",
        "colab": {
          "base_uri": "https://localhost:8080/"
        },
        "outputId": "be3cac80-2cbb-473e-a6f1-faca9e2ef436"
      },
      "source": [
        "# Print the list\n",
        "print(my_list)"
      ],
      "execution_count": 88,
      "outputs": [
        {
          "output_type": "stream",
          "name": "stdout",
          "text": [
            "[1, 2, 3, 1, 1, 1, 3, 10, 5, 8, 'Append me!', 2.73, [1, 2, 3], [10, [19, 20], 30], 'Wubba']\n"
          ]
        }
      ]
    },
    {
      "cell_type": "code",
      "metadata": {
        "id": "pTPu7lszuH5j"
      },
      "source": [
        "# Remove the element which you want to \n",
        "my_list.remove([10, [19, 20], 30])"
      ],
      "execution_count": 89,
      "outputs": []
    },
    {
      "cell_type": "code",
      "metadata": {
        "id": "wI2Yz2UYuH5p",
        "colab": {
          "base_uri": "https://localhost:8080/"
        },
        "outputId": "856aa41f-afc4-4a92-ca7a-3ad87eea25b8"
      },
      "source": [
        "# Show\n",
        "print(my_list)"
      ],
      "execution_count": 90,
      "outputs": [
        {
          "output_type": "stream",
          "name": "stdout",
          "text": [
            "[1, 2, 3, 1, 1, 1, 3, 10, 5, 8, 'Append me!', 2.73, [1, 2, 3], 'Wubba']\n"
          ]
        }
      ]
    },
    {
      "cell_type": "code",
      "metadata": {
        "id": "OWn2q_6cxYo2"
      },
      "source": [
        "my_list.remove([1,2,3])"
      ],
      "execution_count": 91,
      "outputs": []
    },
    {
      "cell_type": "code",
      "metadata": {
        "id": "D_duqvRJxd16",
        "colab": {
          "base_uri": "https://localhost:8080/"
        },
        "outputId": "4a6720e2-4637-4e93-ebb8-73f8db92afaa"
      },
      "source": [
        "print(my_list)"
      ],
      "execution_count": 92,
      "outputs": [
        {
          "output_type": "stream",
          "name": "stdout",
          "text": [
            "[1, 2, 3, 1, 1, 1, 3, 10, 5, 8, 'Append me!', 2.73, 'Wubba']\n"
          ]
        }
      ]
    },
    {
      "cell_type": "code",
      "metadata": {
        "id": "i8h8-qVtxhPI",
        "colab": {
          "base_uri": "https://localhost:8080/"
        },
        "outputId": "f906694f-881f-44e1-d754-0df8ed2a1a05"
      },
      "source": [
        "len(my_list)"
      ],
      "execution_count": 93,
      "outputs": [
        {
          "output_type": "execute_result",
          "data": {
            "text/plain": [
              "13"
            ]
          },
          "metadata": {},
          "execution_count": 93
        }
      ]
    },
    {
      "cell_type": "code",
      "metadata": {
        "id": "f5-UZ88Exwth"
      },
      "source": [
        "my_list.remove(1)"
      ],
      "execution_count": 94,
      "outputs": []
    },
    {
      "cell_type": "code",
      "metadata": {
        "id": "d3WxCp0Cxzty",
        "colab": {
          "base_uri": "https://localhost:8080/"
        },
        "outputId": "cca0d78c-60c0-4d75-bd96-c807a921316d"
      },
      "source": [
        "print(my_list)"
      ],
      "execution_count": 95,
      "outputs": [
        {
          "output_type": "stream",
          "name": "stdout",
          "text": [
            "[2, 3, 1, 1, 1, 3, 10, 5, 8, 'Append me!', 2.73, 'Wubba']\n"
          ]
        }
      ]
    },
    {
      "cell_type": "code",
      "metadata": {
        "id": "4ewbAKKhx-vS",
        "colab": {
          "base_uri": "https://localhost:8080/"
        },
        "outputId": "3d36ec03-3153-4c23-a640-fe4623a3916b"
      },
      "source": [
        "len(my_list)"
      ],
      "execution_count": 96,
      "outputs": [
        {
          "output_type": "execute_result",
          "data": {
            "text/plain": [
              "12"
            ]
          },
          "metadata": {},
          "execution_count": 96
        }
      ]
    },
    {
      "cell_type": "code",
      "metadata": {
        "id": "-gey8zXHcsH5",
        "colab": {
          "base_uri": "https://localhost:8080/"
        },
        "outputId": "fd2a548b-9de4-4ecc-af36-9eeec5abbf23"
      },
      "source": [
        "my_list.clear"
      ],
      "execution_count": 97,
      "outputs": [
        {
          "output_type": "execute_result",
          "data": {
            "text/plain": [
              "<function list.clear>"
            ]
          },
          "metadata": {},
          "execution_count": 97
        }
      ]
    },
    {
      "cell_type": "markdown",
      "metadata": {
        "id": "Wheg57npuH5t"
      },
      "source": [
        "### <code>count()</code>\n",
        "\n",
        "\n",
        "* The <code>count()</code> method returns the total occurrence of a specified element in the list"
      ]
    },
    {
      "cell_type": "code",
      "metadata": {
        "id": "ECnUwg_eyG47",
        "colab": {
          "base_uri": "https://localhost:8080/"
        },
        "outputId": "e7a7f669-4c26-4aad-ef5d-ace36bb0f715"
      },
      "source": [
        "print(my_list)"
      ],
      "execution_count": 98,
      "outputs": [
        {
          "output_type": "stream",
          "name": "stdout",
          "text": [
            "[2, 3, 1, 1, 1, 3, 10, 5, 8, 'Append me!', 2.73, 'Wubba']\n"
          ]
        }
      ]
    },
    {
      "cell_type": "code",
      "metadata": {
        "id": "v62QCGFTuH5u",
        "colab": {
          "base_uri": "https://localhost:8080/"
        },
        "outputId": "8d700908-793e-4b5c-e61a-57deb7bd485b"
      },
      "source": [
        "# Count the number of times element 1 occurs in my_list\n",
        "my_list.count('Wubba')"
      ],
      "execution_count": 99,
      "outputs": [
        {
          "output_type": "execute_result",
          "data": {
            "text/plain": [
              "1"
            ]
          },
          "metadata": {},
          "execution_count": 99
        }
      ]
    },
    {
      "cell_type": "code",
      "metadata": {
        "id": "LA3k4qScuH5z",
        "colab": {
          "base_uri": "https://localhost:8080/"
        },
        "outputId": "58130db3-a638-4060-8612-39ab2321b776"
      },
      "source": [
        "my_list.count(1)"
      ],
      "execution_count": 100,
      "outputs": [
        {
          "output_type": "execute_result",
          "data": {
            "text/plain": [
              "3"
            ]
          },
          "metadata": {},
          "execution_count": 100
        }
      ]
    },
    {
      "cell_type": "markdown",
      "metadata": {
        "id": "avyykdGjuH52"
      },
      "source": [
        "### <code>index()</code>\n",
        "\n",
        "\n",
        "* The <code>index()</code> method returns the index of a specified element."
      ]
    },
    {
      "cell_type": "code",
      "metadata": {
        "id": "78Mc3vSuydeb",
        "colab": {
          "base_uri": "https://localhost:8080/"
        },
        "outputId": "0528f14a-99f9-4951-d465-95f8b53d21af"
      },
      "source": [
        "print(my_list)"
      ],
      "execution_count": 101,
      "outputs": [
        {
          "output_type": "stream",
          "name": "stdout",
          "text": [
            "[2, 3, 1, 1, 1, 3, 10, 5, 8, 'Append me!', 2.73, 'Wubba']\n"
          ]
        }
      ]
    },
    {
      "cell_type": "code",
      "metadata": {
        "id": "ziOkTs68uH52",
        "colab": {
          "base_uri": "https://localhost:8080/"
        },
        "outputId": "b69c6be7-f8d9-46ae-f5d2-32b7e4fc7110"
      },
      "source": [
        "my_list.index('Wubba')"
      ],
      "execution_count": 102,
      "outputs": [
        {
          "output_type": "execute_result",
          "data": {
            "text/plain": [
              "11"
            ]
          },
          "metadata": {},
          "execution_count": 102
        }
      ]
    },
    {
      "cell_type": "code",
      "metadata": {
        "id": "k-ByxvTYuH54",
        "colab": {
          "base_uri": "https://localhost:8080/"
        },
        "outputId": "0f636793-6ba2-4f81-981c-699e54f99946"
      },
      "source": [
        "my_list.index(3)"
      ],
      "execution_count": 103,
      "outputs": [
        {
          "output_type": "execute_result",
          "data": {
            "text/plain": [
              "1"
            ]
          },
          "metadata": {},
          "execution_count": 103
        }
      ]
    },
    {
      "cell_type": "markdown",
      "metadata": {
        "id": "f4JqHtEouH57"
      },
      "source": [
        "### <code>sort()</code>\n",
        "\n",
        "* Use <code>sort()</code> to sort the list in either ascending/descending order\n",
        "\n",
        "\n",
        "* The sorting is done in ascending order by default\n",
        "\n",
        "\n",
        "* <code>sort()</code> method takes the reverse boolean as an argument\n",
        "\n",
        "\n",
        "* <code>sort()</code> method only works on a list with elements of same data type"
      ]
    },
    {
      "cell_type": "code",
      "metadata": {
        "id": "yOIhOzjruH57"
      },
      "source": [
        "new_list = [6, 9, 1, 3, 5]"
      ],
      "execution_count": 104,
      "outputs": []
    },
    {
      "cell_type": "code",
      "metadata": {
        "id": "VhPOveeYuH59"
      },
      "source": [
        "# Use sort to sort the list (this is permanent!)\n",
        "new_list.sort()"
      ],
      "execution_count": 105,
      "outputs": []
    },
    {
      "cell_type": "code",
      "metadata": {
        "id": "iw_PGYFmuH6S",
        "colab": {
          "base_uri": "https://localhost:8080/"
        },
        "outputId": "05b73668-27cd-45c1-8909-1e3b6581afa1"
      },
      "source": [
        "print(new_list)"
      ],
      "execution_count": 106,
      "outputs": [
        {
          "output_type": "stream",
          "name": "stdout",
          "text": [
            "[1, 3, 5, 6, 9]\n"
          ]
        }
      ]
    },
    {
      "cell_type": "code",
      "metadata": {
        "id": "7G1nOh1VuH6U",
        "colab": {
          "base_uri": "https://localhost:8080/"
        },
        "outputId": "62751c29-0a1c-47c9-97dd-ff686a10bdcb"
      },
      "source": [
        "# Use the reverse boolean to set the ascending or descending order\n",
        "new_list.sort(reverse=True)\n",
        "print(new_list)"
      ],
      "execution_count": 107,
      "outputs": [
        {
          "output_type": "stream",
          "name": "stdout",
          "text": [
            "[9, 6, 5, 3, 1]\n"
          ]
        }
      ]
    },
    {
      "cell_type": "code",
      "metadata": {
        "id": "QIoFBvqOzosU"
      },
      "source": [
        "boolean_list = [True, False]"
      ],
      "execution_count": 108,
      "outputs": []
    },
    {
      "cell_type": "code",
      "metadata": {
        "id": "tqENLXmJzueH"
      },
      "source": [
        "boolean_list.sort(reverse=True)"
      ],
      "execution_count": 109,
      "outputs": []
    },
    {
      "cell_type": "code",
      "metadata": {
        "id": "O6MiKYnMzxvD",
        "colab": {
          "base_uri": "https://localhost:8080/"
        },
        "outputId": "677fb514-4227-4e71-b606-0a4a2d7b8ac3"
      },
      "source": [
        "print(boolean_list)"
      ],
      "execution_count": 110,
      "outputs": [
        {
          "output_type": "stream",
          "name": "stdout",
          "text": [
            "[True, False]\n"
          ]
        }
      ]
    },
    {
      "cell_type": "markdown",
      "metadata": {
        "id": "-PKIGd9xuH6a"
      },
      "source": [
        "### <code>reverse()</code>\n",
        "\n",
        "* <code>reverse()</code> method reverses the list"
      ]
    },
    {
      "cell_type": "code",
      "metadata": {
        "id": "0Z_IZuJeuH6d"
      },
      "source": [
        "my_list = [1, 1, 1, 1, 1.43, 2, 3, 3, 5, 8, 10, 'Lubba', 'Dub Dub']"
      ],
      "execution_count": 111,
      "outputs": []
    },
    {
      "cell_type": "code",
      "metadata": {
        "id": "idf-jZVG0FWq",
        "colab": {
          "base_uri": "https://localhost:8080/"
        },
        "outputId": "3494b515-0218-4d3b-f65d-71090a91614f"
      },
      "source": [
        "print(my_list)"
      ],
      "execution_count": 112,
      "outputs": [
        {
          "output_type": "stream",
          "name": "stdout",
          "text": [
            "[1, 1, 1, 1, 1.43, 2, 3, 3, 5, 8, 10, 'Lubba', 'Dub Dub']\n"
          ]
        }
      ]
    },
    {
      "cell_type": "code",
      "metadata": {
        "id": "XlHNzFuWuH6f"
      },
      "source": [
        "my_list.reverse()"
      ],
      "execution_count": 113,
      "outputs": []
    },
    {
      "cell_type": "code",
      "metadata": {
        "id": "EIjRqvMsuH6h",
        "colab": {
          "base_uri": "https://localhost:8080/"
        },
        "outputId": "2af4677b-b3f6-402e-a51e-9aafec5cf725"
      },
      "source": [
        "print(my_list)"
      ],
      "execution_count": 114,
      "outputs": [
        {
          "output_type": "stream",
          "name": "stdout",
          "text": [
            "['Dub Dub', 'Lubba', 10, 8, 5, 3, 3, 2, 1.43, 1, 1, 1, 1]\n"
          ]
        }
      ]
    },
    {
      "cell_type": "markdown",
      "metadata": {
        "id": "Kflrg7Y0uH6j"
      },
      "source": [
        "## Nested Lists\n",
        "\n",
        "* A great feature of of Python data structures is that they support *nesting*. This means we can have data structures within data structures. For example: A list inside a list."
      ]
    },
    {
      "cell_type": "code",
      "metadata": {
        "id": "fcP7eX_buH6j"
      },
      "source": [
        "# Let's make three lists\n",
        "lst_1=[1,2,3]\n",
        "lst_2=['b','a','d']\n",
        "lst_3=[7,8,9]\n",
        "\n",
        "# Make a list of lists to form a matrix\n",
        "list_of_lists = [lst_1,lst_2,lst_3]"
      ],
      "execution_count": 115,
      "outputs": []
    },
    {
      "cell_type": "code",
      "metadata": {
        "id": "ZW98bxOcuH6l",
        "colab": {
          "base_uri": "https://localhost:8080/"
        },
        "outputId": "d5f30b6a-d112-4b2f-c4bb-1b38a581a0e3"
      },
      "source": [
        "print(list_of_lists)"
      ],
      "execution_count": 116,
      "outputs": [
        {
          "output_type": "stream",
          "name": "stdout",
          "text": [
            "[[1, 2, 3], ['b', 'a', 'd'], [7, 8, 9]]\n"
          ]
        }
      ]
    },
    {
      "cell_type": "code",
      "metadata": {
        "id": "LCsNZqhiuH6o",
        "colab": {
          "base_uri": "https://localhost:8080/"
        },
        "outputId": "e8794396-3dd1-4330-f52f-d3d12b88f7c5"
      },
      "source": [
        "# Show\n",
        "type(list_of_lists)"
      ],
      "execution_count": 117,
      "outputs": [
        {
          "output_type": "execute_result",
          "data": {
            "text/plain": [
              "list"
            ]
          },
          "metadata": {},
          "execution_count": 117
        }
      ]
    },
    {
      "cell_type": "code",
      "metadata": {
        "id": "b0RVu1A9uH6r",
        "colab": {
          "base_uri": "https://localhost:8080/"
        },
        "outputId": "af3d0f4c-a46d-4604-d87f-32830b3da540"
      },
      "source": [
        "# Grab first item in matrix object\n",
        "list_of_lists[1]"
      ],
      "execution_count": 118,
      "outputs": [
        {
          "output_type": "execute_result",
          "data": {
            "text/plain": [
              "['b', 'a', 'd']"
            ]
          },
          "metadata": {},
          "execution_count": 118
        }
      ]
    },
    {
      "cell_type": "code",
      "metadata": {
        "id": "HXVZtlY3uH6u",
        "colab": {
          "base_uri": "https://localhost:8080/"
        },
        "outputId": "1126a51d-3aac-4ee4-b4d7-339ba3170ca2"
      },
      "source": [
        "# Grab first item of the first item in the matrix object\n",
        "list_of_lists[1]"
      ],
      "execution_count": 119,
      "outputs": [
        {
          "output_type": "execute_result",
          "data": {
            "text/plain": [
              "['b', 'a', 'd']"
            ]
          },
          "metadata": {},
          "execution_count": 119
        }
      ]
    },
    {
      "cell_type": "code",
      "metadata": {
        "id": "4B52LBDjOSIz",
        "colab": {
          "base_uri": "https://localhost:8080/",
          "height": 130
        },
        "outputId": "bce376f3-ac7c-4d9c-a7d6-c2bc048d1cdf"
      },
      "source": [
        "list_of_lists[1][1][][][]"
      ],
      "execution_count": 120,
      "outputs": [
        {
          "output_type": "error",
          "ename": "SyntaxError",
          "evalue": "ignored",
          "traceback": [
            "\u001b[0;36m  File \u001b[0;32m\"<ipython-input-120-4fc8238f6d77>\"\u001b[0;36m, line \u001b[0;32m1\u001b[0m\n\u001b[0;31m    list_of_lists[1][1][][][]\u001b[0m\n\u001b[0m                        ^\u001b[0m\n\u001b[0;31mSyntaxError\u001b[0m\u001b[0;31m:\u001b[0m invalid syntax\n"
          ]
        }
      ]
    },
    {
      "cell_type": "code",
      "metadata": {
        "id": "iC2D0SZCfV9n"
      },
      "source": [
        ""
      ],
      "execution_count": null,
      "outputs": []
    }
  ]
}